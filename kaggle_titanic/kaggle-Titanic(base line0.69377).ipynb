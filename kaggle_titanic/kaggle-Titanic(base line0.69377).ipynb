{
 "cells": [
  {
   "cell_type": "markdown",
   "metadata": {},
   "source": [
    "# 实战 Kaggle 比赛：鐵達尼號"
   ]
  },
  {
   "cell_type": "markdown",
   "metadata": {
    "ExecuteTime": {
     "end_time": "2019-01-20T12:50:16.146613Z",
     "start_time": "2019-01-20T12:50:15.734138Z"
    }
   },
   "source": [
    "原始資料集：  \n",
    "train_dataset :(891,12)  \n",
    "test_dataset :(418,11)  \n",
    "保留待預測生存欄位：   \n",
    "X = train_dataset.append(test_dataset):(1309,12)  \n",
    "y = train_dataset.Survived:(891,)  \n",
    "合併SibSp及Parch成Family  \n",
    "X['Family'] = X['SibSp'] + X['Parch']  \n",
    "X.drop('SibSp', 1, inplace=True) \n",
    "X.drop('Parch', 1, inplace=True)  \n",
    "X:(1309,11)  \n",
    "刪除Name,Ticket:  \n",
    "#先去除較無意義的非數值資料 name ticket  \n",
    "del X['Name'],X['Ticket']  \n",
    "刪除待預測欄位：  \n",
    "del X['Survived']  \n",
    "X:(1309,8)  \n",
    "X_train=X.head(891)#要把之前合併處理的資料搬出來，訓練與測試集數目才會一樣  \n",
    "y_train=X_train.PassengerId  \n",
    "del X_train['PassengerId']  \n",
    "X_train:(891,7)  \n",
    "y_train:之前跟X合併整理的418個欄位\n",
    "y_train:418  \n",
    "y_test=test_dataset['PassengerId']   \n",
    "y_test:(418,)"
   ]
  },
  {
   "cell_type": "markdown",
   "metadata": {},
   "source": [
    "## 0.引入所需模組與必要的資料集"
   ]
  },
  {
   "cell_type": "code",
   "execution_count": 2,
   "metadata": {
    "ExecuteTime": {
     "end_time": "2019-01-21T14:40:44.802453Z",
     "start_time": "2019-01-21T14:40:22.714665Z"
    },
    "cell_style": "center"
   },
   "outputs": [],
   "source": [
    "import numpy as np\n",
    "import pandas as pd\n",
    "import seaborn as sns\n",
    "import matplotlib.pyplot as plt\n",
    "import warnings\n",
    "\n",
    "from scipy import stats\n",
    "\n",
    "\n",
    "\n",
    "warnings.filterwarnings('ignore')\n",
    "sns.set_style('whitegrid')\n",
    "\n",
    "%matplotlib inline\n",
    "train_dataset = pd.read_csv('../../data/kaggle_titanic/train.csv')\n",
    "test_dataset = pd.read_csv('../../data/kaggle_titanic/test.csv')"
   ]
  },
  {
   "cell_type": "code",
   "execution_count": 6,
   "metadata": {
    "ExecuteTime": {
     "end_time": "2019-01-21T12:30:47.568230Z",
     "start_time": "2019-01-21T12:30:47.564394Z"
    }
   },
   "outputs": [],
   "source": [
    "from sklearn.linear_model import LogisticRegression\n",
    "from sklearn.model_selection import GridSearchCV\n",
    "from sklearn.ensemble import RandomForestRegressor\n",
    "from sklearn.model_selection import RandomizedSearchCV\n",
    "from sklearn.model_selection import learning_curve"
   ]
  },
  {
   "cell_type": "markdown",
   "metadata": {},
   "source": [
    "## 1.查看資料\n",
    "1.形態、架構   \n",
    "info()：資料長寬，型態，各型態個數    \n",
    "describe():數值資料的分佈  \n",
    "describe(include=['O']):O代表object查看非數值資料  \n",
    "isnull()：看資料缺值個數  \n",
    " \n"
   ]
  },
  {
   "cell_type": "code",
   "execution_count": 7,
   "metadata": {
    "ExecuteTime": {
     "end_time": "2019-01-21T12:31:31.215036Z",
     "start_time": "2019-01-21T12:31:31.199004Z"
    }
   },
   "outputs": [
    {
     "name": "stdout",
     "output_type": "stream",
     "text": [
      "---training_data---\n",
      "<class 'pandas.core.frame.DataFrame'>\n",
      "RangeIndex: 891 entries, 0 to 890\n",
      "Data columns (total 12 columns):\n",
      "PassengerId    891 non-null int64\n",
      "Survived       891 non-null int64\n",
      "Pclass         891 non-null int64\n",
      "Name           891 non-null object\n",
      "Sex            891 non-null object\n",
      "Age            714 non-null float64\n",
      "SibSp          891 non-null int64\n",
      "Parch          891 non-null int64\n",
      "Ticket         891 non-null object\n",
      "Fare           891 non-null float64\n",
      "Cabin          204 non-null object\n",
      "Embarked       889 non-null object\n",
      "dtypes: float64(2), int64(5), object(5)\n",
      "memory usage: 83.6+ KB\n",
      "---testing_data---\n",
      "<class 'pandas.core.frame.DataFrame'>\n",
      "RangeIndex: 418 entries, 0 to 417\n",
      "Data columns (total 11 columns):\n",
      "PassengerId    418 non-null int64\n",
      "Pclass         418 non-null int64\n",
      "Name           418 non-null object\n",
      "Sex            418 non-null object\n",
      "Age            332 non-null float64\n",
      "SibSp          418 non-null int64\n",
      "Parch          418 non-null int64\n",
      "Ticket         418 non-null object\n",
      "Fare           417 non-null float64\n",
      "Cabin          91 non-null object\n",
      "Embarked       418 non-null object\n",
      "dtypes: float64(2), int64(4), object(5)\n",
      "memory usage: 36.0+ KB\n"
     ]
    }
   ],
   "source": [
    "print(\"---training_data---\")\n",
    "train_dataset.info()\n",
    "print(\"---testing_data---\")\n",
    "test_dataset.info()"
   ]
  },
  {
   "cell_type": "code",
   "execution_count": 8,
   "metadata": {
    "ExecuteTime": {
     "end_time": "2019-01-21T12:31:43.463189Z",
     "start_time": "2019-01-21T12:31:43.407976Z"
    },
    "scrolled": true
   },
   "outputs": [
    {
     "name": "stdout",
     "output_type": "stream",
     "text": [
      "---training_data---\n",
      "---testing_data---\n"
     ]
    },
    {
     "data": {
      "text/html": [
       "<div>\n",
       "<style scoped>\n",
       "    .dataframe tbody tr th:only-of-type {\n",
       "        vertical-align: middle;\n",
       "    }\n",
       "\n",
       "    .dataframe tbody tr th {\n",
       "        vertical-align: top;\n",
       "    }\n",
       "\n",
       "    .dataframe thead th {\n",
       "        text-align: right;\n",
       "    }\n",
       "</style>\n",
       "<table border=\"1\" class=\"dataframe\">\n",
       "  <thead>\n",
       "    <tr style=\"text-align: right;\">\n",
       "      <th></th>\n",
       "      <th>PassengerId</th>\n",
       "      <th>Pclass</th>\n",
       "      <th>Age</th>\n",
       "      <th>SibSp</th>\n",
       "      <th>Parch</th>\n",
       "      <th>Fare</th>\n",
       "    </tr>\n",
       "  </thead>\n",
       "  <tbody>\n",
       "    <tr>\n",
       "      <th>count</th>\n",
       "      <td>418.000000</td>\n",
       "      <td>418.000000</td>\n",
       "      <td>332.000000</td>\n",
       "      <td>418.000000</td>\n",
       "      <td>418.000000</td>\n",
       "      <td>417.000000</td>\n",
       "    </tr>\n",
       "    <tr>\n",
       "      <th>mean</th>\n",
       "      <td>1100.500000</td>\n",
       "      <td>2.265550</td>\n",
       "      <td>30.272590</td>\n",
       "      <td>0.447368</td>\n",
       "      <td>0.392344</td>\n",
       "      <td>35.627188</td>\n",
       "    </tr>\n",
       "    <tr>\n",
       "      <th>std</th>\n",
       "      <td>120.810458</td>\n",
       "      <td>0.841838</td>\n",
       "      <td>14.181209</td>\n",
       "      <td>0.896760</td>\n",
       "      <td>0.981429</td>\n",
       "      <td>55.907576</td>\n",
       "    </tr>\n",
       "    <tr>\n",
       "      <th>min</th>\n",
       "      <td>892.000000</td>\n",
       "      <td>1.000000</td>\n",
       "      <td>0.170000</td>\n",
       "      <td>0.000000</td>\n",
       "      <td>0.000000</td>\n",
       "      <td>0.000000</td>\n",
       "    </tr>\n",
       "    <tr>\n",
       "      <th>25%</th>\n",
       "      <td>996.250000</td>\n",
       "      <td>1.000000</td>\n",
       "      <td>21.000000</td>\n",
       "      <td>0.000000</td>\n",
       "      <td>0.000000</td>\n",
       "      <td>7.895800</td>\n",
       "    </tr>\n",
       "    <tr>\n",
       "      <th>50%</th>\n",
       "      <td>1100.500000</td>\n",
       "      <td>3.000000</td>\n",
       "      <td>27.000000</td>\n",
       "      <td>0.000000</td>\n",
       "      <td>0.000000</td>\n",
       "      <td>14.454200</td>\n",
       "    </tr>\n",
       "    <tr>\n",
       "      <th>75%</th>\n",
       "      <td>1204.750000</td>\n",
       "      <td>3.000000</td>\n",
       "      <td>39.000000</td>\n",
       "      <td>1.000000</td>\n",
       "      <td>0.000000</td>\n",
       "      <td>31.500000</td>\n",
       "    </tr>\n",
       "    <tr>\n",
       "      <th>max</th>\n",
       "      <td>1309.000000</td>\n",
       "      <td>3.000000</td>\n",
       "      <td>76.000000</td>\n",
       "      <td>8.000000</td>\n",
       "      <td>9.000000</td>\n",
       "      <td>512.329200</td>\n",
       "    </tr>\n",
       "  </tbody>\n",
       "</table>\n",
       "</div>"
      ],
      "text/plain": [
       "       PassengerId      Pclass         Age       SibSp       Parch        Fare\n",
       "count   418.000000  418.000000  332.000000  418.000000  418.000000  417.000000\n",
       "mean   1100.500000    2.265550   30.272590    0.447368    0.392344   35.627188\n",
       "std     120.810458    0.841838   14.181209    0.896760    0.981429   55.907576\n",
       "min     892.000000    1.000000    0.170000    0.000000    0.000000    0.000000\n",
       "25%     996.250000    1.000000   21.000000    0.000000    0.000000    7.895800\n",
       "50%    1100.500000    3.000000   27.000000    0.000000    0.000000   14.454200\n",
       "75%    1204.750000    3.000000   39.000000    1.000000    0.000000   31.500000\n",
       "max    1309.000000    3.000000   76.000000    8.000000    9.000000  512.329200"
      ]
     },
     "execution_count": 8,
     "metadata": {},
     "output_type": "execute_result"
    }
   ],
   "source": [
    "print(\"---training_data---\")\n",
    "train_dataset.describe()\n",
    "print(\"---testing_data---\")\n",
    "test_dataset.describe()"
   ]
  },
  {
   "cell_type": "code",
   "execution_count": 9,
   "metadata": {
    "ExecuteTime": {
     "end_time": "2019-01-21T12:31:58.055593Z",
     "start_time": "2019-01-21T12:31:57.341756Z"
    }
   },
   "outputs": [
    {
     "name": "stdout",
     "output_type": "stream",
     "text": [
      "---training_data---\n",
      "---testing_data---\n"
     ]
    },
    {
     "data": {
      "text/html": [
       "<div>\n",
       "<style scoped>\n",
       "    .dataframe tbody tr th:only-of-type {\n",
       "        vertical-align: middle;\n",
       "    }\n",
       "\n",
       "    .dataframe tbody tr th {\n",
       "        vertical-align: top;\n",
       "    }\n",
       "\n",
       "    .dataframe thead th {\n",
       "        text-align: right;\n",
       "    }\n",
       "</style>\n",
       "<table border=\"1\" class=\"dataframe\">\n",
       "  <thead>\n",
       "    <tr style=\"text-align: right;\">\n",
       "      <th></th>\n",
       "      <th>Name</th>\n",
       "      <th>Sex</th>\n",
       "      <th>Ticket</th>\n",
       "      <th>Cabin</th>\n",
       "      <th>Embarked</th>\n",
       "    </tr>\n",
       "  </thead>\n",
       "  <tbody>\n",
       "    <tr>\n",
       "      <th>count</th>\n",
       "      <td>418</td>\n",
       "      <td>418</td>\n",
       "      <td>418</td>\n",
       "      <td>91</td>\n",
       "      <td>418</td>\n",
       "    </tr>\n",
       "    <tr>\n",
       "      <th>unique</th>\n",
       "      <td>418</td>\n",
       "      <td>2</td>\n",
       "      <td>363</td>\n",
       "      <td>76</td>\n",
       "      <td>3</td>\n",
       "    </tr>\n",
       "    <tr>\n",
       "      <th>top</th>\n",
       "      <td>Dennis, Mr. William</td>\n",
       "      <td>male</td>\n",
       "      <td>PC 17608</td>\n",
       "      <td>B57 B59 B63 B66</td>\n",
       "      <td>S</td>\n",
       "    </tr>\n",
       "    <tr>\n",
       "      <th>freq</th>\n",
       "      <td>1</td>\n",
       "      <td>266</td>\n",
       "      <td>5</td>\n",
       "      <td>3</td>\n",
       "      <td>270</td>\n",
       "    </tr>\n",
       "  </tbody>\n",
       "</table>\n",
       "</div>"
      ],
      "text/plain": [
       "                       Name   Sex    Ticket            Cabin Embarked\n",
       "count                   418   418       418               91      418\n",
       "unique                  418     2       363               76        3\n",
       "top     Dennis, Mr. William  male  PC 17608  B57 B59 B63 B66        S\n",
       "freq                      1   266         5                3      270"
      ]
     },
     "execution_count": 9,
     "metadata": {},
     "output_type": "execute_result"
    }
   ],
   "source": [
    "print(\"---training_data---\")\n",
    "train_dataset.describe(include=['O'])\n",
    "print(\"---testing_data---\")\n",
    "test_dataset.describe(include=['O'])"
   ]
  },
  {
   "cell_type": "markdown",
   "metadata": {},
   "source": [
    "有用：  \n",
    "survival:是否存活[0,1]，預測目標  \n",
    "pclass:船票等級[1,2,3]  \n",
    "sex:性別  \n",
    "age:年齡  \n",
    "sibsp:平輩數目sibling兄弟,spouses夫妻   \n",
    "#Spouse =husband, wife (mistresses情婦 and fiancés未婚夫 were ignored)   \n",
    "parch:長晚輩數目parent,children  \n",
    "ticket:船票編號\n",
    "fare:票價\n",
    "cabin:船艙號碼  \n",
    "embarked:登陸港口[c,q,s] \n",
    "\n",
    "用處不大：  \n",
    "passengerId:乘客Id，應該都是unique \n",
    "name:姓名  "
   ]
  },
  {
   "cell_type": "code",
   "execution_count": 8,
   "metadata": {
    "ExecuteTime": {
     "end_time": "2019-01-20T13:43:27.044600Z",
     "start_time": "2019-01-20T13:43:24.058727Z"
    }
   },
   "outputs": [
    {
     "data": {
      "text/plain": [
       "Text(0.5, 1.0, 'train feature corr')"
      ]
     },
     "execution_count": 8,
     "metadata": {},
     "output_type": "execute_result"
    },
    {
     "data": {
      "image/png": "[encoded data removed]",
      "text/plain": [
       "<Figure size 720x432 with 2 Axes>"
      ]
     },
     "metadata": {},
     "output_type": "display_data"
    }
   ],
   "source": [
    "sns.set(context=\"paper\", font=\"monospace\")\n",
    "sns.set(style=\"white\")\n",
    "f, ax = plt.subplots(figsize=(10,6))\n",
    "train_corr = train_dataset.drop('PassengerId',axis=1).corr()\n",
    "sns.heatmap(train_corr, ax=ax, vmax=.9, square=True)\n",
    "ax.set_xticklabels(train_corr.index, size=15)\n",
    "ax.set_yticklabels(train_corr.columns[::-1], size=15)\n",
    "ax.set_title('train feature corr', fontsize=20)"
   ]
  },
  {
   "cell_type": "markdown",
   "metadata": {},
   "source": [
    "正相關：  \n",
    "1.票價跟獲救  \n",
    "2.父母小孩數跟階級  \n",
    "3.兄弟姊妹跟年齡  \n",
    "負相關；  \n",
    "1.階級跟獲救  \n",
    "2.父母小孩數跟票價   "
   ]
  },
  {
   "cell_type": "code",
   "execution_count": 16,
   "metadata": {
    "ExecuteTime": {
     "end_time": "2019-01-18T15:41:37.360197Z",
     "start_time": "2019-01-18T15:41:36.972134Z"
    }
   },
   "outputs": [
    {
     "name": "stdout",
     "output_type": "stream",
     "text": [
      "----train dataset column types information-------\n"
     ]
    },
    {
     "data": {
      "text/html": [
       "<div>\n",
       "<style scoped>\n",
       "    .dataframe tbody tr th:only-of-type {\n",
       "        vertical-align: middle;\n",
       "    }\n",
       "\n",
       "    .dataframe tbody tr th {\n",
       "        vertical-align: top;\n",
       "    }\n",
       "\n",
       "    .dataframe thead th {\n",
       "        text-align: right;\n",
       "    }\n",
       "</style>\n",
       "<table border=\"1\" class=\"dataframe\">\n",
       "  <thead>\n",
       "    <tr style=\"text-align: right;\">\n",
       "      <th></th>\n",
       "      <th>Column Type</th>\n",
       "      <th>Count</th>\n",
       "    </tr>\n",
       "  </thead>\n",
       "  <tbody>\n",
       "    <tr>\n",
       "      <th>0</th>\n",
       "      <td>int64</td>\n",
       "      <td>5</td>\n",
       "    </tr>\n",
       "    <tr>\n",
       "      <th>1</th>\n",
       "      <td>float64</td>\n",
       "      <td>2</td>\n",
       "    </tr>\n",
       "    <tr>\n",
       "      <th>2</th>\n",
       "      <td>object</td>\n",
       "      <td>5</td>\n",
       "    </tr>\n",
       "  </tbody>\n",
       "</table>\n",
       "</div>"
      ],
      "text/plain": [
       "  Column Type  Count\n",
       "0       int64      5\n",
       "1     float64      2\n",
       "2      object      5"
      ]
     },
     "execution_count": 16,
     "metadata": {},
     "output_type": "execute_result"
    }
   ],
   "source": [
    "print('----train dataset column types information-------')\n",
    "dtype_df = train_dataset.dtypes.reset_index()\n",
    "dtype_df.columns = [\"Count\", \"Column Type\"]\n",
    "dtype_df.groupby(\"Column Type\").aggregate('count').reset_index()"
   ]
  },
  {
   "cell_type": "markdown",
   "metadata": {},
   "source": [
    "## 2.分析資料\n",
    "1.處理訓練與測試集是否重疊    \n",
    "2.是否有重複值  \n",
    "3.是否有缺失值  \n",
    "4.查看各資料跟生存關係，生存欄位只有在訓練集，分析完再做之後處理   \n",
    "5.分析姓名稱呼與存活關係  \n",
    "6.分析船票與存活關係  "
   ]
  },
  {
   "cell_type": "code",
   "execution_count": 11,
   "metadata": {
    "ExecuteTime": {
     "end_time": "2019-01-21T12:34:42.608974Z",
     "start_time": "2019-01-21T12:34:42.202110Z"
    }
   },
   "outputs": [
    {
     "name": "stdout",
     "output_type": "stream",
     "text": [
      "Id is unique.\n",
      "Train and test sets are distinct.\n",
      "oops we have nan\n"
     ]
    }
   ],
   "source": [
    "print('Id is unique.') if train_dataset.PassengerId.nunique() == train_dataset.shape[0] else print('oops')\n",
    "print('Train and test sets are distinct.') if len(np.intersect1d(train_dataset.PassengerId.values, test_dataset.PassengerId.values))== 0 else print('oops')#0表示train,test dataset資料一致\n",
    "#查看資料是否有nan並設置datasetHasNan flag   \n",
    "datasetHasNan = False\n",
    "if train_dataset.count().min() == train_dataset.shape[0] and test_dataset.count().min() == test_dataset.shape[0] :\n",
    "    print('We do not need to worry about missing values.') \n",
    "else:\n",
    "    datasetHasNan = True\n",
    "    print('oops we have nan')\n"
   ]
  },
  {
   "cell_type": "code",
   "execution_count": 12,
   "metadata": {
    "ExecuteTime": {
     "end_time": "2019-01-21T12:34:46.219514Z",
     "start_time": "2019-01-21T12:34:46.118972Z"
    }
   },
   "outputs": [
    {
     "name": "stdout",
     "output_type": "stream",
     "text": [
      "Nan in the data sets\n",
      "          Train Dataset  Test Dataset\n",
      "Age                 177          86.0\n",
      "Cabin               687         327.0\n",
      "Embarked              2           0.0\n",
      "Fare                  0           1.0\n"
     ]
    }
   ],
   "source": [
    "#Check for missing data & list them \n",
    "if datasetHasNan == True:\n",
    "    nas = pd.concat([train_dataset.isnull().sum(), test_dataset.isnull().sum()], axis=1, keys=['Train Dataset', 'Test Dataset']) \n",
    "    print('Nan in the data sets')\n",
    "    print(nas[nas.sum(axis=1) > 0])"
   ]
  },
  {
   "cell_type": "code",
   "execution_count": 12,
   "metadata": {
    "ExecuteTime": {
     "end_time": "2019-01-19T13:00:30.444683Z",
     "start_time": "2019-01-19T13:00:29.962785Z"
    }
   },
   "outputs": [
    {
     "data": {
      "text/plain": [
       "<matplotlib.legend.Legend at 0x1a24cc6438>"
      ]
     },
     "execution_count": 12,
     "metadata": {},
     "output_type": "execute_result"
    },
    {
     "data": {
      "image/png": "[encoded data removed]",
      "text/plain": [
       "<Figure size 576x432 with 2 Axes>"
      ]
     },
     "metadata": {},
     "output_type": "display_data"
    }
   ],
   "source": [
    "#年齡跟生存率關係  \n",
    "fig, axes = plt.subplots(2,1,figsize=(8,6))\n",
    "sns.set_style('white')\n",
    "sns.distplot(train_dataset.Age.fillna(-20), rug=True, color='b', ax=axes[0])\n",
    "ax0 = axes[0]\n",
    "ax0.set_title('age distribution')\n",
    "ax0.set_xlabel('')\n",
    "\n",
    "ax1 = axes[1]\n",
    "ax1.set_title('age survived distribution')\n",
    "k1 = sns.distplot(train_dataset[train_dataset.Survived==0], hist=False, color='r', ax=ax1, label='dead')\n",
    "k2 = sns.distplot(train_dataset[train_dataset.Survived==1], hist=False, color='g', ax=ax1, label='alive')\n",
    "ax1.set_xlabel('')\n",
    "ax1.legend(fontsize=16)\n"
   ]
  },
  {
   "cell_type": "markdown",
   "metadata": {},
   "source": [
    "1.不論是否獲救age分佈都很寬    \n",
    "2.age跟survived不是線性關係，要用離散處理      \n",
    "3.獲救的人age缺值更少  "
   ]
  },
  {
   "cell_type": "code",
   "execution_count": 11,
   "metadata": {
    "ExecuteTime": {
     "end_time": "2019-01-20T13:57:49.003449Z",
     "start_time": "2019-01-20T13:57:46.990501Z"
    }
   },
   "outputs": [
    {
     "data": {
      "text/plain": [
       "<matplotlib.legend.Legend at 0x1a24647cc0>"
      ]
     },
     "execution_count": 11,
     "metadata": {},
     "output_type": "execute_result"
    },
    {
     "data": {
      "image/png": "[encoded data removed]",
      "text/plain": [
       "<Figure size 720x288 with 1 Axes>"
      ]
     },
     "metadata": {},
     "output_type": "display_data"
    }
   ],
   "source": [
    "#年齡跟生存率關係  \n",
    "ax = plt.figure(figsize=(10,4)).add_subplot(111)\n",
    "sns.violinplot(x='Sex', y='Age', hue='Survived', data=train_dataset.dropna(), split=True)\n",
    "ax.set_xlabel('Sex',size=20)\n",
    "ax.set_xticklabels(['Female','male'], size=18)\n",
    "ax.set_ylabel('Age',size=20)\n",
    "ax.legend(fontsize=25,loc='best')\n"
   ]
  },
  {
   "cell_type": "markdown",
   "metadata": {},
   "source": [
    "0:死亡 1:獲救   \n",
    "1.女性獲救集中在20-40歲  \n",
    "2.男性小孩也容易獲救  "
   ]
  },
  {
   "cell_type": "code",
   "execution_count": 13,
   "metadata": {
    "ExecuteTime": {
     "end_time": "2019-01-20T14:02:02.341786Z",
     "start_time": "2019-01-20T14:02:02.285440Z"
    }
   },
   "outputs": [
    {
     "name": "stdout",
     "output_type": "stream",
     "text": [
      "   Pclass  Survived\n",
      "0       1  0.629630\n",
      "1       2  0.472826\n",
      "2       3  0.242363\n",
      "\n",
      "      Sex  Survived\n",
      "0  female  0.742038\n",
      "1    male  0.188908\n",
      "\n",
      "   Pclass     Sex  Survived\n",
      "0       1  female  0.968085\n",
      "2       2  female  0.921053\n",
      "4       3  female  0.500000\n",
      "1       1    male  0.368852\n",
      "3       2    male  0.157407\n",
      "5       3    male  0.135447\n",
      "\n",
      "   SibSp  Survived\n",
      "1      1  0.535885\n",
      "2      2  0.464286\n",
      "0      0  0.345395\n",
      "3      3  0.250000\n",
      "4      4  0.166667\n",
      "5      5  0.000000\n",
      "6      8  0.000000\n",
      "\n",
      "   Family  Survived\n",
      "3       3  0.724138\n",
      "2       2  0.578431\n",
      "1       1  0.552795\n",
      "6       6  0.333333\n",
      "0       0  0.303538\n",
      "4       4  0.200000\n",
      "5       5  0.136364\n",
      "7       7  0.000000\n",
      "8      10  0.000000\n",
      "\n",
      "  Embarked  Survived\n",
      "0        C  0.553571\n",
      "1        Q  0.389610\n",
      "2        S  0.336957\n",
      "\n"
     ]
    }
   ],
   "source": [
    "# Class vs Survived，存活率高到低，P1,P2,P3  \n",
    "print(train_dataset[['Pclass', 'Survived']].groupby(['Pclass'], as_index=False).mean().sort_values(by='Survived', ascending=False))\n",
    "print()\n",
    "# Sex vs Survived\n",
    "print(train_dataset[[\"Sex\", \"Survived\"]].groupby(['Sex'], as_index=False).mean().sort_values(by='Survived', ascending=False))\n",
    "print()\n",
    "# Class and Sex vs Survived\n",
    "print(train_dataset[['Pclass', 'Sex', 'Survived']].groupby(['Pclass', 'Sex'], as_index=False).mean().sort_values(by='Survived', ascending=False))\n",
    "print()\n",
    "# SibSp vs Survived\n",
    "print(train_dataset[[\"SibSp\", \"Survived\"]].groupby(['SibSp'], as_index=False).mean().sort_values(by='Survived', ascending=False))\n",
    "print()\n",
    "# Family vs Survived\n",
    "train_dataset['Family'] = train_dataset['SibSp'] + train_dataset['Parch']\n",
    "print(train_dataset[['Family', 'Survived']].groupby(['Family'], as_index=False).mean().sort_values(by='Survived', ascending=False))\n",
    "print()\n",
    "# Embark vs Survived\n",
    "print(train_dataset[['Embarked', 'Survived']].groupby(['Embarked'], as_index=False).mean().sort_values(by='Survived', ascending=False))\n",
    "print()"
   ]
  },
  {
   "cell_type": "code",
   "execution_count": 78,
   "metadata": {
    "ExecuteTime": {
     "end_time": "2019-01-19T05:06:37.218250Z",
     "start_time": "2019-01-19T05:06:37.210342Z"
    }
   },
   "outputs": [
    {
     "data": {
      "text/plain": [
       "0                                Braund, Mr. Owen Harris\n",
       "1      Cumings, Mrs. John Bradley (Florence Briggs Th...\n",
       "2                                 Heikkinen, Miss. Laina\n",
       "3           Futrelle, Mrs. Jacques Heath (Lily May Peel)\n",
       "4                               Allen, Mr. William Henry\n",
       "5                                       Moran, Mr. James\n",
       "6                                McCarthy, Mr. Timothy J\n",
       "7                         Palsson, Master. Gosta Leonard\n",
       "8      Johnson, Mrs. Oscar W (Elisabeth Vilhelmina Berg)\n",
       "9                    Nasser, Mrs. Nicholas (Adele Achem)\n",
       "10                       Sandstrom, Miss. Marguerite Rut\n",
       "11                              Bonnell, Miss. Elizabeth\n",
       "12                        Saundercock, Mr. William Henry\n",
       "13                           Andersson, Mr. Anders Johan\n",
       "14                  Vestrom, Miss. Hulda Amanda Adolfina\n",
       "15                      Hewlett, Mrs. (Mary D Kingcome) \n",
       "16                                  Rice, Master. Eugene\n",
       "17                          Williams, Mr. Charles Eugene\n",
       "18     Vander Planke, Mrs. Julius (Emelia Maria Vande...\n",
       "19                               Masselmani, Mrs. Fatima\n",
       "20                                  Fynney, Mr. Joseph J\n",
       "21                                 Beesley, Mr. Lawrence\n",
       "22                           McGowan, Miss. Anna \"Annie\"\n",
       "23                          Sloper, Mr. William Thompson\n",
       "24                         Palsson, Miss. Torborg Danira\n",
       "25     Asplund, Mrs. Carl Oscar (Selma Augusta Emilia...\n",
       "26                               Emir, Mr. Farred Chehab\n",
       "27                        Fortune, Mr. Charles Alexander\n",
       "28                         O'Dwyer, Miss. Ellen \"Nellie\"\n",
       "29                                   Todoroff, Mr. Lalio\n",
       "                             ...                        \n",
       "861                          Giles, Mr. Frederick Edward\n",
       "862    Swift, Mrs. Frederick Joel (Margaret Welles Ba...\n",
       "863                    Sage, Miss. Dorothy Edith \"Dolly\"\n",
       "864                               Gill, Mr. John William\n",
       "865                             Bystrom, Mrs. (Karolina)\n",
       "866                         Duran y More, Miss. Asuncion\n",
       "867                 Roebling, Mr. Washington Augustus II\n",
       "868                          van Melkebeke, Mr. Philemon\n",
       "869                      Johnson, Master. Harold Theodor\n",
       "870                                    Balkic, Mr. Cerin\n",
       "871     Beckwith, Mrs. Richard Leonard (Sallie Monypeny)\n",
       "872                             Carlsson, Mr. Frans Olof\n",
       "873                          Vander Cruyssen, Mr. Victor\n",
       "874                Abelson, Mrs. Samuel (Hannah Wizosky)\n",
       "875                     Najib, Miss. Adele Kiamie \"Jane\"\n",
       "876                        Gustafsson, Mr. Alfred Ossian\n",
       "877                                 Petroff, Mr. Nedelio\n",
       "878                                   Laleff, Mr. Kristo\n",
       "879        Potter, Mrs. Thomas Jr (Lily Alexenia Wilson)\n",
       "880         Shelley, Mrs. William (Imanita Parrish Hall)\n",
       "881                                   Markun, Mr. Johann\n",
       "882                         Dahlberg, Miss. Gerda Ulrika\n",
       "883                        Banfield, Mr. Frederick James\n",
       "884                               Sutehall, Mr. Henry Jr\n",
       "885                 Rice, Mrs. William (Margaret Norton)\n",
       "886                                Montvila, Rev. Juozas\n",
       "887                         Graham, Miss. Margaret Edith\n",
       "888             Johnston, Miss. Catherine Helen \"Carrie\"\n",
       "889                                Behr, Mr. Karl Howell\n",
       "890                                  Dooley, Mr. Patrick\n",
       "Name: Name, Length: 891, dtype: object"
      ]
     },
     "execution_count": 78,
     "metadata": {},
     "output_type": "execute_result"
    }
   ],
   "source": [
    "train_dataset['Name']"
   ]
  },
  {
   "cell_type": "code",
   "execution_count": 82,
   "metadata": {
    "ExecuteTime": {
     "end_time": "2019-01-19T05:13:49.138327Z",
     "start_time": "2019-01-19T05:13:49.017811Z"
    }
   },
   "outputs": [
    {
     "name": "stdout",
     "output_type": "stream",
     "text": [
      "Mr. –> 647 males, Age average is 33.11839530332681\n",
      "Sir. –> 3 males, Age average is 35.5\n",
      "Dr. –> 11 males, Age average is 39.44444444444444\n",
      "Major. –> 2 males, Age average is 48.5\n",
      "Master. –> 40 males, Age average is 4.574166666666667\n",
      "————————————————————-\n",
      "Ms. –> 1 females, Age average is 28.0\n",
      "Miss. –> 182 females, Age average is 21.773972602739725\n",
      "Mrs. –> 129 females, Age average is 35.642857142857146\n",
      "Lady. –> 1 females, Age average is 48.0\n"
     ]
    }
   ],
   "source": [
    "for title in [\"Mr.\", \"Sir.\", \"Dr.\", \"Major.\", \"Master.\"]:\n",
    "    num = train_dataset[(train_dataset[\"Name\"].str.contains(title))][\"Name\"].count()\n",
    "    age = train_dataset[(train_dataset[\"Name\"].str.contains(title))][\"Age\"].mean()\n",
    "    print(\"{} –> {} males, Age average is {}\".format(title, num, age))\n",
    "print(\"————————————————————-\")\n",
    "for title in [\"Ms.\", \"Miss.\", \"Mrs.\", \"Lady.\"]:\n",
    "    num = train_dataset[(train_dataset[\"Name\"].str.contains(title))][\"Name\"].count()\n",
    "    age = train_dataset[(train_dataset[\"Name\"].str.contains(title))][\"Age\"].mean()\n",
    "    print(\"{} –> {} females, Age average is {}\".format(title, num, age))"
   ]
  },
  {
   "cell_type": "code",
   "execution_count": 89,
   "metadata": {
    "ExecuteTime": {
     "end_time": "2019-01-19T05:32:58.929850Z",
     "start_time": "2019-01-19T05:32:58.864176Z"
    }
   },
   "outputs": [
    {
     "name": "stdout",
     "output_type": "stream",
     "text": [
      "Mr. total:647 –> 184 survived, 463 died. 28.438948995363216% survived\n",
      "Sir. total:3 –> 1 survived, 2 died. 33.333333333333336% survived\n",
      "Dr. total:11 –> 6 survived, 5 died. 54.54545454545455% survived\n",
      "Major. total:2 –> 1 survived, 1 died. 50.0% survived\n",
      "Master. total:40 –> 23 survived, 17 died. 57.5% survived\n",
      "————————————————————-\n",
      "Ms. total:1 –> 1 survived, 0 died. 100.0% survived\n",
      "Miss. total:182 –> 127 survived, 55 died. 69.78021978021978% survived\n",
      "Mrs. total:129 –> 102 survived, 27 died. 79.06976744186046% survived\n",
      "Lady. total:1 –> 1 survived, 0 died. 100.0% survived\n"
     ]
    }
   ],
   "source": [
    "for title in [\"Mr.\", \"Sir.\", \"Dr.\", \"Major.\", \"Master.\"]:\n",
    "    num_survived = train_dataset[(train_dataset['Survived']==1) & (train_dataset['Name'].str.contains(title))][\"Name\"].count()\n",
    "    num_died = train_dataset[(train_dataset['Survived']==0) & (train_dataset['Name'].str.contains(title))][\"Name\"].count()\n",
    "    print(\"{} total:{} –> {} survived, {} died. {}% survived\".format(title, num_survived+num_died, num_survived, num_died, (100*num_survived/(num_survived+num_died))))\n",
    "print(\"————————————————————-\")\n",
    "\n",
    "for title in [\"Ms.\", \"Miss.\", \"Mrs.\", \"Lady.\"]:\n",
    "    num_survived = train_dataset[(train_dataset['Survived']==1) & (train_dataset['Name'].str.contains(title))][\"Name\"].count()\n",
    "    num_died = train_dataset[(train_dataset['Survived']==0) & (train_dataset['Name'].str.contains(title))][\"Name\"].count()  \n",
    "    print(\"{} total:{} –> {} survived, {} died. {}% survived\".format(title, num_survived+num_died, num_survived, num_died, (100*num_survived/(num_survived+num_died))))"
   ]
  },
  {
   "cell_type": "code",
   "execution_count": 95,
   "metadata": {
    "ExecuteTime": {
     "end_time": "2019-01-19T05:50:48.416985Z",
     "start_time": "2019-01-19T05:50:48.192268Z"
    }
   },
   "outputs": [
    {
     "data": {
      "text/plain": [
       "<matplotlib.axes._subplots.AxesSubplot at 0x1a16c7feb8>"
      ]
     },
     "execution_count": 95,
     "metadata": {},
     "output_type": "execute_result"
    },
    {
     "data": {
      "image/png": "[encoded data removed]",
      "text/plain": [
       "<Figure size 720x360 with 1 Axes>"
      ]
     },
     "metadata": {
      "needs_background": "light"
     },
     "output_type": "display_data"
    }
   ],
   "source": [
    "#階級與生存關係\n",
    "survived_pclass = train_dataset[train_dataset['Survived']==1]['Pclass'].value_counts()\n",
    "dead_pclass = train_dataset[train_dataset['Survived']==0]['Pclass'].value_counts()\n",
    "df = pd.DataFrame([survived_pclass,dead_pclass])\n",
    "df.index = ['Survived','Dead']\n",
    "df.plot(kind='bar',stacked=False, figsize=(10,5))"
   ]
  },
  {
   "cell_type": "code",
   "execution_count": 17,
   "metadata": {
    "ExecuteTime": {
     "end_time": "2019-01-19T13:22:30.615843Z",
     "start_time": "2019-01-19T13:22:30.396581Z"
    }
   },
   "outputs": [
    {
     "data": {
      "text/plain": [
       "Text(0.5, 1.0, 'Pclass Surveved count')"
      ]
     },
     "execution_count": 17,
     "metadata": {},
     "output_type": "execute_result"
    },
    {
     "data": {
      "image/png": "[encoded data removed]",
      "text/plain": [
       "<Figure size 576x288 with 1 Axes>"
      ]
     },
     "metadata": {},
     "output_type": "display_data"
    }
   ],
   "source": [
    "#階級跟生存率關係  \n",
    "y_dead = train_dataset[train_dataset.Survived==0].groupby('Pclass')['Survived'].count()\n",
    "y_alive = train_dataset[train_dataset.Survived==1].groupby('Pclass')['Survived'].count()\n",
    "pos = [1, 2, 3]\n",
    "ax = plt.figure(figsize=(8,4)).add_subplot(111)\n",
    "ax.bar(pos, y_dead, color='r', alpha=0.6, label='dead')\n",
    "ax.bar(pos, y_alive, color='g', bottom=y_dead, alpha=0.6, label='alive')\n",
    "ax.legend(fontsize=16, loc='best')\n",
    "ax.set_xticks(pos)\n",
    "ax.set_xticklabels(['Pclass%d'%(i) for i in range(1,4)], size=15)\n",
    "ax.set_title('Pclass Surveved count', size=20)"
   ]
  },
  {
   "cell_type": "markdown",
   "metadata": {},
   "source": [
    "階級越高，生存率越大  "
   ]
  },
  {
   "cell_type": "code",
   "execution_count": 18,
   "metadata": {
    "ExecuteTime": {
     "end_time": "2019-01-19T13:26:36.788898Z",
     "start_time": "2019-01-19T13:26:36.187707Z"
    }
   },
   "outputs": [
    {
     "data": {
      "image/png": "[encoded data removed]",
      "text/plain": [
       "<Figure size 720x432 with 3 Axes>"
      ]
     },
     "metadata": {},
     "output_type": "display_data"
    }
   ],
   "source": [
    "pos = range(0,6)\n",
    "age_list = []\n",
    "for Pclass_ in range(1,4):\n",
    "    for Survived_ in range(0,2):\n",
    "        age_list.append(train_dataset[(train_dataset.Pclass == Pclass_)&(train_dataset.Survived == Survived_)].Age.values)\n",
    "\n",
    "fig, axes = plt.subplots(3,1,figsize=(10,6))\n",
    "\n",
    "i_Pclass = 1\n",
    "for ax in axes:\n",
    "    sns.distplot(age_list[i_Pclass*2-2], hist=False, ax=ax, label='Pclass:%d ,survived:0'%(i_Pclass), color='r')\n",
    "    sns.distplot(age_list[i_Pclass*2-1], hist=False, ax=ax, label='Pclass:%d ,survived:1'%(i_Pclass), color='g')\n",
    "    i_Pclass += 1\n",
    "    ax.set_xlabel('age', size=15)\n",
    "    ax.legend(fontsize=15)"
   ]
  },
  {
   "cell_type": "markdown",
   "metadata": {
    "ExecuteTime": {
     "end_time": "2019-01-19T13:30:52.299660Z",
     "start_time": "2019-01-19T13:30:52.294910Z"
    }
   },
   "source": [
    "1.頭等艙獲救年齡偏高  \n",
    "2.其他兩個艙小孩獲救比例比較高  "
   ]
  },
  {
   "cell_type": "code",
   "execution_count": 21,
   "metadata": {
    "ExecuteTime": {
     "end_time": "2019-01-19T13:32:55.066419Z",
     "start_time": "2019-01-19T13:32:54.835541Z"
    }
   },
   "outputs": [
    {
     "data": {
      "text/plain": [
       "<matplotlib.legend.Legend at 0x1a24256940>"
      ]
     },
     "execution_count": 21,
     "metadata": {},
     "output_type": "execute_result"
    },
    {
     "data": {
      "image/png": "[encoded data removed]",
      "text/plain": [
       "<Figure size 576x216 with 1 Axes>"
      ]
     },
     "metadata": {},
     "output_type": "display_data"
    }
   ],
   "source": [
    "#階級跟年齡關係\n",
    "f, ax = plt.subplots(figsize=(8,3))\n",
    "ax.set_title('Pclass Age dist', size=20)\n",
    "sns.distplot(train_dataset[train_dataset.Pclass==1].dropna().Age, hist=False, color='pink', label='P1')\n",
    "sns.distplot(train_dataset[train_dataset.Pclass==2].dropna().Age, hist=False, color='blue', label='p2')\n",
    "sns.distplot(train_dataset[train_dataset.Pclass==3].dropna().Age, hist=False, color='g', label='p3')\n",
    "ax.legend(fontsize=15)"
   ]
  },
  {
   "cell_type": "markdown",
   "metadata": {},
   "source": [
    "階級越高年齡越大  "
   ]
  },
  {
   "cell_type": "code",
   "execution_count": 97,
   "metadata": {
    "ExecuteTime": {
     "end_time": "2019-01-19T05:54:59.287692Z",
     "start_time": "2019-01-19T05:54:59.072961Z"
    }
   },
   "outputs": [
    {
     "data": {
      "text/plain": [
       "<matplotlib.axes._subplots.AxesSubplot at 0x1a1a920940>"
      ]
     },
     "execution_count": 97,
     "metadata": {},
     "output_type": "execute_result"
    },
    {
     "data": {
      "image/png": "[encoded data removed]",
      "text/plain": [
       "<Figure size 720x360 with 1 Axes>"
      ]
     },
     "metadata": {
      "needs_background": "light"
     },
     "output_type": "display_data"
    }
   ],
   "source": [
    "#性別與生存率關係\n",
    "survived_sex = train_dataset[train_dataset['Survived']==1]['Sex'].value_counts()\n",
    "dead_sex = train_dataset[train_dataset['Survived']==0]['Sex'].value_counts()\n",
    "df = pd.DataFrame([survived_sex,dead_sex])\n",
    "df.index = ['Survived','Dead']\n",
    "df.plot(kind='bar',stacked=True, figsize=(10,5))"
   ]
  },
  {
   "cell_type": "code",
   "execution_count": 96,
   "metadata": {
    "ExecuteTime": {
     "end_time": "2019-01-19T05:53:51.182112Z",
     "start_time": "2019-01-19T05:53:50.729835Z"
    }
   },
   "outputs": [
    {
     "data": {
      "text/plain": [
       "<matplotlib.legend.Legend at 0x1a16a3f940>"
      ]
     },
     "execution_count": 96,
     "metadata": {},
     "output_type": "execute_result"
    },
    {
     "data": {
      "image/png": "[encoded data removed]",
      "text/plain": [
       "<Figure size 720x360 with 1 Axes>"
      ]
     },
     "metadata": {
      "needs_background": "light"
     },
     "output_type": "display_data"
    }
   ],
   "source": [
    "#年齡與生存率關係\n",
    "figure = plt.figure(figsize=(10,5))\n",
    "plt.hist([train_dataset[train_dataset['Survived']==1]['Age'], train_dataset[train_dataset['Survived']==0]['Age']], stacked=True, color = ['g','r'],bins = 30,label = ['Survived','Dead'])\n",
    "plt.xlabel('Age')\n",
    "plt.ylabel('Number of passengers')\n",
    "plt.legend()"
   ]
  },
  {
   "cell_type": "code",
   "execution_count": 13,
   "metadata": {
    "ExecuteTime": {
     "end_time": "2019-01-21T12:35:52.720665Z",
     "start_time": "2019-01-21T12:35:52.534485Z"
    }
   },
   "outputs": [],
   "source": [
    "#填補艙房號碼缺失值nan->-  \n",
    "train_dataset['Cabin'].fillna('-', inplace=True)\n",
    "cabinList = ['C', 'E', 'G', 'D', 'A', 'B', 'F','T']\n",
    "for Cabin in cabinList:\n",
    "    mask =  (train_dataset['Cabin'].str.contains(Cabin))\n",
    "    train_dataset.loc[mask,'Cabin'] = Cabin"
   ]
  },
  {
   "cell_type": "code",
   "execution_count": 14,
   "metadata": {
    "ExecuteTime": {
     "end_time": "2019-01-21T12:36:48.496703Z",
     "start_time": "2019-01-21T12:35:54.123979Z"
    }
   },
   "outputs": [
    {
     "name": "stdout",
     "output_type": "stream",
     "text": [
      "Cabin_p1: \n",
      " C    59\n",
      "B    47\n",
      "-    40\n",
      "D    29\n",
      "E    25\n",
      "A    15\n",
      "T     1\n",
      "Name: Cabin, dtype: int64 \n",
      "\n",
      "Cabin_p2: \n",
      " -    168\n",
      "F      8\n",
      "E      4\n",
      "D      4\n",
      "Name: Cabin, dtype: int64 \n",
      "\n",
      "Cabin_p3: \n",
      " -    479\n",
      "G      7\n",
      "E      4\n",
      "F      1\n",
      "Name: Cabin, dtype: int64 \n",
      "\n"
     ]
    }
   ],
   "source": [
    "#艙房號碼Cabin與Pclass關係，艙房等級低缺失值越高  \n",
    "total_Cabin_p1 = train_dataset[train_dataset['Pclass']==1]['Cabin'].value_counts()\n",
    "total_Cabin_p2 = train_dataset[train_dataset['Pclass']==2]['Cabin'].value_counts()\n",
    "total_Cabin_p3 = train_dataset[train_dataset['Pclass']==3]['Cabin'].value_counts()\n",
    "print(\"Cabin_p1: \\n\",total_Cabin_p1,\"\\n\")\n",
    "print(\"Cabin_p2: \\n\",total_Cabin_p2,\"\\n\")\n",
    "print(\"Cabin_p3: \\n\",total_Cabin_p3,\"\\n\")"
   ]
  },
  {
   "cell_type": "markdown",
   "metadata": {},
   "source": [
    "如果照分佈分配會好點嗎？"
   ]
  },
  {
   "cell_type": "code",
   "execution_count": 118,
   "metadata": {
    "ExecuteTime": {
     "end_time": "2019-01-19T06:50:38.545406Z",
     "start_time": "2019-01-19T06:50:37.606020Z"
    }
   },
   "outputs": [
    {
     "data": {
      "text/plain": [
       "<matplotlib.legend.Legend at 0x1a275294e0>"
      ]
     },
     "execution_count": 118,
     "metadata": {},
     "output_type": "execute_result"
    },
    {
     "data": {
      "image/png": "[encoded data removed]",
      "text/plain": [
       "<Figure size 720x360 with 1 Axes>"
      ]
     },
     "metadata": {
      "needs_background": "light"
     },
     "output_type": "display_data"
    }
   ],
   "source": [
    "#票價與生存關係，票價低死亡率高\n",
    "figure = plt.figure(figsize=(10,5))\n",
    "plt.hist([train_dataset[train_dataset['Survived']==1]['Fare'],train_dataset[train_dataset['Survived']==0]['Fare']], stacked=True, color = ['g','r'],bins = 30,label = ['Survived','Dead'])\n",
    "plt.xlabel('Fare')\n",
    "plt.ylabel('Number of passengers')\n",
    "plt.legend()"
   ]
  },
  {
   "cell_type": "code",
   "execution_count": 26,
   "metadata": {
    "ExecuteTime": {
     "end_time": "2019-01-19T13:52:48.798538Z",
     "start_time": "2019-01-19T13:52:48.577289Z"
    },
    "scrolled": true
   },
   "outputs": [
    {
     "data": {
      "text/plain": [
       "Text(0.5, 0, 'Fare')"
      ]
     },
     "execution_count": 26,
     "metadata": {},
     "output_type": "execute_result"
    },
    {
     "data": {
      "image/png": "[encoded data removed]",
      "text/plain": [
       "<Figure size 576x216 with 1 Axes>"
      ]
     },
     "metadata": {},
     "output_type": "display_data"
    }
   ],
   "source": [
    "fig = plt.figure(figsize=(8,3))\n",
    "ax1 = fig.add_subplot(111)\n",
    "sns.kdeplot(train_dataset[train_dataset.Survived==0].Fare, ax=ax1, label='dead', color='r')\n",
    "sns.kdeplot(train_dataset[train_dataset.Survived==1].Fare, ax=ax1, label='alive', color='g')\n",
    "ax1.set_xlim([0,300])\n",
    "ax1.legend(fontsize=15)\n",
    "ax1.set_title('Fare survived', size=20)\n",
    "ax1.set_xlabel('Fare', size=15)"
   ]
  },
  {
   "cell_type": "code",
   "execution_count": 25,
   "metadata": {
    "ExecuteTime": {
     "end_time": "2019-01-19T13:50:47.513706Z",
     "start_time": "2019-01-19T13:50:46.988715Z"
    }
   },
   "outputs": [
    {
     "data": {
      "text/plain": [
       "<matplotlib.legend.Legend at 0x1a24567e80>"
      ]
     },
     "execution_count": 25,
     "metadata": {},
     "output_type": "execute_result"
    },
    {
     "data": {
      "image/png": "[encoded data removed]",
      "text/plain": [
       "<Figure size 576x432 with 2 Axes>"
      ]
     },
     "metadata": {},
     "output_type": "display_data"
    }
   ],
   "source": [
    "#票價與階級關係  \n",
    "fig = plt.figure(figsize=(8, 6))\n",
    "ax = plt.subplot2grid((2,2), (0,0), colspan=2)\n",
    "\n",
    "ax.tick_params(labelsize=15)\n",
    "ax.set_title('Fare dist', size=20)\n",
    "ax.set_ylabel('dist', size=20)\n",
    "sns.kdeplot(train_dataset.Fare, ax=ax)\n",
    "sns.distplot(train_dataset.Fare, ax=ax)\n",
    "ax.legend(fontsize=15)\n",
    "pos = range(0,400,50)\n",
    "ax.set_xticks(pos)\n",
    "ax.set_xlim([0, 200])\n",
    "ax.set_xlabel('')\n",
    "\n",
    "ax1 = plt.subplot2grid((2,2), (1,0), colspan=2)\n",
    "ax.set_title('Fare Pclass dist', size=20)\n",
    "for i in range(1,4):\n",
    "    sns.kdeplot(train_dataset[train_dataset.Pclass==i].Fare, ax=ax1, label='Pclass %d'%(i))\n",
    "ax1.set_xlim([0,200])\n",
    "ax1.legend(fontsize=15)"
   ]
  },
  {
   "cell_type": "markdown",
   "metadata": {},
   "source": [
    "票價越高越容易獲救  "
   ]
  },
  {
   "cell_type": "code",
   "execution_count": 45,
   "metadata": {
    "ExecuteTime": {
     "end_time": "2019-01-20T01:41:33.553557Z",
     "start_time": "2019-01-20T01:41:33.044035Z"
    }
   },
   "outputs": [
    {
     "data": {
      "text/plain": [
       "<matplotlib.legend.Legend at 0x1a23d5e5f8>"
      ]
     },
     "execution_count": 45,
     "metadata": {},
     "output_type": "execute_result"
    },
    {
     "data": {
      "image/png": "[encoded data removed]",
      "text/plain": [
       "<Figure size 720x360 with 1 Axes>"
      ]
     },
     "metadata": {
      "needs_background": "light"
     },
     "output_type": "display_data"
    }
   ],
   "source": [
    "#票價跟港口歸係C\n",
    "figure = plt.figure(figsize=(10,5))\n",
    "plt.hist([train_dataset[train_dataset['Embarked']=='C']['Fare'],train_dataset[train_dataset['Survived']==0]['Fare']], stacked=True, color = ['g','r'],bins = 30,label = ['Survived','Dead'])\n",
    "plt.xlabel('Fare')\n",
    "plt.ylabel('Number of passengers')\n",
    "plt.legend()"
   ]
  },
  {
   "cell_type": "code",
   "execution_count": 46,
   "metadata": {
    "ExecuteTime": {
     "end_time": "2019-01-20T01:42:36.731197Z",
     "start_time": "2019-01-20T01:42:36.313468Z"
    }
   },
   "outputs": [
    {
     "data": {
      "text/plain": [
       "<matplotlib.legend.Legend at 0x1a29c59da0>"
      ]
     },
     "execution_count": 46,
     "metadata": {},
     "output_type": "execute_result"
    },
    {
     "data": {
      "image/png": "[encoded data removed]",
      "text/plain": [
       "<Figure size 720x360 with 1 Axes>"
      ]
     },
     "metadata": {
      "needs_background": "light"
     },
     "output_type": "display_data"
    }
   ],
   "source": [
    "#票價跟港口歸係S\n",
    "figure = plt.figure(figsize=(10,5))\n",
    "plt.hist([train_dataset[train_dataset['Embarked']=='S']['Fare'],train_dataset[train_dataset['Survived']==0]['Fare']], stacked=True, color = ['g','r'],bins = 30,label = ['Survived','Dead'])\n",
    "plt.xlabel('Fare')\n",
    "plt.ylabel('Number of passengers')\n",
    "plt.legend()"
   ]
  },
  {
   "cell_type": "code",
   "execution_count": 47,
   "metadata": {
    "ExecuteTime": {
     "end_time": "2019-01-20T01:42:51.482162Z",
     "start_time": "2019-01-20T01:42:51.036721Z"
    }
   },
   "outputs": [
    {
     "data": {
      "text/plain": [
       "<matplotlib.legend.Legend at 0x1a29b2af60>"
      ]
     },
     "execution_count": 47,
     "metadata": {},
     "output_type": "execute_result"
    },
    {
     "data": {
      "image/png": "[encoded data removed]",
      "text/plain": [
       "<Figure size 720x360 with 1 Axes>"
      ]
     },
     "metadata": {
      "needs_background": "light"
     },
     "output_type": "display_data"
    }
   ],
   "source": [
    "#票價跟港口歸係Q\n",
    "figure = plt.figure(figsize=(10,5))\n",
    "plt.hist([train_dataset[train_dataset['Embarked']=='Q']['Fare'],train_dataset[train_dataset['Survived']==0]['Fare']], stacked=True, color = ['g','r'],bins = 30,label = ['Survived','Dead'])\n",
    "plt.xlabel('Fare')\n",
    "plt.ylabel('Number of passengers')\n",
    "plt.legend()"
   ]
  },
  {
   "cell_type": "code",
   "execution_count": 117,
   "metadata": {
    "ExecuteTime": {
     "end_time": "2019-01-19T06:41:35.044679Z",
     "start_time": "2019-01-19T06:41:35.001832Z"
    }
   },
   "outputs": [
    {
     "data": {
      "text/html": [
       "<div>\n",
       "<style scoped>\n",
       "    .dataframe tbody tr th:only-of-type {\n",
       "        vertical-align: middle;\n",
       "    }\n",
       "\n",
       "    .dataframe tbody tr th {\n",
       "        vertical-align: top;\n",
       "    }\n",
       "\n",
       "    .dataframe thead th {\n",
       "        text-align: right;\n",
       "    }\n",
       "</style>\n",
       "<table border=\"1\" class=\"dataframe\">\n",
       "  <thead>\n",
       "    <tr style=\"text-align: right;\">\n",
       "      <th></th>\n",
       "      <th>1</th>\n",
       "      <th>2</th>\n",
       "      <th>3</th>\n",
       "    </tr>\n",
       "  </thead>\n",
       "  <tbody>\n",
       "    <tr>\n",
       "      <th>Southampton</th>\n",
       "      <td>0.197205</td>\n",
       "      <td>0.254658</td>\n",
       "      <td>0.548137</td>\n",
       "    </tr>\n",
       "    <tr>\n",
       "      <th>Cherbourg</th>\n",
       "      <td>0.505952</td>\n",
       "      <td>0.101190</td>\n",
       "      <td>0.392857</td>\n",
       "    </tr>\n",
       "    <tr>\n",
       "      <th>Queenstown</th>\n",
       "      <td>0.025974</td>\n",
       "      <td>0.038961</td>\n",
       "      <td>0.935065</td>\n",
       "    </tr>\n",
       "  </tbody>\n",
       "</table>\n",
       "</div>"
      ],
      "text/plain": [
       "                    1         2         3\n",
       "Southampton  0.197205  0.254658  0.548137\n",
       "Cherbourg    0.505952  0.101190  0.392857\n",
       "Queenstown   0.025974  0.038961  0.935065"
      ]
     },
     "metadata": {},
     "output_type": "display_data"
    }
   ],
   "source": [
    "#港口跟階級關係  \n",
    "total_Pclass_S = train_dataset[train_dataset['Embarked']=='S']['Pclass'].count()\n",
    "total_Pclass_C = train_dataset[train_dataset['Embarked']=='C']['Pclass'].count()\n",
    "total_Pclass_Q = train_dataset[train_dataset['Embarked']=='Q']['Pclass'].count()\n",
    "\n",
    "Embarked_S = train_dataset[train_dataset['Embarked']=='S']['Pclass'].value_counts() / total_Pclass_S\n",
    "Embarked_C = train_dataset[train_dataset['Embarked']=='C']['Pclass'].value_counts() / total_Pclass_C\n",
    "Embarked_Q = train_dataset[train_dataset['Embarked']=='Q']['Pclass'].value_counts() / total_Pclass_Q  \n",
    "\n",
    "df = pd.DataFrame([Embarked_S,Embarked_C,Embarked_Q])\n",
    "df.index = ['Southampton','Cherbourg','Queenstown']\n",
    "display(df)"
   ]
  },
  {
   "cell_type": "markdown",
   "metadata": {},
   "source": [
    "港口階級關係：  \n",
    "p1:c  \n",
    "p2:s  \n",
    "p3:q  "
   ]
  },
  {
   "cell_type": "markdown",
   "metadata": {},
   "source": [
    "C上岸的獲救率高  "
   ]
  },
  {
   "cell_type": "code",
   "execution_count": 29,
   "metadata": {
    "ExecuteTime": {
     "end_time": "2019-01-19T13:59:35.529422Z",
     "start_time": "2019-01-19T13:59:35.282188Z"
    }
   },
   "outputs": [
    {
     "data": {
      "text/plain": [
       "Text(0.5, 1.0, 'Embarked Age Dist ')"
      ]
     },
     "execution_count": 29,
     "metadata": {},
     "output_type": "execute_result"
    },
    {
     "data": {
      "image/png": "[encoded data removed]",
      "text/plain": [
       "<Figure size 576x216 with 1 Axes>"
      ]
     },
     "metadata": {},
     "output_type": "display_data"
    }
   ],
   "source": [
    "#那個港口年齡層呢\n",
    "ax = plt.figure(figsize=(8,3)).add_subplot(111)\n",
    "ax.set_xlim([-20, 80])\n",
    "sns.kdeplot(train_dataset[train_dataset.Embarked=='C'].Age.fillna(-10), ax=ax, label='C')\n",
    "sns.kdeplot(train_dataset[train_dataset.Embarked=='Q'].Age.fillna(-10), ax=ax, label='Q')\n",
    "sns.kdeplot(train_dataset[train_dataset.Embarked=='S'].Age.fillna(-10), ax=ax, label='S')\n",
    "ax.legend(fontsize=18)\n",
    "ax.set_title('Embarked Age Dist ', size=18)"
   ]
  },
  {
   "cell_type": "markdown",
   "metadata": {},
   "source": [
    "1.Q上岸的年紀比較輕  \n",
    "2.C上岸的小孩老人比例高  "
   ]
  },
  {
   "cell_type": "code",
   "execution_count": 13,
   "metadata": {
    "ExecuteTime": {
     "end_time": "2019-01-19T13:13:45.092482Z",
     "start_time": "2019-01-19T13:13:44.579931Z"
    }
   },
   "outputs": [
    {
     "data": {
      "text/plain": [
       "<matplotlib.legend.Legend at 0x1a24ba6940>"
      ]
     },
     "execution_count": 13,
     "metadata": {},
     "output_type": "execute_result"
    },
    {
     "data": {
      "image/png": "[encoded data removed]",
      "text/plain": [
       "<Figure size 720x360 with 1 Axes>"
      ]
     },
     "metadata": {},
     "output_type": "display_data"
    }
   ],
   "source": [
    "#船上各年齡層男女比例  \n",
    "figure = plt.figure(figsize=(10,5))\n",
    "plt.hist([train_dataset[train_dataset['Sex']=='male']['Age'], train_dataset[train_dataset['Sex']=='female']['Age']], stacked=False, color = ['g','r'], bins = 30,label = ['Male','Female'])\n",
    "plt.xlabel('Age')\n",
    "plt.ylabel('Number of Sex')\n",
    "plt.legend()"
   ]
  },
  {
   "cell_type": "code",
   "execution_count": 14,
   "metadata": {
    "ExecuteTime": {
     "end_time": "2019-01-19T13:14:22.372418Z",
     "start_time": "2019-01-19T13:14:22.136170Z"
    }
   },
   "outputs": [
    {
     "data": {
      "text/plain": [
       "<matplotlib.legend.Legend at 0x1a19778a90>"
      ]
     },
     "execution_count": 14,
     "metadata": {},
     "output_type": "execute_result"
    },
    {
     "data": {
      "image/png": "[encoded data removed]",
      "text/plain": [
       "<Figure size 576x216 with 1 Axes>"
      ]
     },
     "metadata": {},
     "output_type": "display_data"
    }
   ],
   "source": [
    "f, ax = plt.subplots(figsize=(8,3))\n",
    "ax.set_title('Sex Age dist', size=20)\n",
    "sns.distplot(train_dataset[train_dataset.Sex=='female'].dropna().Age, hist=False, color='pink', label='female')\n",
    "sns.distplot(train_dataset[train_dataset.Sex=='male'].dropna().Age, hist=False, color='blue', label='male')\n",
    "ax.legend(fontsize=15)\n"
   ]
  },
  {
   "cell_type": "markdown",
   "metadata": {},
   "source": [
    "男性中老年人多，女性更年轻；小孩中男孩较多"
   ]
  },
  {
   "cell_type": "code",
   "execution_count": 102,
   "metadata": {
    "ExecuteTime": {
     "end_time": "2019-01-19T06:06:36.968945Z",
     "start_time": "2019-01-19T06:06:36.526428Z"
    }
   },
   "outputs": [
    {
     "data": {
      "text/plain": [
       "<matplotlib.legend.Legend at 0x1a1aebab38>"
      ]
     },
     "execution_count": 102,
     "metadata": {},
     "output_type": "execute_result"
    },
    {
     "data": {
      "image/png": "[encoded data removed]",
      "text/plain": [
       "<Figure size 720x360 with 1 Axes>"
      ]
     },
     "metadata": {
      "needs_background": "light"
     },
     "output_type": "display_data"
    }
   ],
   "source": [
    "#年齡，票價，存活關係  \n",
    "plt.figure(figsize=(10,5))\n",
    "ax = plt.subplot()\n",
    "ax.scatter(train_dataset[train_dataset['Sex']=='female']['Age'],train_dataset[train_dataset['Sex']=='female']['Fare'],c='green',s=40)\n",
    "ax.scatter(train_dataset[train_dataset['Sex']=='male']['Age'],train_dataset[train_dataset['Sex']=='male']['Fare'],c='red',s=40)\n",
    "ax.set_xlabel('Age')\n",
    "ax.set_ylabel('Fare')\n",
    "ax.legend(('survived','dead'),scatterpoints=1,loc='upper right',fontsize=15,)"
   ]
  },
  {
   "cell_type": "code",
   "execution_count": 106,
   "metadata": {
    "ExecuteTime": {
     "end_time": "2019-01-19T06:18:04.393880Z",
     "start_time": "2019-01-19T06:18:04.106584Z"
    }
   },
   "outputs": [
    {
     "data": {
      "text/plain": [
       "<matplotlib.legend.Legend at 0x1a1af545f8>"
      ]
     },
     "execution_count": 106,
     "metadata": {},
     "output_type": "execute_result"
    },
    {
     "data": {
      "image/png": "[encoded data removed]",
      "text/plain": [
       "<Figure size 720x360 with 1 Axes>"
      ]
     },
     "metadata": {
      "needs_background": "light"
     },
     "output_type": "display_data"
    }
   ],
   "source": [
    "#親屬，年齡，存活關係\n",
    "plt.figure(figsize=(10,5))\n",
    "ax = plt.subplot()\n",
    "ax.scatter(train_dataset[train_dataset['Survived']==1]['Age'],train_dataset[train_dataset['Survived']==1]['Family'],c='green',s=40)\n",
    "ax.scatter(train_dataset[train_dataset['Survived']==0]['Age'],train_dataset[train_dataset['Survived']==0]['Family'],c='red',s=40)\n",
    "ax.set_xlabel('Age')\n",
    "ax.set_ylabel('Family')\n",
    "ax.legend(('survived','dead'),scatterpoints=1,loc='upper right',fontsize=15,)"
   ]
  },
  {
   "cell_type": "code",
   "execution_count": 24,
   "metadata": {
    "ExecuteTime": {
     "end_time": "2019-01-19T13:43:46.962390Z",
     "start_time": "2019-01-19T13:43:46.692975Z"
    }
   },
   "outputs": [
    {
     "data": {
      "text/plain": [
       "<matplotlib.legend.Legend at 0x1a24f47240>"
      ]
     },
     "execution_count": 24,
     "metadata": {},
     "output_type": "execute_result"
    },
    {
     "data": {
      "image/png": "[encoded data removed]",
      "text/plain": [
       "<Figure size 1152x288 with 1 Axes>"
      ]
     },
     "metadata": {},
     "output_type": "display_data"
    }
   ],
   "source": [
    "#性別，階級，獲救  \n",
    "label = []\n",
    "for sex_i in ['female','male']:\n",
    "    for pclass_i in range(1,4):\n",
    "        label.append('sex:%s,Pclass:%d'%(sex_i, pclass_i))\n",
    "        \n",
    "pos = range(6)\n",
    "fig = plt.figure(figsize=(16,4))\n",
    "ax = fig.add_subplot(111)\n",
    "ax.bar(pos, \n",
    "        train_dataset[train_dataset['Survived']==0].groupby(['Sex','Pclass'])['Survived'].count().values, \n",
    "        color='r', \n",
    "        alpha=0.5, \n",
    "        align='center',\n",
    "        tick_label=label, \n",
    "        label='dead')\n",
    "ax.bar(pos, \n",
    "        train_dataset[train_dataset['Survived']==1].groupby(['Sex','Pclass'])['Survived'].count().values, \n",
    "        bottom=train_dataset[train_dataset['Survived']==0].groupby(['Sex','Pclass'])['Survived'].count().values,\n",
    "        color='g',\n",
    "        alpha=0.5,\n",
    "        align='center',\n",
    "        tick_label=label, \n",
    "        label='alive')\n",
    "ax.tick_params(labelsize=15)\n",
    "ax.set_title('sex_pclass_survived', size=30)\n",
    "ax.legend(fontsize=15,loc='best')"
   ]
  },
  {
   "cell_type": "markdown",
   "metadata": {},
   "source": [
    "1.綜合來看綠色較多，女性容易獲救   \n",
    "2.階級越高越容易獲救  "
   ]
  },
  {
   "cell_type": "markdown",
   "metadata": {},
   "source": [
    "## 3.特徵工程 \n",
    "1.合併待預測(生存)欄位  \n",
    "2.合併訓練測試集做資料清理，增加生存相關性較大的新feature      "
   ]
  },
  {
   "cell_type": "code",
   "execution_count": 15,
   "metadata": {
    "ExecuteTime": {
     "end_time": "2019-01-21T12:40:49.752156Z",
     "start_time": "2019-01-21T12:40:49.742264Z"
    }
   },
   "outputs": [
    {
     "name": "stdout",
     "output_type": "stream",
     "text": [
      "***********Train*************\n",
      "PassengerId      0\n",
      "Survived         0\n",
      "Pclass           0\n",
      "Name             0\n",
      "Sex              0\n",
      "Age            177\n",
      "SibSp            0\n",
      "Parch            0\n",
      "Ticket           0\n",
      "Fare             0\n",
      "Cabin            0\n",
      "Embarked         2\n",
      "dtype: int64\n",
      "***********test*************\n",
      "PassengerId      0\n",
      "Pclass           0\n",
      "Name             0\n",
      "Sex              0\n",
      "Age             86\n",
      "SibSp            0\n",
      "Parch            0\n",
      "Ticket           0\n",
      "Fare             1\n",
      "Cabin          327\n",
      "Embarked         0\n",
      "dtype: int64\n"
     ]
    }
   ],
   "source": [
    "print ('***********Train*************')\n",
    "print (train_dataset.isnull().sum())\n",
    "print ('***********test*************')\n",
    "print (test_dataset.isnull().sum())"
   ]
  },
  {
   "cell_type": "code",
   "execution_count": 16,
   "metadata": {
    "ExecuteTime": {
     "end_time": "2019-01-21T12:41:07.810628Z",
     "start_time": "2019-01-21T12:41:07.800115Z"
    },
    "scrolled": true
   },
   "outputs": [
    {
     "name": "stdout",
     "output_type": "stream",
     "text": [
      "(1309, 12)\n",
      "(891,)\n"
     ]
    }
   ],
   "source": [
    "#保存待預測生存欄位  \n",
    "y= train_dataset.Survived\n",
    "\n",
    "#train_dataset.drop('Survived', 1, inplace=True)\n",
    "X = train_dataset.append(test_dataset)\n",
    "print(X.shape)\n",
    "print(y.shape)"
   ]
  },
  {
   "cell_type": "code",
   "execution_count": 17,
   "metadata": {
    "ExecuteTime": {
     "end_time": "2019-01-21T12:41:25.507317Z",
     "start_time": "2019-01-21T12:41:21.925582Z"
    }
   },
   "outputs": [
    {
     "name": "stdout",
     "output_type": "stream",
     "text": [
      "(1309, 11)\n"
     ]
    }
   ],
   "source": [
    "#合併SibSp及Parch成family\n",
    "X['Family'] = X['SibSp'] + X['Parch']\n",
    "X.drop('SibSp', 1, inplace=True)\n",
    "X.drop('Parch', 1, inplace=True)\n",
    "print(X.shape)"
   ]
  },
  {
   "cell_type": "code",
   "execution_count": 19,
   "metadata": {
    "ExecuteTime": {
     "end_time": "2019-01-20T14:05:34.756961Z",
     "start_time": "2019-01-20T14:05:34.745066Z"
    },
    "scrolled": true
   },
   "outputs": [
    {
     "name": "stdout",
     "output_type": "stream",
     "text": [
      "<class 'pandas.core.frame.DataFrame'>\n",
      "Int64Index: 1309 entries, 0 to 417\n",
      "Data columns (total 11 columns):\n",
      "Age            1046 non-null float64\n",
      "Cabin          982 non-null object\n",
      "Embarked       1307 non-null object\n",
      "Family         1309 non-null int64\n",
      "Fare           1308 non-null float64\n",
      "Name           1309 non-null object\n",
      "PassengerId    1309 non-null int64\n",
      "Pclass         1309 non-null int64\n",
      "Sex            1309 non-null object\n",
      "Survived       891 non-null float64\n",
      "Ticket         1309 non-null object\n",
      "dtypes: float64(3), int64(3), object(5)\n",
      "memory usage: 122.7+ KB\n"
     ]
    },
    {
     "data": {
      "text/plain": [
       "'\\nAge 1309-1046 少263個\\nCabin船艙 1039-982 少57個\\nFare票價 少1個  \\nEmbarked登陸港口 少2個 \\nSurvived 少418個，測試集都沒有很正常\\n'"
      ]
     },
     "execution_count": 19,
     "metadata": {},
     "output_type": "execute_result"
    }
   ],
   "source": [
    "X.info()\n",
    "#從總數Int64Index: 1309-各欄位可以知道缺值狀況  \n",
    "'''\n",
    "Age 1309-1046 少263個\n",
    "Cabin船艙 1039-982 少57個\n",
    "Fare票價 少1個  \n",
    "Embarked登陸港口 少2個 \n",
    "Survived 少418個，測試集都沒有很正常\n",
    "'''"
   ]
  },
  {
   "cell_type": "markdown",
   "metadata": {},
   "source": [
    "### 處理缺值Age"
   ]
  },
  {
   "cell_type": "code",
   "execution_count": 53,
   "metadata": {
    "ExecuteTime": {
     "end_time": "2019-01-20T02:04:51.444008Z",
     "start_time": "2019-01-20T02:04:51.265032Z"
    }
   },
   "outputs": [
    {
     "name": "stdout",
     "output_type": "stream",
     "text": [
      "Mr. –> 959 males, Age average is 33.3, median is 30.0,  184 survived, 463 died. 28.4% survived\n",
      "Sir. –> 3 males, Age average is 35.5, median is 35.5,  1 survived, 2 died. 33.3% survived\n",
      "Dr. –> 17 males, Age average is 37.3, median is 36.0,  6 survived, 5 died. 54.5% survived\n",
      "Major. –> 2 males, Age average is 48.5, median is 48.5,  1 survived, 1 died. 50.0% survived\n",
      "Master. –> 61 males, Age average is 5.5, median is 4.0,  23 survived, 17 died. 57.5% survived\n",
      "——————————————————————————–\n",
      "Ms. –> 2 females, Age average is 28.0, median is 28.0,  1 survived, 0 died. 100.0% survived\n",
      "Miss. –> 260 females, Age average is 21.8, median is 22.0,  127 survived, 55 died. 69.8% survived\n",
      "Mrs. –> 201 females, Age average is 36.8, median is 35.0,  102 survived, 27 died. 79.1% survived\n",
      "Lady. –> 1 females, Age average is 48.0, median is 48.0,  1 survived, 0 died. 100.0% survived\n"
     ]
    }
   ],
   "source": [
    "#從稱謂處理缺值Age  \n",
    "for title in [\"Mr.\", \"Sir.\", \"Dr.\", \"Major.\", \"Master.\"]:\n",
    "    num = X[(X['Name'].str.contains(title))][\"Name\"].count()\n",
    "    age_mean = round(X[(X['Name'].str.contains(title))][\"Age\"].mean(),1)\n",
    "    age_median = X[(X['Name'].str.contains(title))][\"Age\"].median()\n",
    "    num_survived = X[(X['Survived']==1) & (X['Name'].str.contains(title))][\"Name\"].count()\n",
    "    num_died = X[(X['Survived']==0) & (X['Name'].str.contains(title))][\"Name\"].count()\n",
    "    num_total = num_survived+num_died\n",
    "    print(\"{} –> {} males, Age average is {}, median is {},  {} survived, {} died. {}% survived\".format(title, num, age_mean, age_median, num_survived, num_died, round(num_survived*100/num_total, 1)))\n",
    "print(\"——————————————————————————–\")\n",
    "for title in [\"Ms.\", \"Miss.\", \"Mrs.\", \"Lady.\"]:\n",
    "    num = X[(X['Name'].str.contains(title))][\"Name\"].count()\n",
    "    age_mean = round(X[(X['Name'].str.contains(title))][\"Age\"].mean(), 1)\n",
    "    age_median = X[(X['Name'].str.contains(title))][\"Age\"].median()\n",
    "    num_survived = X[(X['Survived']==1) & (X['Name'].str.contains(title))][\"Name\"].count()\n",
    "    num_died = X[(X['Survived']==0) & (X['Name'].str.contains(title))][\"Name\"].count()\n",
    "    num_total = num_survived+num_died\n",
    "    print(\"{} –> {} females, Age average is {}, median is {},  {} survived, {} died. {}% survived\".format(title, num, age_mean, age_median, num_survived, num_died, round(num_survived*100/num_total, 1)))\n",
    "                                                "
   ]
  },
  {
   "cell_type": "code",
   "execution_count": 18,
   "metadata": {
    "ExecuteTime": {
     "end_time": "2019-01-21T12:41:44.558577Z",
     "start_time": "2019-01-21T12:41:44.458862Z"
    },
    "scrolled": true
   },
   "outputs": [
    {
     "name": "stdout",
     "output_type": "stream",
     "text": [
      "——————————————————————————–\n",
      "done\n"
     ]
    }
   ],
   "source": [
    "#缺值全部用median填補  \n",
    "mask =  (X[\"Age\"].isnull()) & ( (X[\"Name\"].str.contains(\"Mr.\")) | (X[\"Name\"].str.contains(\"Sir.\")) | (X[\"Name\"].str.contains(\"Major\")) )\n",
    "mask2 =  ( (X[\"Name\"].str.contains(\"Mr.\")) | (X[\"Name\"].str.contains(\"Sir.\")) | (X[\"Name\"].str.contains(\"Major\")) )\n",
    "X.loc[mask,\"Age\"] = X.loc[mask,\"Age\"].fillna(X.loc[mask2,\"Age\"].median())\n",
    "print(\"——————————————————————————–\")  \n",
    "mask =  (X[\"Age\"].isnull()) & ( (X[\"Name\"].str.contains(\"Ms.\")) | (X[\"Name\"].str.contains(\"Miss.\")) )\n",
    "mask2 = ( (X[\"Name\"].str.contains(\"Ms.\")) | (X[\"Name\"].str.contains(\"Miss.\")) )\n",
    "X.loc[mask,\"Age\"] = X.loc[mask,\"Age\"].fillna(X.loc[mask2,\"Age\"].median())\n",
    "print(\"done\")  "
   ]
  },
  {
   "cell_type": "code",
   "execution_count": 19,
   "metadata": {
    "ExecuteTime": {
     "end_time": "2019-01-21T12:41:48.798830Z",
     "start_time": "2019-01-21T12:41:48.788843Z"
    }
   },
   "outputs": [
    {
     "name": "stdout",
     "output_type": "stream",
     "text": [
      "<class 'pandas.core.frame.DataFrame'>\n",
      "Int64Index: 1309 entries, 0 to 417\n",
      "Data columns (total 11 columns):\n",
      "Age            1300 non-null float64\n",
      "Cabin          982 non-null object\n",
      "Embarked       1307 non-null object\n",
      "Fare           1308 non-null float64\n",
      "Name           1309 non-null object\n",
      "PassengerId    1309 non-null int64\n",
      "Pclass         1309 non-null int64\n",
      "Sex            1309 non-null object\n",
      "Survived       891 non-null float64\n",
      "Ticket         1309 non-null object\n",
      "Family         1309 non-null int64\n",
      "dtypes: float64(3), int64(3), object(5)\n",
      "memory usage: 122.7+ KB\n"
     ]
    }
   ],
   "source": [
    "X.info()\n",
    "#還少7個"
   ]
  },
  {
   "cell_type": "code",
   "execution_count": 20,
   "metadata": {
    "ExecuteTime": {
     "end_time": "2019-01-21T12:41:53.701298Z",
     "start_time": "2019-01-21T12:41:53.680679Z"
    }
   },
   "outputs": [
    {
     "data": {
      "text/html": [
       "<div>\n",
       "<style scoped>\n",
       "    .dataframe tbody tr th:only-of-type {\n",
       "        vertical-align: middle;\n",
       "    }\n",
       "\n",
       "    .dataframe tbody tr th {\n",
       "        vertical-align: top;\n",
       "    }\n",
       "\n",
       "    .dataframe thead th {\n",
       "        text-align: right;\n",
       "    }\n",
       "</style>\n",
       "<table border=\"1\" class=\"dataframe\">\n",
       "  <thead>\n",
       "    <tr style=\"text-align: right;\">\n",
       "      <th></th>\n",
       "      <th>Age</th>\n",
       "      <th>Cabin</th>\n",
       "      <th>Embarked</th>\n",
       "      <th>Fare</th>\n",
       "      <th>Name</th>\n",
       "      <th>PassengerId</th>\n",
       "      <th>Pclass</th>\n",
       "      <th>Sex</th>\n",
       "      <th>Survived</th>\n",
       "      <th>Ticket</th>\n",
       "      <th>Family</th>\n",
       "    </tr>\n",
       "  </thead>\n",
       "  <tbody>\n",
       "    <tr>\n",
       "      <th>65</th>\n",
       "      <td>NaN</td>\n",
       "      <td>-</td>\n",
       "      <td>C</td>\n",
       "      <td>15.2458</td>\n",
       "      <td>Moubarek, Master. Gerios</td>\n",
       "      <td>66</td>\n",
       "      <td>3</td>\n",
       "      <td>male</td>\n",
       "      <td>1.0</td>\n",
       "      <td>2661</td>\n",
       "      <td>2</td>\n",
       "    </tr>\n",
       "    <tr>\n",
       "      <th>159</th>\n",
       "      <td>NaN</td>\n",
       "      <td>-</td>\n",
       "      <td>S</td>\n",
       "      <td>69.5500</td>\n",
       "      <td>Sage, Master. Thomas Henry</td>\n",
       "      <td>160</td>\n",
       "      <td>3</td>\n",
       "      <td>male</td>\n",
       "      <td>0.0</td>\n",
       "      <td>CA. 2343</td>\n",
       "      <td>10</td>\n",
       "    </tr>\n",
       "    <tr>\n",
       "      <th>176</th>\n",
       "      <td>NaN</td>\n",
       "      <td>-</td>\n",
       "      <td>S</td>\n",
       "      <td>25.4667</td>\n",
       "      <td>Lefebre, Master. Henry Forbes</td>\n",
       "      <td>177</td>\n",
       "      <td>3</td>\n",
       "      <td>male</td>\n",
       "      <td>0.0</td>\n",
       "      <td>4133</td>\n",
       "      <td>4</td>\n",
       "    </tr>\n",
       "    <tr>\n",
       "      <th>709</th>\n",
       "      <td>NaN</td>\n",
       "      <td>-</td>\n",
       "      <td>C</td>\n",
       "      <td>15.2458</td>\n",
       "      <td>Moubarek, Master. Halim Gonios (\"William George\")</td>\n",
       "      <td>710</td>\n",
       "      <td>3</td>\n",
       "      <td>male</td>\n",
       "      <td>1.0</td>\n",
       "      <td>2661</td>\n",
       "      <td>2</td>\n",
       "    </tr>\n",
       "    <tr>\n",
       "      <th>766</th>\n",
       "      <td>NaN</td>\n",
       "      <td>-</td>\n",
       "      <td>C</td>\n",
       "      <td>39.6000</td>\n",
       "      <td>Brewe, Dr. Arthur Jackson</td>\n",
       "      <td>767</td>\n",
       "      <td>1</td>\n",
       "      <td>male</td>\n",
       "      <td>0.0</td>\n",
       "      <td>112379</td>\n",
       "      <td>0</td>\n",
       "    </tr>\n",
       "    <tr>\n",
       "      <th>244</th>\n",
       "      <td>NaN</td>\n",
       "      <td>NaN</td>\n",
       "      <td>S</td>\n",
       "      <td>23.4500</td>\n",
       "      <td>Johnston, Master. William Arthur Willie\"\"</td>\n",
       "      <td>1136</td>\n",
       "      <td>3</td>\n",
       "      <td>male</td>\n",
       "      <td>NaN</td>\n",
       "      <td>W./C. 6607</td>\n",
       "      <td>3</td>\n",
       "    </tr>\n",
       "    <tr>\n",
       "      <th>339</th>\n",
       "      <td>NaN</td>\n",
       "      <td>NaN</td>\n",
       "      <td>C</td>\n",
       "      <td>7.2292</td>\n",
       "      <td>Betros, Master. Seman</td>\n",
       "      <td>1231</td>\n",
       "      <td>3</td>\n",
       "      <td>male</td>\n",
       "      <td>NaN</td>\n",
       "      <td>2622</td>\n",
       "      <td>0</td>\n",
       "    </tr>\n",
       "    <tr>\n",
       "      <th>344</th>\n",
       "      <td>NaN</td>\n",
       "      <td>NaN</td>\n",
       "      <td>S</td>\n",
       "      <td>14.5000</td>\n",
       "      <td>van Billiard, Master. James William</td>\n",
       "      <td>1236</td>\n",
       "      <td>3</td>\n",
       "      <td>male</td>\n",
       "      <td>NaN</td>\n",
       "      <td>A/5. 851</td>\n",
       "      <td>2</td>\n",
       "    </tr>\n",
       "    <tr>\n",
       "      <th>417</th>\n",
       "      <td>NaN</td>\n",
       "      <td>NaN</td>\n",
       "      <td>C</td>\n",
       "      <td>22.3583</td>\n",
       "      <td>Peter, Master. Michael J</td>\n",
       "      <td>1309</td>\n",
       "      <td>3</td>\n",
       "      <td>male</td>\n",
       "      <td>NaN</td>\n",
       "      <td>2668</td>\n",
       "      <td>2</td>\n",
       "    </tr>\n",
       "  </tbody>\n",
       "</table>\n",
       "</div>"
      ],
      "text/plain": [
       "     Age Cabin Embarked     Fare  \\\n",
       "65   NaN     -        C  15.2458   \n",
       "159  NaN     -        S  69.5500   \n",
       "176  NaN     -        S  25.4667   \n",
       "709  NaN     -        C  15.2458   \n",
       "766  NaN     -        C  39.6000   \n",
       "244  NaN   NaN        S  23.4500   \n",
       "339  NaN   NaN        C   7.2292   \n",
       "344  NaN   NaN        S  14.5000   \n",
       "417  NaN   NaN        C  22.3583   \n",
       "\n",
       "                                                  Name  PassengerId  Pclass  \\\n",
       "65                            Moubarek, Master. Gerios           66       3   \n",
       "159                         Sage, Master. Thomas Henry          160       3   \n",
       "176                      Lefebre, Master. Henry Forbes          177       3   \n",
       "709  Moubarek, Master. Halim Gonios (\"William George\")          710       3   \n",
       "766                          Brewe, Dr. Arthur Jackson          767       1   \n",
       "244          Johnston, Master. William Arthur Willie\"\"         1136       3   \n",
       "339                              Betros, Master. Seman         1231       3   \n",
       "344                van Billiard, Master. James William         1236       3   \n",
       "417                           Peter, Master. Michael J         1309       3   \n",
       "\n",
       "      Sex  Survived      Ticket  Family  \n",
       "65   male       1.0        2661       2  \n",
       "159  male       0.0    CA. 2343      10  \n",
       "176  male       0.0        4133       4  \n",
       "709  male       1.0        2661       2  \n",
       "766  male       0.0      112379       0  \n",
       "244  male       NaN  W./C. 6607       3  \n",
       "339  male       NaN        2622       0  \n",
       "344  male       NaN    A/5. 851       2  \n",
       "417  male       NaN        2668       2  "
      ]
     },
     "execution_count": 20,
     "metadata": {},
     "output_type": "execute_result"
    }
   ],
   "source": [
    "X[X['Age'].isnull()]\n",
    "#都是master"
   ]
  },
  {
   "cell_type": "code",
   "execution_count": 21,
   "metadata": {
    "ExecuteTime": {
     "end_time": "2019-01-21T12:42:12.256595Z",
     "start_time": "2019-01-21T12:42:12.243093Z"
    }
   },
   "outputs": [],
   "source": [
    "#填補age1\n",
    "mask =  (X['Age'].isnull()) & ( X['Name'].str.contains('Master.') )\n",
    "X.loc[mask,'Age'] = X.loc[mask,'Age'].fillna(X[X['Name'].str.contains('Master.')]['Age'].median())"
   ]
  },
  {
   "cell_type": "code",
   "execution_count": 22,
   "metadata": {
    "ExecuteTime": {
     "end_time": "2019-01-21T12:42:15.100850Z",
     "start_time": "2019-01-21T12:42:15.084793Z"
    }
   },
   "outputs": [
    {
     "data": {
      "text/html": [
       "<div>\n",
       "<style scoped>\n",
       "    .dataframe tbody tr th:only-of-type {\n",
       "        vertical-align: middle;\n",
       "    }\n",
       "\n",
       "    .dataframe tbody tr th {\n",
       "        vertical-align: top;\n",
       "    }\n",
       "\n",
       "    .dataframe thead th {\n",
       "        text-align: right;\n",
       "    }\n",
       "</style>\n",
       "<table border=\"1\" class=\"dataframe\">\n",
       "  <thead>\n",
       "    <tr style=\"text-align: right;\">\n",
       "      <th></th>\n",
       "      <th>Age</th>\n",
       "      <th>Cabin</th>\n",
       "      <th>Embarked</th>\n",
       "      <th>Fare</th>\n",
       "      <th>Name</th>\n",
       "      <th>PassengerId</th>\n",
       "      <th>Pclass</th>\n",
       "      <th>Sex</th>\n",
       "      <th>Survived</th>\n",
       "      <th>Ticket</th>\n",
       "      <th>Family</th>\n",
       "    </tr>\n",
       "  </thead>\n",
       "  <tbody>\n",
       "    <tr>\n",
       "      <th>766</th>\n",
       "      <td>NaN</td>\n",
       "      <td>-</td>\n",
       "      <td>C</td>\n",
       "      <td>39.6</td>\n",
       "      <td>Brewe, Dr. Arthur Jackson</td>\n",
       "      <td>767</td>\n",
       "      <td>1</td>\n",
       "      <td>male</td>\n",
       "      <td>0.0</td>\n",
       "      <td>112379</td>\n",
       "      <td>0</td>\n",
       "    </tr>\n",
       "  </tbody>\n",
       "</table>\n",
       "</div>"
      ],
      "text/plain": [
       "     Age Cabin Embarked  Fare                       Name  PassengerId  Pclass  \\\n",
       "766  NaN     -        C  39.6  Brewe, Dr. Arthur Jackson          767       1   \n",
       "\n",
       "      Sex  Survived  Ticket  Family  \n",
       "766  male       0.0  112379       0  "
      ]
     },
     "execution_count": 22,
     "metadata": {},
     "output_type": "execute_result"
    }
   ],
   "source": [
    "X[X['Age'].isnull()]"
   ]
  },
  {
   "cell_type": "code",
   "execution_count": 23,
   "metadata": {
    "ExecuteTime": {
     "end_time": "2019-01-21T12:42:18.690409Z",
     "start_time": "2019-01-21T12:42:18.677500Z"
    }
   },
   "outputs": [],
   "source": [
    "#填補age2\n",
    "mask =  (X[\"Age\"].isnull()) & ( X['Name'].str.contains(\"Dr\\.\") )\n",
    "X.loc[mask,'Age'] = X.loc[mask,'Age'].fillna(X[X['Name'].str.contains(\"Dr\\.\")][\"Age\"].median())"
   ]
  },
  {
   "cell_type": "markdown",
   "metadata": {
    "ExecuteTime": {
     "end_time": "2019-01-19T08:12:31.462969Z",
     "start_time": "2019-01-19T08:12:31.460164Z"
    }
   },
   "source": [
    "### 處理缺值fare  "
   ]
  },
  {
   "cell_type": "code",
   "execution_count": 24,
   "metadata": {
    "ExecuteTime": {
     "end_time": "2019-01-21T12:42:23.488725Z",
     "start_time": "2019-01-21T12:42:23.472592Z"
    }
   },
   "outputs": [
    {
     "data": {
      "text/html": [
       "<div>\n",
       "<style scoped>\n",
       "    .dataframe tbody tr th:only-of-type {\n",
       "        vertical-align: middle;\n",
       "    }\n",
       "\n",
       "    .dataframe tbody tr th {\n",
       "        vertical-align: top;\n",
       "    }\n",
       "\n",
       "    .dataframe thead th {\n",
       "        text-align: right;\n",
       "    }\n",
       "</style>\n",
       "<table border=\"1\" class=\"dataframe\">\n",
       "  <thead>\n",
       "    <tr style=\"text-align: right;\">\n",
       "      <th></th>\n",
       "      <th>Age</th>\n",
       "      <th>Cabin</th>\n",
       "      <th>Embarked</th>\n",
       "      <th>Fare</th>\n",
       "      <th>Name</th>\n",
       "      <th>PassengerId</th>\n",
       "      <th>Pclass</th>\n",
       "      <th>Sex</th>\n",
       "      <th>Survived</th>\n",
       "      <th>Ticket</th>\n",
       "      <th>Family</th>\n",
       "    </tr>\n",
       "  </thead>\n",
       "  <tbody>\n",
       "    <tr>\n",
       "      <th>152</th>\n",
       "      <td>60.5</td>\n",
       "      <td>NaN</td>\n",
       "      <td>S</td>\n",
       "      <td>NaN</td>\n",
       "      <td>Storey, Mr. Thomas</td>\n",
       "      <td>1044</td>\n",
       "      <td>3</td>\n",
       "      <td>male</td>\n",
       "      <td>NaN</td>\n",
       "      <td>3701</td>\n",
       "      <td>0</td>\n",
       "    </tr>\n",
       "  </tbody>\n",
       "</table>\n",
       "</div>"
      ],
      "text/plain": [
       "      Age Cabin Embarked  Fare                Name  PassengerId  Pclass   Sex  \\\n",
       "152  60.5   NaN        S   NaN  Storey, Mr. Thomas         1044       3  male   \n",
       "\n",
       "     Survived Ticket  Family  \n",
       "152       NaN   3701       0  "
      ]
     },
     "execution_count": 24,
     "metadata": {},
     "output_type": "execute_result"
    }
   ],
   "source": [
    "X[X.Fare.isnull()]"
   ]
  },
  {
   "cell_type": "code",
   "execution_count": 25,
   "metadata": {
    "ExecuteTime": {
     "end_time": "2019-01-21T12:42:29.767855Z",
     "start_time": "2019-01-21T12:42:29.758508Z"
    }
   },
   "outputs": [],
   "source": [
    "X['Fare'].fillna(X['Fare'].median(), inplace=True)"
   ]
  },
  {
   "cell_type": "code",
   "execution_count": 26,
   "metadata": {
    "ExecuteTime": {
     "end_time": "2019-01-21T12:42:33.298190Z",
     "start_time": "2019-01-21T12:42:33.290881Z"
    }
   },
   "outputs": [],
   "source": [
    "#数据中Fare分布太宽，做一下scaling，加速模型收敛\n",
    "import sklearn.preprocessing as preprocessing\n",
    "scaler = preprocessing.StandardScaler()\n",
    "#Fare\n",
    "fare_scale_param = scaler.fit(X['Fare'].values.reshape(-1, 1))\n",
    "X.Fare = fare_scale_param.transform(X['Fare'].values.reshape(-1, 1))"
   ]
  },
  {
   "cell_type": "markdown",
   "metadata": {},
   "source": [
    "### 處理缺值Embarked  "
   ]
  },
  {
   "cell_type": "code",
   "execution_count": 28,
   "metadata": {
    "ExecuteTime": {
     "end_time": "2019-01-20T14:07:25.379689Z",
     "start_time": "2019-01-20T14:07:25.135916Z"
    },
    "scrolled": true
   },
   "outputs": [
    {
     "data": {
      "text/plain": [
       "Text(0.5, 1.0, 'Embarked survived count')"
      ]
     },
     "execution_count": 28,
     "metadata": {},
     "output_type": "execute_result"
    },
    {
     "data": {
      "image/png": "[encoded data removed]",
      "text/plain": [
       "<Figure size 576x216 with 1 Axes>"
      ]
     },
     "metadata": {},
     "output_type": "display_data"
    }
   ],
   "source": [
    "#港口跟獲救關係  \n",
    "plt.style.use('ggplot')\n",
    "ax = plt.figure(figsize=(8,3)).add_subplot(111)\n",
    "pos = [1, 2, 3]\n",
    "y1 = train_dataset[train_dataset.Survived==0].groupby('Embarked')['Survived'].count().sort_index().values\n",
    "y2 = train_dataset[train_dataset.Survived==1].groupby('Embarked')['Survived'].count().sort_index().values\n",
    "ax.bar(pos, y1, color='r', alpha=0.4, align='center', label='dead')\n",
    "ax.bar(pos, y2, color='g', alpha=0.4, align='center', label='alive', bottom=y1)\n",
    "ax.set_xticks(pos)\n",
    "ax.set_xticklabels(['C','Q','S'])\n",
    "ax.legend(fontsize=15, loc='best')\n",
    "ax.set_title('Embarked survived count', size=18)"
   ]
  },
  {
   "cell_type": "code",
   "execution_count": 27,
   "metadata": {
    "ExecuteTime": {
     "end_time": "2019-01-21T12:42:43.866550Z",
     "start_time": "2019-01-21T12:42:43.843810Z"
    }
   },
   "outputs": [
    {
     "data": {
      "text/html": [
       "<div>\n",
       "<style scoped>\n",
       "    .dataframe tbody tr th:only-of-type {\n",
       "        vertical-align: middle;\n",
       "    }\n",
       "\n",
       "    .dataframe tbody tr th {\n",
       "        vertical-align: top;\n",
       "    }\n",
       "\n",
       "    .dataframe thead th {\n",
       "        text-align: right;\n",
       "    }\n",
       "</style>\n",
       "<table border=\"1\" class=\"dataframe\">\n",
       "  <thead>\n",
       "    <tr style=\"text-align: right;\">\n",
       "      <th></th>\n",
       "      <th>Age</th>\n",
       "      <th>Cabin</th>\n",
       "      <th>Embarked</th>\n",
       "      <th>Fare</th>\n",
       "      <th>Name</th>\n",
       "      <th>PassengerId</th>\n",
       "      <th>Pclass</th>\n",
       "      <th>Sex</th>\n",
       "      <th>Survived</th>\n",
       "      <th>Ticket</th>\n",
       "      <th>Family</th>\n",
       "    </tr>\n",
       "  </thead>\n",
       "  <tbody>\n",
       "    <tr>\n",
       "      <th>61</th>\n",
       "      <td>38.0</td>\n",
       "      <td>B</td>\n",
       "      <td>NaN</td>\n",
       "      <td>0.903274</td>\n",
       "      <td>Icard, Miss. Amelie</td>\n",
       "      <td>62</td>\n",
       "      <td>1</td>\n",
       "      <td>female</td>\n",
       "      <td>1.0</td>\n",
       "      <td>113572</td>\n",
       "      <td>0</td>\n",
       "    </tr>\n",
       "    <tr>\n",
       "      <th>829</th>\n",
       "      <td>62.0</td>\n",
       "      <td>B</td>\n",
       "      <td>NaN</td>\n",
       "      <td>0.903274</td>\n",
       "      <td>Stone, Mrs. George Nelson (Martha Evelyn)</td>\n",
       "      <td>830</td>\n",
       "      <td>1</td>\n",
       "      <td>female</td>\n",
       "      <td>1.0</td>\n",
       "      <td>113572</td>\n",
       "      <td>0</td>\n",
       "    </tr>\n",
       "  </tbody>\n",
       "</table>\n",
       "</div>"
      ],
      "text/plain": [
       "      Age Cabin Embarked      Fare                                       Name  \\\n",
       "61   38.0     B      NaN  0.903274                        Icard, Miss. Amelie   \n",
       "829  62.0     B      NaN  0.903274  Stone, Mrs. George Nelson (Martha Evelyn)   \n",
       "\n",
       "     PassengerId  Pclass     Sex  Survived  Ticket  Family  \n",
       "61            62       1  female       1.0  113572       0  \n",
       "829          830       1  female       1.0  113572       0  "
      ]
     },
     "execution_count": 27,
     "metadata": {},
     "output_type": "execute_result"
    }
   ],
   "source": [
    "X[X['Embarked'].isnull()]"
   ]
  },
  {
   "cell_type": "code",
   "execution_count": 28,
   "metadata": {
    "ExecuteTime": {
     "end_time": "2019-01-21T12:42:48.740286Z",
     "start_time": "2019-01-21T12:42:48.725386Z"
    }
   },
   "outputs": [
    {
     "name": "stdout",
     "output_type": "stream",
     "text": [
      "S    914\n",
      "C    270\n",
      "Q    123\n",
      "Name: Embarked, dtype: int64\n",
      "Series([], Name: Embarked, dtype: int64)\n",
      "S    177\n",
      "C    141\n",
      "Q      3\n",
      "Name: Embarked, dtype: int64\n",
      "S    242\n",
      "C     28\n",
      "Q      7\n",
      "Name: Embarked, dtype: int64\n"
     ]
    }
   ],
   "source": [
    "#港口S\n",
    "print(X.Embarked.value_counts())\n",
    "print(X[(X.Pclass==0)].Embarked.value_counts())\n",
    "print(X[(X.Pclass==1)].Embarked.value_counts())\n",
    "print(X[(X.Pclass==2)].Embarked.value_counts())"
   ]
  },
  {
   "cell_type": "code",
   "execution_count": 29,
   "metadata": {
    "ExecuteTime": {
     "end_time": "2019-01-21T12:42:53.953497Z",
     "start_time": "2019-01-21T12:42:53.947934Z"
    }
   },
   "outputs": [],
   "source": [
    "#S人數最多死亡率也高，遺失的兩人很有可能是Ｓ  \n",
    "X[\"Embarked\"].fillna(\"S\", inplace=True)"
   ]
  },
  {
   "cell_type": "code",
   "execution_count": 30,
   "metadata": {
    "ExecuteTime": {
     "end_time": "2019-01-21T12:42:56.341904Z",
     "start_time": "2019-01-21T12:42:56.303769Z"
    }
   },
   "outputs": [
    {
     "data": {
      "text/html": [
       "<div>\n",
       "<style scoped>\n",
       "    .dataframe tbody tr th:only-of-type {\n",
       "        vertical-align: middle;\n",
       "    }\n",
       "\n",
       "    .dataframe tbody tr th {\n",
       "        vertical-align: top;\n",
       "    }\n",
       "\n",
       "    .dataframe thead th {\n",
       "        text-align: right;\n",
       "    }\n",
       "</style>\n",
       "<table border=\"1\" class=\"dataframe\">\n",
       "  <thead>\n",
       "    <tr style=\"text-align: right;\">\n",
       "      <th></th>\n",
       "      <th>Age</th>\n",
       "      <th>Fare</th>\n",
       "      <th>PassengerId</th>\n",
       "      <th>Pclass</th>\n",
       "      <th>Survived</th>\n",
       "      <th>Family</th>\n",
       "    </tr>\n",
       "  </thead>\n",
       "  <tbody>\n",
       "    <tr>\n",
       "      <th>count</th>\n",
       "      <td>1309.000000</td>\n",
       "      <td>1.309000e+03</td>\n",
       "      <td>1309.000000</td>\n",
       "      <td>1309.000000</td>\n",
       "      <td>891.000000</td>\n",
       "      <td>1309.000000</td>\n",
       "    </tr>\n",
       "    <tr>\n",
       "      <th>mean</th>\n",
       "      <td>29.448946</td>\n",
       "      <td>-7.330101e-17</td>\n",
       "      <td>655.000000</td>\n",
       "      <td>2.294882</td>\n",
       "      <td>0.383838</td>\n",
       "      <td>0.883881</td>\n",
       "    </tr>\n",
       "    <tr>\n",
       "      <th>std</th>\n",
       "      <td>13.137353</td>\n",
       "      <td>1.000382e+00</td>\n",
       "      <td>378.020061</td>\n",
       "      <td>0.837836</td>\n",
       "      <td>0.486592</td>\n",
       "      <td>1.583639</td>\n",
       "    </tr>\n",
       "    <tr>\n",
       "      <th>min</th>\n",
       "      <td>0.170000</td>\n",
       "      <td>-6.434642e-01</td>\n",
       "      <td>1.000000</td>\n",
       "      <td>1.000000</td>\n",
       "      <td>0.000000</td>\n",
       "      <td>0.000000</td>\n",
       "    </tr>\n",
       "    <tr>\n",
       "      <th>25%</th>\n",
       "      <td>22.000000</td>\n",
       "      <td>-4.908050e-01</td>\n",
       "      <td>328.000000</td>\n",
       "      <td>2.000000</td>\n",
       "      <td>0.000000</td>\n",
       "      <td>0.000000</td>\n",
       "    </tr>\n",
       "    <tr>\n",
       "      <th>50%</th>\n",
       "      <td>30.000000</td>\n",
       "      <td>-3.640034e-01</td>\n",
       "      <td>655.000000</td>\n",
       "      <td>3.000000</td>\n",
       "      <td>0.000000</td>\n",
       "      <td>0.000000</td>\n",
       "    </tr>\n",
       "    <tr>\n",
       "      <th>75%</th>\n",
       "      <td>35.000000</td>\n",
       "      <td>-3.878613e-02</td>\n",
       "      <td>982.000000</td>\n",
       "      <td>3.000000</td>\n",
       "      <td>1.000000</td>\n",
       "      <td>1.000000</td>\n",
       "    </tr>\n",
       "    <tr>\n",
       "      <th>max</th>\n",
       "      <td>80.000000</td>\n",
       "      <td>9.262028e+00</td>\n",
       "      <td>1309.000000</td>\n",
       "      <td>3.000000</td>\n",
       "      <td>1.000000</td>\n",
       "      <td>10.000000</td>\n",
       "    </tr>\n",
       "  </tbody>\n",
       "</table>\n",
       "</div>"
      ],
      "text/plain": [
       "               Age          Fare  PassengerId       Pclass    Survived  \\\n",
       "count  1309.000000  1.309000e+03  1309.000000  1309.000000  891.000000   \n",
       "mean     29.448946 -7.330101e-17   655.000000     2.294882    0.383838   \n",
       "std      13.137353  1.000382e+00   378.020061     0.837836    0.486592   \n",
       "min       0.170000 -6.434642e-01     1.000000     1.000000    0.000000   \n",
       "25%      22.000000 -4.908050e-01   328.000000     2.000000    0.000000   \n",
       "50%      30.000000 -3.640034e-01   655.000000     3.000000    0.000000   \n",
       "75%      35.000000 -3.878613e-02   982.000000     3.000000    1.000000   \n",
       "max      80.000000  9.262028e+00  1309.000000     3.000000    1.000000   \n",
       "\n",
       "            Family  \n",
       "count  1309.000000  \n",
       "mean      0.883881  \n",
       "std       1.583639  \n",
       "min       0.000000  \n",
       "25%       0.000000  \n",
       "50%       0.000000  \n",
       "75%       1.000000  \n",
       "max      10.000000  "
      ]
     },
     "execution_count": 30,
     "metadata": {},
     "output_type": "execute_result"
    }
   ],
   "source": [
    "X.describe()\n",
    "#從count可以知道除了待預測欄位其他數值都沒有缺值了，那非數值呢  "
   ]
  },
  {
   "cell_type": "code",
   "execution_count": 31,
   "metadata": {
    "ExecuteTime": {
     "end_time": "2019-01-21T12:43:06.078452Z",
     "start_time": "2019-01-21T12:43:06.039654Z"
    }
   },
   "outputs": [
    {
     "data": {
      "text/html": [
       "<div>\n",
       "<style scoped>\n",
       "    .dataframe tbody tr th:only-of-type {\n",
       "        vertical-align: middle;\n",
       "    }\n",
       "\n",
       "    .dataframe tbody tr th {\n",
       "        vertical-align: top;\n",
       "    }\n",
       "\n",
       "    .dataframe thead th {\n",
       "        text-align: right;\n",
       "    }\n",
       "</style>\n",
       "<table border=\"1\" class=\"dataframe\">\n",
       "  <thead>\n",
       "    <tr style=\"text-align: right;\">\n",
       "      <th></th>\n",
       "      <th>Cabin</th>\n",
       "      <th>Embarked</th>\n",
       "      <th>Name</th>\n",
       "      <th>Sex</th>\n",
       "      <th>Ticket</th>\n",
       "    </tr>\n",
       "  </thead>\n",
       "  <tbody>\n",
       "    <tr>\n",
       "      <th>count</th>\n",
       "      <td>982</td>\n",
       "      <td>1309</td>\n",
       "      <td>1309</td>\n",
       "      <td>1309</td>\n",
       "      <td>1309</td>\n",
       "    </tr>\n",
       "    <tr>\n",
       "      <th>unique</th>\n",
       "      <td>83</td>\n",
       "      <td>3</td>\n",
       "      <td>1307</td>\n",
       "      <td>2</td>\n",
       "      <td>929</td>\n",
       "    </tr>\n",
       "    <tr>\n",
       "      <th>top</th>\n",
       "      <td>-</td>\n",
       "      <td>S</td>\n",
       "      <td>Kelly, Mr. James</td>\n",
       "      <td>male</td>\n",
       "      <td>CA. 2343</td>\n",
       "    </tr>\n",
       "    <tr>\n",
       "      <th>freq</th>\n",
       "      <td>687</td>\n",
       "      <td>916</td>\n",
       "      <td>2</td>\n",
       "      <td>843</td>\n",
       "      <td>11</td>\n",
       "    </tr>\n",
       "  </tbody>\n",
       "</table>\n",
       "</div>"
      ],
      "text/plain": [
       "       Cabin Embarked              Name   Sex    Ticket\n",
       "count    982     1309              1309  1309      1309\n",
       "unique    83        3              1307     2       929\n",
       "top        -        S  Kelly, Mr. James  male  CA. 2343\n",
       "freq     687      916                 2   843        11"
      ]
     },
     "execution_count": 31,
     "metadata": {},
     "output_type": "execute_result"
    }
   ],
   "source": [
    "X.describe(include=['O'])\n",
    "#cabin有缺  "
   ]
  },
  {
   "cell_type": "code",
   "execution_count": 65,
   "metadata": {
    "ExecuteTime": {
     "end_time": "2019-01-20T02:18:00.487416Z",
     "start_time": "2019-01-20T02:18:00.428155Z"
    },
    "scrolled": false
   },
   "outputs": [
    {
     "data": {
      "text/html": [
       "<div>\n",
       "<style scoped>\n",
       "    .dataframe tbody tr th:only-of-type {\n",
       "        vertical-align: middle;\n",
       "    }\n",
       "\n",
       "    .dataframe tbody tr th {\n",
       "        vertical-align: top;\n",
       "    }\n",
       "\n",
       "    .dataframe thead th {\n",
       "        text-align: right;\n",
       "    }\n",
       "</style>\n",
       "<table border=\"1\" class=\"dataframe\">\n",
       "  <thead>\n",
       "    <tr style=\"text-align: right;\">\n",
       "      <th></th>\n",
       "      <th>Age</th>\n",
       "      <th>Cabin</th>\n",
       "      <th>Embarked</th>\n",
       "      <th>Fare</th>\n",
       "      <th>Name</th>\n",
       "      <th>PassengerId</th>\n",
       "      <th>Pclass</th>\n",
       "      <th>Sex</th>\n",
       "      <th>Survived</th>\n",
       "      <th>Ticket</th>\n",
       "      <th>Family</th>\n",
       "    </tr>\n",
       "  </thead>\n",
       "  <tbody>\n",
       "    <tr>\n",
       "      <th>0</th>\n",
       "      <td>34.5</td>\n",
       "      <td>NaN</td>\n",
       "      <td>Q</td>\n",
       "      <td>-0.492093</td>\n",
       "      <td>Kelly, Mr. James</td>\n",
       "      <td>892</td>\n",
       "      <td>3</td>\n",
       "      <td>male</td>\n",
       "      <td>NaN</td>\n",
       "      <td>330911</td>\n",
       "      <td>0</td>\n",
       "    </tr>\n",
       "    <tr>\n",
       "      <th>1</th>\n",
       "      <td>47.0</td>\n",
       "      <td>NaN</td>\n",
       "      <td>S</td>\n",
       "      <td>-0.508125</td>\n",
       "      <td>Wilkes, Mrs. James (Ellen Needs)</td>\n",
       "      <td>893</td>\n",
       "      <td>3</td>\n",
       "      <td>female</td>\n",
       "      <td>NaN</td>\n",
       "      <td>363272</td>\n",
       "      <td>1</td>\n",
       "    </tr>\n",
       "    <tr>\n",
       "      <th>2</th>\n",
       "      <td>62.0</td>\n",
       "      <td>NaN</td>\n",
       "      <td>Q</td>\n",
       "      <td>-0.456164</td>\n",
       "      <td>Myles, Mr. Thomas Francis</td>\n",
       "      <td>894</td>\n",
       "      <td>2</td>\n",
       "      <td>male</td>\n",
       "      <td>NaN</td>\n",
       "      <td>240276</td>\n",
       "      <td>0</td>\n",
       "    </tr>\n",
       "    <tr>\n",
       "      <th>3</th>\n",
       "      <td>27.0</td>\n",
       "      <td>NaN</td>\n",
       "      <td>S</td>\n",
       "      <td>-0.475981</td>\n",
       "      <td>Wirz, Mr. Albert</td>\n",
       "      <td>895</td>\n",
       "      <td>3</td>\n",
       "      <td>male</td>\n",
       "      <td>NaN</td>\n",
       "      <td>315154</td>\n",
       "      <td>0</td>\n",
       "    </tr>\n",
       "    <tr>\n",
       "      <th>4</th>\n",
       "      <td>22.0</td>\n",
       "      <td>NaN</td>\n",
       "      <td>S</td>\n",
       "      <td>-0.405895</td>\n",
       "      <td>Hirvonen, Mrs. Alexander (Helga E Lindqvist)</td>\n",
       "      <td>896</td>\n",
       "      <td>3</td>\n",
       "      <td>female</td>\n",
       "      <td>NaN</td>\n",
       "      <td>3101298</td>\n",
       "      <td>2</td>\n",
       "    </tr>\n",
       "    <tr>\n",
       "      <th>5</th>\n",
       "      <td>14.0</td>\n",
       "      <td>NaN</td>\n",
       "      <td>S</td>\n",
       "      <td>-0.465106</td>\n",
       "      <td>Svensson, Mr. Johan Cervin</td>\n",
       "      <td>897</td>\n",
       "      <td>3</td>\n",
       "      <td>male</td>\n",
       "      <td>NaN</td>\n",
       "      <td>7538</td>\n",
       "      <td>0</td>\n",
       "    </tr>\n",
       "    <tr>\n",
       "      <th>6</th>\n",
       "      <td>30.0</td>\n",
       "      <td>NaN</td>\n",
       "      <td>Q</td>\n",
       "      <td>-0.495960</td>\n",
       "      <td>Connolly, Miss. Kate</td>\n",
       "      <td>898</td>\n",
       "      <td>3</td>\n",
       "      <td>female</td>\n",
       "      <td>NaN</td>\n",
       "      <td>330972</td>\n",
       "      <td>0</td>\n",
       "    </tr>\n",
       "    <tr>\n",
       "      <th>7</th>\n",
       "      <td>26.0</td>\n",
       "      <td>NaN</td>\n",
       "      <td>S</td>\n",
       "      <td>-0.082772</td>\n",
       "      <td>Caldwell, Mr. Albert Francis</td>\n",
       "      <td>899</td>\n",
       "      <td>2</td>\n",
       "      <td>male</td>\n",
       "      <td>NaN</td>\n",
       "      <td>248738</td>\n",
       "      <td>2</td>\n",
       "    </tr>\n",
       "    <tr>\n",
       "      <th>8</th>\n",
       "      <td>18.0</td>\n",
       "      <td>NaN</td>\n",
       "      <td>C</td>\n",
       "      <td>-0.503693</td>\n",
       "      <td>Abrahim, Mrs. Joseph (Sophie Halaut Easu)</td>\n",
       "      <td>900</td>\n",
       "      <td>3</td>\n",
       "      <td>female</td>\n",
       "      <td>NaN</td>\n",
       "      <td>2657</td>\n",
       "      <td>0</td>\n",
       "    </tr>\n",
       "    <tr>\n",
       "      <th>9</th>\n",
       "      <td>21.0</td>\n",
       "      <td>NaN</td>\n",
       "      <td>S</td>\n",
       "      <td>-0.176543</td>\n",
       "      <td>Davies, Mr. John Samuel</td>\n",
       "      <td>901</td>\n",
       "      <td>3</td>\n",
       "      <td>male</td>\n",
       "      <td>NaN</td>\n",
       "      <td>A/4 48871</td>\n",
       "      <td>2</td>\n",
       "    </tr>\n",
       "    <tr>\n",
       "      <th>10</th>\n",
       "      <td>30.0</td>\n",
       "      <td>NaN</td>\n",
       "      <td>S</td>\n",
       "      <td>-0.490805</td>\n",
       "      <td>Ilieff, Mr. Ylio</td>\n",
       "      <td>902</td>\n",
       "      <td>3</td>\n",
       "      <td>male</td>\n",
       "      <td>NaN</td>\n",
       "      <td>349220</td>\n",
       "      <td>0</td>\n",
       "    </tr>\n",
       "    <tr>\n",
       "      <th>11</th>\n",
       "      <td>46.0</td>\n",
       "      <td>NaN</td>\n",
       "      <td>S</td>\n",
       "      <td>-0.140774</td>\n",
       "      <td>Jones, Mr. Charles Cresson</td>\n",
       "      <td>903</td>\n",
       "      <td>1</td>\n",
       "      <td>male</td>\n",
       "      <td>NaN</td>\n",
       "      <td>694</td>\n",
       "      <td>0</td>\n",
       "    </tr>\n",
       "    <tr>\n",
       "      <th>13</th>\n",
       "      <td>63.0</td>\n",
       "      <td>NaN</td>\n",
       "      <td>S</td>\n",
       "      <td>-0.140774</td>\n",
       "      <td>Howard, Mr. Benjamin</td>\n",
       "      <td>905</td>\n",
       "      <td>2</td>\n",
       "      <td>male</td>\n",
       "      <td>NaN</td>\n",
       "      <td>24065</td>\n",
       "      <td>1</td>\n",
       "    </tr>\n",
       "    <tr>\n",
       "      <th>15</th>\n",
       "      <td>24.0</td>\n",
       "      <td>NaN</td>\n",
       "      <td>C</td>\n",
       "      <td>-0.107504</td>\n",
       "      <td>del Carlo, Mrs. Sebastiano (Argenia Genovesi)</td>\n",
       "      <td>907</td>\n",
       "      <td>2</td>\n",
       "      <td>female</td>\n",
       "      <td>NaN</td>\n",
       "      <td>SC/PARIS 2167</td>\n",
       "      <td>1</td>\n",
       "    </tr>\n",
       "    <tr>\n",
       "      <th>16</th>\n",
       "      <td>35.0</td>\n",
       "      <td>NaN</td>\n",
       "      <td>Q</td>\n",
       "      <td>-0.404686</td>\n",
       "      <td>Keane, Mr. Daniel</td>\n",
       "      <td>908</td>\n",
       "      <td>2</td>\n",
       "      <td>male</td>\n",
       "      <td>NaN</td>\n",
       "      <td>233734</td>\n",
       "      <td>0</td>\n",
       "    </tr>\n",
       "    <tr>\n",
       "      <th>17</th>\n",
       "      <td>21.0</td>\n",
       "      <td>NaN</td>\n",
       "      <td>C</td>\n",
       "      <td>-0.503774</td>\n",
       "      <td>Assaf, Mr. Gerios</td>\n",
       "      <td>909</td>\n",
       "      <td>3</td>\n",
       "      <td>male</td>\n",
       "      <td>NaN</td>\n",
       "      <td>2692</td>\n",
       "      <td>0</td>\n",
       "    </tr>\n",
       "    <tr>\n",
       "      <th>18</th>\n",
       "      <td>27.0</td>\n",
       "      <td>NaN</td>\n",
       "      <td>S</td>\n",
       "      <td>-0.490240</td>\n",
       "      <td>Ilmakangas, Miss. Ida Livija</td>\n",
       "      <td>910</td>\n",
       "      <td>3</td>\n",
       "      <td>female</td>\n",
       "      <td>NaN</td>\n",
       "      <td>STON/O2. 3101270</td>\n",
       "      <td>1</td>\n",
       "    </tr>\n",
       "    <tr>\n",
       "      <th>19</th>\n",
       "      <td>45.0</td>\n",
       "      <td>NaN</td>\n",
       "      <td>C</td>\n",
       "      <td>-0.503774</td>\n",
       "      <td>Assaf Khalil, Mrs. Mariana (Miriam\")\"</td>\n",
       "      <td>911</td>\n",
       "      <td>3</td>\n",
       "      <td>female</td>\n",
       "      <td>NaN</td>\n",
       "      <td>2696</td>\n",
       "      <td>0</td>\n",
       "    </tr>\n",
       "    <tr>\n",
       "      <th>20</th>\n",
       "      <td>55.0</td>\n",
       "      <td>NaN</td>\n",
       "      <td>C</td>\n",
       "      <td>0.504989</td>\n",
       "      <td>Rothschild, Mr. Martin</td>\n",
       "      <td>912</td>\n",
       "      <td>1</td>\n",
       "      <td>male</td>\n",
       "      <td>NaN</td>\n",
       "      <td>PC 17603</td>\n",
       "      <td>1</td>\n",
       "    </tr>\n",
       "    <tr>\n",
       "      <th>21</th>\n",
       "      <td>9.0</td>\n",
       "      <td>NaN</td>\n",
       "      <td>S</td>\n",
       "      <td>-0.582159</td>\n",
       "      <td>Olsen, Master. Artur Karl</td>\n",
       "      <td>913</td>\n",
       "      <td>3</td>\n",
       "      <td>male</td>\n",
       "      <td>NaN</td>\n",
       "      <td>C 17368</td>\n",
       "      <td>1</td>\n",
       "    </tr>\n",
       "    <tr>\n",
       "      <th>22</th>\n",
       "      <td>30.0</td>\n",
       "      <td>NaN</td>\n",
       "      <td>S</td>\n",
       "      <td>-0.030892</td>\n",
       "      <td>Flegenheim, Mrs. Alfred (Antoinette)</td>\n",
       "      <td>914</td>\n",
       "      <td>1</td>\n",
       "      <td>female</td>\n",
       "      <td>NaN</td>\n",
       "      <td>PC 17598</td>\n",
       "      <td>0</td>\n",
       "    </tr>\n",
       "    <tr>\n",
       "      <th>23</th>\n",
       "      <td>21.0</td>\n",
       "      <td>NaN</td>\n",
       "      <td>C</td>\n",
       "      <td>0.543255</td>\n",
       "      <td>Williams, Mr. Richard Norris II</td>\n",
       "      <td>915</td>\n",
       "      <td>1</td>\n",
       "      <td>male</td>\n",
       "      <td>NaN</td>\n",
       "      <td>PC 17597</td>\n",
       "      <td>1</td>\n",
       "    </tr>\n",
       "    <tr>\n",
       "      <th>25</th>\n",
       "      <td>50.0</td>\n",
       "      <td>NaN</td>\n",
       "      <td>S</td>\n",
       "      <td>-0.363118</td>\n",
       "      <td>Robins, Mr. Alexander A</td>\n",
       "      <td>917</td>\n",
       "      <td>3</td>\n",
       "      <td>male</td>\n",
       "      <td>NaN</td>\n",
       "      <td>A/5. 3337</td>\n",
       "      <td>1</td>\n",
       "    </tr>\n",
       "    <tr>\n",
       "      <th>27</th>\n",
       "      <td>22.5</td>\n",
       "      <td>NaN</td>\n",
       "      <td>C</td>\n",
       "      <td>-0.503774</td>\n",
       "      <td>Daher, Mr. Shedid</td>\n",
       "      <td>919</td>\n",
       "      <td>3</td>\n",
       "      <td>male</td>\n",
       "      <td>NaN</td>\n",
       "      <td>2698</td>\n",
       "      <td>0</td>\n",
       "    </tr>\n",
       "    <tr>\n",
       "      <th>29</th>\n",
       "      <td>30.0</td>\n",
       "      <td>NaN</td>\n",
       "      <td>C</td>\n",
       "      <td>-0.224314</td>\n",
       "      <td>Samaan, Mr. Elias</td>\n",
       "      <td>921</td>\n",
       "      <td>3</td>\n",
       "      <td>male</td>\n",
       "      <td>NaN</td>\n",
       "      <td>2662</td>\n",
       "      <td>2</td>\n",
       "    </tr>\n",
       "    <tr>\n",
       "      <th>30</th>\n",
       "      <td>50.0</td>\n",
       "      <td>NaN</td>\n",
       "      <td>S</td>\n",
       "      <td>-0.140774</td>\n",
       "      <td>Louch, Mr. Charles Alexander</td>\n",
       "      <td>922</td>\n",
       "      <td>2</td>\n",
       "      <td>male</td>\n",
       "      <td>NaN</td>\n",
       "      <td>SC/AH 3085</td>\n",
       "      <td>1</td>\n",
       "    </tr>\n",
       "    <tr>\n",
       "      <th>31</th>\n",
       "      <td>24.0</td>\n",
       "      <td>NaN</td>\n",
       "      <td>S</td>\n",
       "      <td>-0.034436</td>\n",
       "      <td>Jefferys, Mr. Clifford Thomas</td>\n",
       "      <td>923</td>\n",
       "      <td>2</td>\n",
       "      <td>male</td>\n",
       "      <td>NaN</td>\n",
       "      <td>C.A. 31029</td>\n",
       "      <td>2</td>\n",
       "    </tr>\n",
       "    <tr>\n",
       "      <th>32</th>\n",
       "      <td>33.0</td>\n",
       "      <td>NaN</td>\n",
       "      <td>S</td>\n",
       "      <td>-0.245662</td>\n",
       "      <td>Dean, Mrs. Bertram (Eva Georgetta Light)</td>\n",
       "      <td>924</td>\n",
       "      <td>3</td>\n",
       "      <td>female</td>\n",
       "      <td>NaN</td>\n",
       "      <td>C.A. 2315</td>\n",
       "      <td>3</td>\n",
       "    </tr>\n",
       "    <tr>\n",
       "      <th>33</th>\n",
       "      <td>30.0</td>\n",
       "      <td>NaN</td>\n",
       "      <td>S</td>\n",
       "      <td>-0.190076</td>\n",
       "      <td>Johnston, Mrs. Andrew G (Elizabeth Lily\" Watson)\"</td>\n",
       "      <td>925</td>\n",
       "      <td>3</td>\n",
       "      <td>female</td>\n",
       "      <td>NaN</td>\n",
       "      <td>W./C. 6607</td>\n",
       "      <td>3</td>\n",
       "    </tr>\n",
       "    <tr>\n",
       "      <th>35</th>\n",
       "      <td>18.5</td>\n",
       "      <td>NaN</td>\n",
       "      <td>C</td>\n",
       "      <td>-0.503693</td>\n",
       "      <td>Katavelas, Mr. Vassilios (Catavelas Vassilios\")\"</td>\n",
       "      <td>927</td>\n",
       "      <td>3</td>\n",
       "      <td>male</td>\n",
       "      <td>NaN</td>\n",
       "      <td>2682</td>\n",
       "      <td>0</td>\n",
       "    </tr>\n",
       "    <tr>\n",
       "      <th>...</th>\n",
       "      <td>...</td>\n",
       "      <td>...</td>\n",
       "      <td>...</td>\n",
       "      <td>...</td>\n",
       "      <td>...</td>\n",
       "      <td>...</td>\n",
       "      <td>...</td>\n",
       "      <td>...</td>\n",
       "      <td>...</td>\n",
       "      <td>...</td>\n",
       "      <td>...</td>\n",
       "    </tr>\n",
       "    <tr>\n",
       "      <th>377</th>\n",
       "      <td>21.0</td>\n",
       "      <td>NaN</td>\n",
       "      <td>S</td>\n",
       "      <td>-0.421121</td>\n",
       "      <td>Cotterill, Mr. Henry Harry\"\"</td>\n",
       "      <td>1269</td>\n",
       "      <td>2</td>\n",
       "      <td>male</td>\n",
       "      <td>NaN</td>\n",
       "      <td>29107</td>\n",
       "      <td>0</td>\n",
       "    </tr>\n",
       "    <tr>\n",
       "      <th>379</th>\n",
       "      <td>5.0</td>\n",
       "      <td>NaN</td>\n",
       "      <td>S</td>\n",
       "      <td>-0.036611</td>\n",
       "      <td>Asplund, Master. Carl Edgar</td>\n",
       "      <td>1271</td>\n",
       "      <td>3</td>\n",
       "      <td>male</td>\n",
       "      <td>NaN</td>\n",
       "      <td>347077</td>\n",
       "      <td>6</td>\n",
       "    </tr>\n",
       "    <tr>\n",
       "      <th>380</th>\n",
       "      <td>30.0</td>\n",
       "      <td>NaN</td>\n",
       "      <td>Q</td>\n",
       "      <td>-0.493624</td>\n",
       "      <td>O'Connor, Mr. Patrick</td>\n",
       "      <td>1272</td>\n",
       "      <td>3</td>\n",
       "      <td>male</td>\n",
       "      <td>NaN</td>\n",
       "      <td>366713</td>\n",
       "      <td>0</td>\n",
       "    </tr>\n",
       "    <tr>\n",
       "      <th>381</th>\n",
       "      <td>26.0</td>\n",
       "      <td>NaN</td>\n",
       "      <td>Q</td>\n",
       "      <td>-0.491126</td>\n",
       "      <td>Foley, Mr. Joseph</td>\n",
       "      <td>1273</td>\n",
       "      <td>3</td>\n",
       "      <td>male</td>\n",
       "      <td>NaN</td>\n",
       "      <td>330910</td>\n",
       "      <td>0</td>\n",
       "    </tr>\n",
       "    <tr>\n",
       "      <th>382</th>\n",
       "      <td>30.0</td>\n",
       "      <td>NaN</td>\n",
       "      <td>S</td>\n",
       "      <td>-0.363118</td>\n",
       "      <td>Risien, Mrs. Samuel (Emma)</td>\n",
       "      <td>1274</td>\n",
       "      <td>3</td>\n",
       "      <td>female</td>\n",
       "      <td>NaN</td>\n",
       "      <td>364498</td>\n",
       "      <td>0</td>\n",
       "    </tr>\n",
       "    <tr>\n",
       "      <th>383</th>\n",
       "      <td>19.0</td>\n",
       "      <td>NaN</td>\n",
       "      <td>S</td>\n",
       "      <td>-0.332183</td>\n",
       "      <td>McNamee, Mrs. Neal (Eileen O'Leary)</td>\n",
       "      <td>1275</td>\n",
       "      <td>3</td>\n",
       "      <td>female</td>\n",
       "      <td>NaN</td>\n",
       "      <td>376566</td>\n",
       "      <td>1</td>\n",
       "    </tr>\n",
       "    <tr>\n",
       "      <th>384</th>\n",
       "      <td>30.0</td>\n",
       "      <td>NaN</td>\n",
       "      <td>S</td>\n",
       "      <td>-0.394536</td>\n",
       "      <td>Wheeler, Mr. Edwin Frederick\"\"</td>\n",
       "      <td>1276</td>\n",
       "      <td>2</td>\n",
       "      <td>male</td>\n",
       "      <td>NaN</td>\n",
       "      <td>SC/PARIS 2159</td>\n",
       "      <td>0</td>\n",
       "    </tr>\n",
       "    <tr>\n",
       "      <th>385</th>\n",
       "      <td>24.0</td>\n",
       "      <td>NaN</td>\n",
       "      <td>S</td>\n",
       "      <td>0.613261</td>\n",
       "      <td>Herman, Miss. Kate</td>\n",
       "      <td>1277</td>\n",
       "      <td>2</td>\n",
       "      <td>female</td>\n",
       "      <td>NaN</td>\n",
       "      <td>220845</td>\n",
       "      <td>3</td>\n",
       "    </tr>\n",
       "    <tr>\n",
       "      <th>386</th>\n",
       "      <td>24.0</td>\n",
       "      <td>NaN</td>\n",
       "      <td>S</td>\n",
       "      <td>-0.493141</td>\n",
       "      <td>Aronsson, Mr. Ernst Axel Algot</td>\n",
       "      <td>1278</td>\n",
       "      <td>3</td>\n",
       "      <td>male</td>\n",
       "      <td>NaN</td>\n",
       "      <td>349911</td>\n",
       "      <td>0</td>\n",
       "    </tr>\n",
       "    <tr>\n",
       "      <th>387</th>\n",
       "      <td>57.0</td>\n",
       "      <td>NaN</td>\n",
       "      <td>S</td>\n",
       "      <td>-0.392119</td>\n",
       "      <td>Ashby, Mr. John</td>\n",
       "      <td>1279</td>\n",
       "      <td>2</td>\n",
       "      <td>male</td>\n",
       "      <td>NaN</td>\n",
       "      <td>244346</td>\n",
       "      <td>0</td>\n",
       "    </tr>\n",
       "    <tr>\n",
       "      <th>388</th>\n",
       "      <td>21.0</td>\n",
       "      <td>NaN</td>\n",
       "      <td>Q</td>\n",
       "      <td>-0.493624</td>\n",
       "      <td>Canavan, Mr. Patrick</td>\n",
       "      <td>1280</td>\n",
       "      <td>3</td>\n",
       "      <td>male</td>\n",
       "      <td>NaN</td>\n",
       "      <td>364858</td>\n",
       "      <td>0</td>\n",
       "    </tr>\n",
       "    <tr>\n",
       "      <th>389</th>\n",
       "      <td>6.0</td>\n",
       "      <td>NaN</td>\n",
       "      <td>S</td>\n",
       "      <td>-0.235995</td>\n",
       "      <td>Palsson, Master. Paul Folke</td>\n",
       "      <td>1281</td>\n",
       "      <td>3</td>\n",
       "      <td>male</td>\n",
       "      <td>NaN</td>\n",
       "      <td>349909</td>\n",
       "      <td>4</td>\n",
       "    </tr>\n",
       "    <tr>\n",
       "      <th>392</th>\n",
       "      <td>13.0</td>\n",
       "      <td>NaN</td>\n",
       "      <td>S</td>\n",
       "      <td>-0.251946</td>\n",
       "      <td>Abbott, Master. Eugene Joseph</td>\n",
       "      <td>1284</td>\n",
       "      <td>3</td>\n",
       "      <td>male</td>\n",
       "      <td>NaN</td>\n",
       "      <td>C.A. 2673</td>\n",
       "      <td>2</td>\n",
       "    </tr>\n",
       "    <tr>\n",
       "      <th>393</th>\n",
       "      <td>47.0</td>\n",
       "      <td>NaN</td>\n",
       "      <td>S</td>\n",
       "      <td>-0.440455</td>\n",
       "      <td>Gilbert, Mr. William</td>\n",
       "      <td>1285</td>\n",
       "      <td>2</td>\n",
       "      <td>male</td>\n",
       "      <td>NaN</td>\n",
       "      <td>C.A. 30769</td>\n",
       "      <td>0</td>\n",
       "    </tr>\n",
       "    <tr>\n",
       "      <th>394</th>\n",
       "      <td>29.0</td>\n",
       "      <td>NaN</td>\n",
       "      <td>S</td>\n",
       "      <td>-0.217628</td>\n",
       "      <td>Kink-Heilmann, Mr. Anton</td>\n",
       "      <td>1286</td>\n",
       "      <td>3</td>\n",
       "      <td>male</td>\n",
       "      <td>NaN</td>\n",
       "      <td>315153</td>\n",
       "      <td>4</td>\n",
       "    </tr>\n",
       "    <tr>\n",
       "      <th>396</th>\n",
       "      <td>24.0</td>\n",
       "      <td>NaN</td>\n",
       "      <td>Q</td>\n",
       "      <td>-0.503291</td>\n",
       "      <td>Colbert, Mr. Patrick</td>\n",
       "      <td>1288</td>\n",
       "      <td>3</td>\n",
       "      <td>male</td>\n",
       "      <td>NaN</td>\n",
       "      <td>371109</td>\n",
       "      <td>0</td>\n",
       "    </tr>\n",
       "    <tr>\n",
       "      <th>398</th>\n",
       "      <td>22.0</td>\n",
       "      <td>NaN</td>\n",
       "      <td>S</td>\n",
       "      <td>-0.493141</td>\n",
       "      <td>Larsson-Rondberg, Mr. Edvard A</td>\n",
       "      <td>1290</td>\n",
       "      <td>3</td>\n",
       "      <td>male</td>\n",
       "      <td>NaN</td>\n",
       "      <td>347065</td>\n",
       "      <td>0</td>\n",
       "    </tr>\n",
       "    <tr>\n",
       "      <th>399</th>\n",
       "      <td>31.0</td>\n",
       "      <td>NaN</td>\n",
       "      <td>Q</td>\n",
       "      <td>-0.493947</td>\n",
       "      <td>Conlon, Mr. Thomas Henry</td>\n",
       "      <td>1291</td>\n",
       "      <td>3</td>\n",
       "      <td>male</td>\n",
       "      <td>NaN</td>\n",
       "      <td>21332</td>\n",
       "      <td>0</td>\n",
       "    </tr>\n",
       "    <tr>\n",
       "      <th>401</th>\n",
       "      <td>38.0</td>\n",
       "      <td>NaN</td>\n",
       "      <td>S</td>\n",
       "      <td>-0.237445</td>\n",
       "      <td>Gale, Mr. Harry</td>\n",
       "      <td>1293</td>\n",
       "      <td>2</td>\n",
       "      <td>male</td>\n",
       "      <td>NaN</td>\n",
       "      <td>28664</td>\n",
       "      <td>1</td>\n",
       "    </tr>\n",
       "    <tr>\n",
       "      <th>402</th>\n",
       "      <td>22.0</td>\n",
       "      <td>NaN</td>\n",
       "      <td>C</td>\n",
       "      <td>0.504989</td>\n",
       "      <td>Gibson, Miss. Dorothy Winifred</td>\n",
       "      <td>1294</td>\n",
       "      <td>1</td>\n",
       "      <td>female</td>\n",
       "      <td>NaN</td>\n",
       "      <td>112378</td>\n",
       "      <td>1</td>\n",
       "    </tr>\n",
       "    <tr>\n",
       "      <th>403</th>\n",
       "      <td>17.0</td>\n",
       "      <td>NaN</td>\n",
       "      <td>S</td>\n",
       "      <td>0.267178</td>\n",
       "      <td>Carrau, Mr. Jose Pedro</td>\n",
       "      <td>1295</td>\n",
       "      <td>1</td>\n",
       "      <td>male</td>\n",
       "      <td>NaN</td>\n",
       "      <td>113059</td>\n",
       "      <td>0</td>\n",
       "    </tr>\n",
       "    <tr>\n",
       "      <th>406</th>\n",
       "      <td>23.0</td>\n",
       "      <td>NaN</td>\n",
       "      <td>S</td>\n",
       "      <td>-0.440455</td>\n",
       "      <td>Ware, Mr. William Jeffery</td>\n",
       "      <td>1298</td>\n",
       "      <td>2</td>\n",
       "      <td>male</td>\n",
       "      <td>NaN</td>\n",
       "      <td>28666</td>\n",
       "      <td>1</td>\n",
       "    </tr>\n",
       "    <tr>\n",
       "      <th>408</th>\n",
       "      <td>22.0</td>\n",
       "      <td>NaN</td>\n",
       "      <td>Q</td>\n",
       "      <td>-0.494189</td>\n",
       "      <td>Riordan, Miss. Johanna Hannah\"\"</td>\n",
       "      <td>1300</td>\n",
       "      <td>3</td>\n",
       "      <td>female</td>\n",
       "      <td>NaN</td>\n",
       "      <td>334915</td>\n",
       "      <td>0</td>\n",
       "    </tr>\n",
       "    <tr>\n",
       "      <th>409</th>\n",
       "      <td>3.0</td>\n",
       "      <td>NaN</td>\n",
       "      <td>S</td>\n",
       "      <td>-0.377135</td>\n",
       "      <td>Peacock, Miss. Treasteall</td>\n",
       "      <td>1301</td>\n",
       "      <td>3</td>\n",
       "      <td>female</td>\n",
       "      <td>NaN</td>\n",
       "      <td>SOTON/O.Q. 3101315</td>\n",
       "      <td>2</td>\n",
       "    </tr>\n",
       "    <tr>\n",
       "      <th>410</th>\n",
       "      <td>22.0</td>\n",
       "      <td>NaN</td>\n",
       "      <td>Q</td>\n",
       "      <td>-0.493624</td>\n",
       "      <td>Naughton, Miss. Hannah</td>\n",
       "      <td>1302</td>\n",
       "      <td>3</td>\n",
       "      <td>female</td>\n",
       "      <td>NaN</td>\n",
       "      <td>365237</td>\n",
       "      <td>0</td>\n",
       "    </tr>\n",
       "    <tr>\n",
       "      <th>412</th>\n",
       "      <td>28.0</td>\n",
       "      <td>NaN</td>\n",
       "      <td>S</td>\n",
       "      <td>-0.493141</td>\n",
       "      <td>Henriksson, Miss. Jenny Lovisa</td>\n",
       "      <td>1304</td>\n",
       "      <td>3</td>\n",
       "      <td>female</td>\n",
       "      <td>NaN</td>\n",
       "      <td>347086</td>\n",
       "      <td>0</td>\n",
       "    </tr>\n",
       "    <tr>\n",
       "      <th>413</th>\n",
       "      <td>30.0</td>\n",
       "      <td>NaN</td>\n",
       "      <td>S</td>\n",
       "      <td>-0.487824</td>\n",
       "      <td>Spector, Mr. Woolf</td>\n",
       "      <td>1305</td>\n",
       "      <td>3</td>\n",
       "      <td>male</td>\n",
       "      <td>NaN</td>\n",
       "      <td>A.5. 3236</td>\n",
       "      <td>0</td>\n",
       "    </tr>\n",
       "    <tr>\n",
       "      <th>415</th>\n",
       "      <td>38.5</td>\n",
       "      <td>NaN</td>\n",
       "      <td>S</td>\n",
       "      <td>-0.503291</td>\n",
       "      <td>Saether, Mr. Simon Sivertsen</td>\n",
       "      <td>1307</td>\n",
       "      <td>3</td>\n",
       "      <td>male</td>\n",
       "      <td>NaN</td>\n",
       "      <td>SOTON/O.Q. 3101262</td>\n",
       "      <td>0</td>\n",
       "    </tr>\n",
       "    <tr>\n",
       "      <th>416</th>\n",
       "      <td>30.0</td>\n",
       "      <td>NaN</td>\n",
       "      <td>S</td>\n",
       "      <td>-0.487824</td>\n",
       "      <td>Ware, Mr. Frederick</td>\n",
       "      <td>1308</td>\n",
       "      <td>3</td>\n",
       "      <td>male</td>\n",
       "      <td>NaN</td>\n",
       "      <td>359309</td>\n",
       "      <td>0</td>\n",
       "    </tr>\n",
       "    <tr>\n",
       "      <th>417</th>\n",
       "      <td>4.0</td>\n",
       "      <td>NaN</td>\n",
       "      <td>C</td>\n",
       "      <td>-0.211184</td>\n",
       "      <td>Peter, Master. Michael J</td>\n",
       "      <td>1309</td>\n",
       "      <td>3</td>\n",
       "      <td>male</td>\n",
       "      <td>NaN</td>\n",
       "      <td>2668</td>\n",
       "      <td>2</td>\n",
       "    </tr>\n",
       "  </tbody>\n",
       "</table>\n",
       "<p>327 rows × 11 columns</p>\n",
       "</div>"
      ],
      "text/plain": [
       "      Age Cabin Embarked      Fare  \\\n",
       "0    34.5   NaN        Q -0.492093   \n",
       "1    47.0   NaN        S -0.508125   \n",
       "2    62.0   NaN        Q -0.456164   \n",
       "3    27.0   NaN        S -0.475981   \n",
       "4    22.0   NaN        S -0.405895   \n",
       "5    14.0   NaN        S -0.465106   \n",
       "6    30.0   NaN        Q -0.495960   \n",
       "7    26.0   NaN        S -0.082772   \n",
       "8    18.0   NaN        C -0.503693   \n",
       "9    21.0   NaN        S -0.176543   \n",
       "10   30.0   NaN        S -0.490805   \n",
       "11   46.0   NaN        S -0.140774   \n",
       "13   63.0   NaN        S -0.140774   \n",
       "15   24.0   NaN        C -0.107504   \n",
       "16   35.0   NaN        Q -0.404686   \n",
       "17   21.0   NaN        C -0.503774   \n",
       "18   27.0   NaN        S -0.490240   \n",
       "19   45.0   NaN        C -0.503774   \n",
       "20   55.0   NaN        C  0.504989   \n",
       "21    9.0   NaN        S -0.582159   \n",
       "22   30.0   NaN        S -0.030892   \n",
       "23   21.0   NaN        C  0.543255   \n",
       "25   50.0   NaN        S -0.363118   \n",
       "27   22.5   NaN        C -0.503774   \n",
       "29   30.0   NaN        C -0.224314   \n",
       "30   50.0   NaN        S -0.140774   \n",
       "31   24.0   NaN        S -0.034436   \n",
       "32   33.0   NaN        S -0.245662   \n",
       "33   30.0   NaN        S -0.190076   \n",
       "35   18.5   NaN        C -0.503693   \n",
       "..    ...   ...      ...       ...   \n",
       "377  21.0   NaN        S -0.421121   \n",
       "379   5.0   NaN        S -0.036611   \n",
       "380  30.0   NaN        Q -0.493624   \n",
       "381  26.0   NaN        Q -0.491126   \n",
       "382  30.0   NaN        S -0.363118   \n",
       "383  19.0   NaN        S -0.332183   \n",
       "384  30.0   NaN        S -0.394536   \n",
       "385  24.0   NaN        S  0.613261   \n",
       "386  24.0   NaN        S -0.493141   \n",
       "387  57.0   NaN        S -0.392119   \n",
       "388  21.0   NaN        Q -0.493624   \n",
       "389   6.0   NaN        S -0.235995   \n",
       "392  13.0   NaN        S -0.251946   \n",
       "393  47.0   NaN        S -0.440455   \n",
       "394  29.0   NaN        S -0.217628   \n",
       "396  24.0   NaN        Q -0.503291   \n",
       "398  22.0   NaN        S -0.493141   \n",
       "399  31.0   NaN        Q -0.493947   \n",
       "401  38.0   NaN        S -0.237445   \n",
       "402  22.0   NaN        C  0.504989   \n",
       "403  17.0   NaN        S  0.267178   \n",
       "406  23.0   NaN        S -0.440455   \n",
       "408  22.0   NaN        Q -0.494189   \n",
       "409   3.0   NaN        S -0.377135   \n",
       "410  22.0   NaN        Q -0.493624   \n",
       "412  28.0   NaN        S -0.493141   \n",
       "413  30.0   NaN        S -0.487824   \n",
       "415  38.5   NaN        S -0.503291   \n",
       "416  30.0   NaN        S -0.487824   \n",
       "417   4.0   NaN        C -0.211184   \n",
       "\n",
       "                                                  Name  PassengerId  Pclass  \\\n",
       "0                                     Kelly, Mr. James          892       3   \n",
       "1                     Wilkes, Mrs. James (Ellen Needs)          893       3   \n",
       "2                            Myles, Mr. Thomas Francis          894       2   \n",
       "3                                     Wirz, Mr. Albert          895       3   \n",
       "4         Hirvonen, Mrs. Alexander (Helga E Lindqvist)          896       3   \n",
       "5                           Svensson, Mr. Johan Cervin          897       3   \n",
       "6                                 Connolly, Miss. Kate          898       3   \n",
       "7                         Caldwell, Mr. Albert Francis          899       2   \n",
       "8            Abrahim, Mrs. Joseph (Sophie Halaut Easu)          900       3   \n",
       "9                              Davies, Mr. John Samuel          901       3   \n",
       "10                                    Ilieff, Mr. Ylio          902       3   \n",
       "11                          Jones, Mr. Charles Cresson          903       1   \n",
       "13                                Howard, Mr. Benjamin          905       2   \n",
       "15       del Carlo, Mrs. Sebastiano (Argenia Genovesi)          907       2   \n",
       "16                                   Keane, Mr. Daniel          908       2   \n",
       "17                                   Assaf, Mr. Gerios          909       3   \n",
       "18                        Ilmakangas, Miss. Ida Livija          910       3   \n",
       "19               Assaf Khalil, Mrs. Mariana (Miriam\")\"          911       3   \n",
       "20                              Rothschild, Mr. Martin          912       1   \n",
       "21                           Olsen, Master. Artur Karl          913       3   \n",
       "22                Flegenheim, Mrs. Alfred (Antoinette)          914       1   \n",
       "23                     Williams, Mr. Richard Norris II          915       1   \n",
       "25                             Robins, Mr. Alexander A          917       3   \n",
       "27                                   Daher, Mr. Shedid          919       3   \n",
       "29                                   Samaan, Mr. Elias          921       3   \n",
       "30                        Louch, Mr. Charles Alexander          922       2   \n",
       "31                       Jefferys, Mr. Clifford Thomas          923       2   \n",
       "32            Dean, Mrs. Bertram (Eva Georgetta Light)          924       3   \n",
       "33   Johnston, Mrs. Andrew G (Elizabeth Lily\" Watson)\"          925       3   \n",
       "35    Katavelas, Mr. Vassilios (Catavelas Vassilios\")\"          927       3   \n",
       "..                                                 ...          ...     ...   \n",
       "377                       Cotterill, Mr. Henry Harry\"\"         1269       2   \n",
       "379                        Asplund, Master. Carl Edgar         1271       3   \n",
       "380                              O'Connor, Mr. Patrick         1272       3   \n",
       "381                                  Foley, Mr. Joseph         1273       3   \n",
       "382                         Risien, Mrs. Samuel (Emma)         1274       3   \n",
       "383                McNamee, Mrs. Neal (Eileen O'Leary)         1275       3   \n",
       "384                     Wheeler, Mr. Edwin Frederick\"\"         1276       2   \n",
       "385                                 Herman, Miss. Kate         1277       2   \n",
       "386                     Aronsson, Mr. Ernst Axel Algot         1278       3   \n",
       "387                                    Ashby, Mr. John         1279       2   \n",
       "388                               Canavan, Mr. Patrick         1280       3   \n",
       "389                        Palsson, Master. Paul Folke         1281       3   \n",
       "392                      Abbott, Master. Eugene Joseph         1284       3   \n",
       "393                               Gilbert, Mr. William         1285       2   \n",
       "394                           Kink-Heilmann, Mr. Anton         1286       3   \n",
       "396                               Colbert, Mr. Patrick         1288       3   \n",
       "398                     Larsson-Rondberg, Mr. Edvard A         1290       3   \n",
       "399                           Conlon, Mr. Thomas Henry         1291       3   \n",
       "401                                    Gale, Mr. Harry         1293       2   \n",
       "402                     Gibson, Miss. Dorothy Winifred         1294       1   \n",
       "403                             Carrau, Mr. Jose Pedro         1295       1   \n",
       "406                          Ware, Mr. William Jeffery         1298       2   \n",
       "408                    Riordan, Miss. Johanna Hannah\"\"         1300       3   \n",
       "409                          Peacock, Miss. Treasteall         1301       3   \n",
       "410                             Naughton, Miss. Hannah         1302       3   \n",
       "412                     Henriksson, Miss. Jenny Lovisa         1304       3   \n",
       "413                                 Spector, Mr. Woolf         1305       3   \n",
       "415                       Saether, Mr. Simon Sivertsen         1307       3   \n",
       "416                                Ware, Mr. Frederick         1308       3   \n",
       "417                           Peter, Master. Michael J         1309       3   \n",
       "\n",
       "        Sex  Survived              Ticket  Family  \n",
       "0      male       NaN              330911       0  \n",
       "1    female       NaN              363272       1  \n",
       "2      male       NaN              240276       0  \n",
       "3      male       NaN              315154       0  \n",
       "4    female       NaN             3101298       2  \n",
       "5      male       NaN                7538       0  \n",
       "6    female       NaN              330972       0  \n",
       "7      male       NaN              248738       2  \n",
       "8    female       NaN                2657       0  \n",
       "9      male       NaN           A/4 48871       2  \n",
       "10     male       NaN              349220       0  \n",
       "11     male       NaN                 694       0  \n",
       "13     male       NaN               24065       1  \n",
       "15   female       NaN       SC/PARIS 2167       1  \n",
       "16     male       NaN              233734       0  \n",
       "17     male       NaN                2692       0  \n",
       "18   female       NaN    STON/O2. 3101270       1  \n",
       "19   female       NaN                2696       0  \n",
       "20     male       NaN            PC 17603       1  \n",
       "21     male       NaN             C 17368       1  \n",
       "22   female       NaN            PC 17598       0  \n",
       "23     male       NaN            PC 17597       1  \n",
       "25     male       NaN           A/5. 3337       1  \n",
       "27     male       NaN                2698       0  \n",
       "29     male       NaN                2662       2  \n",
       "30     male       NaN          SC/AH 3085       1  \n",
       "31     male       NaN          C.A. 31029       2  \n",
       "32   female       NaN           C.A. 2315       3  \n",
       "33   female       NaN          W./C. 6607       3  \n",
       "35     male       NaN                2682       0  \n",
       "..      ...       ...                 ...     ...  \n",
       "377    male       NaN               29107       0  \n",
       "379    male       NaN              347077       6  \n",
       "380    male       NaN              366713       0  \n",
       "381    male       NaN              330910       0  \n",
       "382  female       NaN              364498       0  \n",
       "383  female       NaN              376566       1  \n",
       "384    male       NaN       SC/PARIS 2159       0  \n",
       "385  female       NaN              220845       3  \n",
       "386    male       NaN              349911       0  \n",
       "387    male       NaN              244346       0  \n",
       "388    male       NaN              364858       0  \n",
       "389    male       NaN              349909       4  \n",
       "392    male       NaN           C.A. 2673       2  \n",
       "393    male       NaN          C.A. 30769       0  \n",
       "394    male       NaN              315153       4  \n",
       "396    male       NaN              371109       0  \n",
       "398    male       NaN              347065       0  \n",
       "399    male       NaN               21332       0  \n",
       "401    male       NaN               28664       1  \n",
       "402  female       NaN              112378       1  \n",
       "403    male       NaN              113059       0  \n",
       "406    male       NaN               28666       1  \n",
       "408  female       NaN              334915       0  \n",
       "409  female       NaN  SOTON/O.Q. 3101315       2  \n",
       "410  female       NaN              365237       0  \n",
       "412  female       NaN              347086       0  \n",
       "413    male       NaN           A.5. 3236       0  \n",
       "415    male       NaN  SOTON/O.Q. 3101262       0  \n",
       "416    male       NaN              359309       0  \n",
       "417    male       NaN                2668       2  \n",
       "\n",
       "[327 rows x 11 columns]"
      ]
     },
     "execution_count": 65,
     "metadata": {},
     "output_type": "execute_result"
    }
   ],
   "source": [
    "X[X['Cabin'].isnull()]"
   ]
  },
  {
   "cell_type": "markdown",
   "metadata": {},
   "source": [
    "### 處理缺值Cabin   \n",
    "#之前艙房號碼Cabin與Pclass關係知道 \n",
    "\n",
    "1.艙房等級低缺失值越多(等級高-p1,p2,p3->等級低)    \n",
    "2.票價低死亡率高(依三種票價等級選出人數最多的船艙編號In[128]：P1 →C，P2→F，P3→G)     \n",
    "死亡 → 將其船艙編號歸類於G  \n",
    "存活 → 將其船艙編號歸類於C  \n",
    "缺Survived資料 → 如果Pclass為1，則將其船艙編號歸類於C  \n",
    "如果Pclass為2，則將其船艙編號歸類於F  \n",
    "如果Pclass為3，則將其船艙編號歸類於G"
   ]
  },
  {
   "cell_type": "code",
   "execution_count": 32,
   "metadata": {
    "ExecuteTime": {
     "end_time": "2019-01-21T12:43:21.580263Z",
     "start_time": "2019-01-21T12:43:21.396492Z"
    }
   },
   "outputs": [],
   "source": [
    "mask = (X[\"Survived\"]==0.0) & (X[\"Cabin\"]==\"-\")\n",
    "X.loc[mask, \"Cabin\"] = \"G\"\n",
    "\n",
    "mask = (X[\"Survived\"]==1.0) & (X[\"Cabin\"]==\"-\")\n",
    "X.loc[mask, \"Cabin\"] = \"C\"\n",
    "\n",
    "mask = (X[\"Survived\"].isnull()) & (X[\"Pclass\"]==1)\n",
    "X.loc[mask, \"Cabin\"] = \"C\"\n",
    "\n",
    "mask = (X[\"Survived\"].isnull()) & (X[\"Pclass\"]==2)\n",
    "X.loc[mask, \"Cabin\"] = \"F\"\n",
    "\n",
    "mask = (X[\"Survived\"].isnull()) & (X[\"Pclass\"]==3)\n",
    "X.loc[mask, \"Cabin\"] = \"G\""
   ]
  },
  {
   "cell_type": "code",
   "execution_count": 33,
   "metadata": {
    "ExecuteTime": {
     "end_time": "2019-01-21T12:43:36.638858Z",
     "start_time": "2019-01-21T12:43:36.628579Z"
    }
   },
   "outputs": [
    {
     "name": "stdout",
     "output_type": "stream",
     "text": [
      "<class 'pandas.core.frame.DataFrame'>\n",
      "Int64Index: 1309 entries, 0 to 417\n",
      "Data columns (total 11 columns):\n",
      "Age            1309 non-null float64\n",
      "Cabin          1309 non-null object\n",
      "Embarked       1309 non-null object\n",
      "Fare           1309 non-null float64\n",
      "Name           1309 non-null object\n",
      "PassengerId    1309 non-null int64\n",
      "Pclass         1309 non-null int64\n",
      "Sex            1309 non-null object\n",
      "Survived       891 non-null float64\n",
      "Ticket         1309 non-null object\n",
      "Family         1309 non-null int64\n",
      "dtypes: float64(3), int64(3), object(5)\n",
      "memory usage: 122.7+ KB\n"
     ]
    }
   ],
   "source": [
    "X.info()"
   ]
  },
  {
   "cell_type": "code",
   "execution_count": 34,
   "metadata": {
    "ExecuteTime": {
     "end_time": "2019-01-21T12:44:12.010703Z",
     "start_time": "2019-01-21T12:44:11.969579Z"
    }
   },
   "outputs": [
    {
     "data": {
      "text/html": [
       "<div>\n",
       "<style scoped>\n",
       "    .dataframe tbody tr th:only-of-type {\n",
       "        vertical-align: middle;\n",
       "    }\n",
       "\n",
       "    .dataframe tbody tr th {\n",
       "        vertical-align: top;\n",
       "    }\n",
       "\n",
       "    .dataframe thead th {\n",
       "        text-align: right;\n",
       "    }\n",
       "</style>\n",
       "<table border=\"1\" class=\"dataframe\">\n",
       "  <thead>\n",
       "    <tr style=\"text-align: right;\">\n",
       "      <th></th>\n",
       "      <th>Age</th>\n",
       "      <th>Fare</th>\n",
       "      <th>PassengerId</th>\n",
       "      <th>Pclass</th>\n",
       "      <th>Survived</th>\n",
       "      <th>Family</th>\n",
       "    </tr>\n",
       "  </thead>\n",
       "  <tbody>\n",
       "    <tr>\n",
       "      <th>count</th>\n",
       "      <td>1309.000000</td>\n",
       "      <td>1.309000e+03</td>\n",
       "      <td>1309.000000</td>\n",
       "      <td>1309.000000</td>\n",
       "      <td>891.000000</td>\n",
       "      <td>1309.000000</td>\n",
       "    </tr>\n",
       "    <tr>\n",
       "      <th>mean</th>\n",
       "      <td>29.448946</td>\n",
       "      <td>-7.330101e-17</td>\n",
       "      <td>655.000000</td>\n",
       "      <td>2.294882</td>\n",
       "      <td>0.383838</td>\n",
       "      <td>0.883881</td>\n",
       "    </tr>\n",
       "    <tr>\n",
       "      <th>std</th>\n",
       "      <td>13.137353</td>\n",
       "      <td>1.000382e+00</td>\n",
       "      <td>378.020061</td>\n",
       "      <td>0.837836</td>\n",
       "      <td>0.486592</td>\n",
       "      <td>1.583639</td>\n",
       "    </tr>\n",
       "    <tr>\n",
       "      <th>min</th>\n",
       "      <td>0.170000</td>\n",
       "      <td>-6.434642e-01</td>\n",
       "      <td>1.000000</td>\n",
       "      <td>1.000000</td>\n",
       "      <td>0.000000</td>\n",
       "      <td>0.000000</td>\n",
       "    </tr>\n",
       "    <tr>\n",
       "      <th>25%</th>\n",
       "      <td>22.000000</td>\n",
       "      <td>-4.908050e-01</td>\n",
       "      <td>328.000000</td>\n",
       "      <td>2.000000</td>\n",
       "      <td>0.000000</td>\n",
       "      <td>0.000000</td>\n",
       "    </tr>\n",
       "    <tr>\n",
       "      <th>50%</th>\n",
       "      <td>30.000000</td>\n",
       "      <td>-3.640034e-01</td>\n",
       "      <td>655.000000</td>\n",
       "      <td>3.000000</td>\n",
       "      <td>0.000000</td>\n",
       "      <td>0.000000</td>\n",
       "    </tr>\n",
       "    <tr>\n",
       "      <th>75%</th>\n",
       "      <td>35.000000</td>\n",
       "      <td>-3.878613e-02</td>\n",
       "      <td>982.000000</td>\n",
       "      <td>3.000000</td>\n",
       "      <td>1.000000</td>\n",
       "      <td>1.000000</td>\n",
       "    </tr>\n",
       "    <tr>\n",
       "      <th>max</th>\n",
       "      <td>80.000000</td>\n",
       "      <td>9.262028e+00</td>\n",
       "      <td>1309.000000</td>\n",
       "      <td>3.000000</td>\n",
       "      <td>1.000000</td>\n",
       "      <td>10.000000</td>\n",
       "    </tr>\n",
       "  </tbody>\n",
       "</table>\n",
       "</div>"
      ],
      "text/plain": [
       "               Age          Fare  PassengerId       Pclass    Survived  \\\n",
       "count  1309.000000  1.309000e+03  1309.000000  1309.000000  891.000000   \n",
       "mean     29.448946 -7.330101e-17   655.000000     2.294882    0.383838   \n",
       "std      13.137353  1.000382e+00   378.020061     0.837836    0.486592   \n",
       "min       0.170000 -6.434642e-01     1.000000     1.000000    0.000000   \n",
       "25%      22.000000 -4.908050e-01   328.000000     2.000000    0.000000   \n",
       "50%      30.000000 -3.640034e-01   655.000000     3.000000    0.000000   \n",
       "75%      35.000000 -3.878613e-02   982.000000     3.000000    1.000000   \n",
       "max      80.000000  9.262028e+00  1309.000000     3.000000    1.000000   \n",
       "\n",
       "            Family  \n",
       "count  1309.000000  \n",
       "mean      0.883881  \n",
       "std       1.583639  \n",
       "min       0.000000  \n",
       "25%       0.000000  \n",
       "50%       0.000000  \n",
       "75%       1.000000  \n",
       "max      10.000000  "
      ]
     },
     "execution_count": 34,
     "metadata": {},
     "output_type": "execute_result"
    }
   ],
   "source": [
    "X.describe()"
   ]
  },
  {
   "cell_type": "code",
   "execution_count": 35,
   "metadata": {
    "ExecuteTime": {
     "end_time": "2019-01-21T12:44:23.782749Z",
     "start_time": "2019-01-21T12:44:23.746163Z"
    },
    "scrolled": true
   },
   "outputs": [
    {
     "data": {
      "text/html": [
       "<div>\n",
       "<style scoped>\n",
       "    .dataframe tbody tr th:only-of-type {\n",
       "        vertical-align: middle;\n",
       "    }\n",
       "\n",
       "    .dataframe tbody tr th {\n",
       "        vertical-align: top;\n",
       "    }\n",
       "\n",
       "    .dataframe thead th {\n",
       "        text-align: right;\n",
       "    }\n",
       "</style>\n",
       "<table border=\"1\" class=\"dataframe\">\n",
       "  <thead>\n",
       "    <tr style=\"text-align: right;\">\n",
       "      <th></th>\n",
       "      <th>Cabin</th>\n",
       "      <th>Embarked</th>\n",
       "      <th>Name</th>\n",
       "      <th>Sex</th>\n",
       "      <th>Ticket</th>\n",
       "    </tr>\n",
       "  </thead>\n",
       "  <tbody>\n",
       "    <tr>\n",
       "      <th>count</th>\n",
       "      <td>1309</td>\n",
       "      <td>1309</td>\n",
       "      <td>1309</td>\n",
       "      <td>1309</td>\n",
       "      <td>1309</td>\n",
       "    </tr>\n",
       "    <tr>\n",
       "      <th>unique</th>\n",
       "      <td>8</td>\n",
       "      <td>3</td>\n",
       "      <td>1307</td>\n",
       "      <td>2</td>\n",
       "      <td>929</td>\n",
       "    </tr>\n",
       "    <tr>\n",
       "      <th>top</th>\n",
       "      <td>G</td>\n",
       "      <td>S</td>\n",
       "      <td>Kelly, Mr. James</td>\n",
       "      <td>male</td>\n",
       "      <td>CA. 2343</td>\n",
       "    </tr>\n",
       "    <tr>\n",
       "      <th>freq</th>\n",
       "      <td>706</td>\n",
       "      <td>916</td>\n",
       "      <td>2</td>\n",
       "      <td>843</td>\n",
       "      <td>11</td>\n",
       "    </tr>\n",
       "  </tbody>\n",
       "</table>\n",
       "</div>"
      ],
      "text/plain": [
       "       Cabin Embarked              Name   Sex    Ticket\n",
       "count   1309     1309              1309  1309      1309\n",
       "unique     8        3              1307     2       929\n",
       "top        G        S  Kelly, Mr. James  male  CA. 2343\n",
       "freq     706      916                 2   843        11"
      ]
     },
     "execution_count": 35,
     "metadata": {},
     "output_type": "execute_result"
    }
   ],
   "source": [
    "X.describe(include=['O'])"
   ]
  },
  {
   "cell_type": "code",
   "execution_count": 36,
   "metadata": {
    "ExecuteTime": {
     "end_time": "2019-01-21T12:44:40.565708Z",
     "start_time": "2019-01-21T12:44:40.469401Z"
    }
   },
   "outputs": [],
   "source": [
    "#先去除較無意義的非數值資料 name ticket\n",
    "del X['Name'],X['Ticket']"
   ]
  },
  {
   "cell_type": "markdown",
   "metadata": {},
   "source": [
    "或list(X.columns.values).remove('Name')"
   ]
  },
  {
   "cell_type": "code",
   "execution_count": 37,
   "metadata": {
    "ExecuteTime": {
     "end_time": "2019-01-21T12:44:48.350231Z",
     "start_time": "2019-01-21T12:44:48.325961Z"
    }
   },
   "outputs": [
    {
     "data": {
      "text/html": [
       "<div>\n",
       "<style scoped>\n",
       "    .dataframe tbody tr th:only-of-type {\n",
       "        vertical-align: middle;\n",
       "    }\n",
       "\n",
       "    .dataframe tbody tr th {\n",
       "        vertical-align: top;\n",
       "    }\n",
       "\n",
       "    .dataframe thead th {\n",
       "        text-align: right;\n",
       "    }\n",
       "</style>\n",
       "<table border=\"1\" class=\"dataframe\">\n",
       "  <thead>\n",
       "    <tr style=\"text-align: right;\">\n",
       "      <th></th>\n",
       "      <th>Cabin</th>\n",
       "      <th>Embarked</th>\n",
       "      <th>Sex</th>\n",
       "    </tr>\n",
       "  </thead>\n",
       "  <tbody>\n",
       "    <tr>\n",
       "      <th>count</th>\n",
       "      <td>1309</td>\n",
       "      <td>1309</td>\n",
       "      <td>1309</td>\n",
       "    </tr>\n",
       "    <tr>\n",
       "      <th>unique</th>\n",
       "      <td>8</td>\n",
       "      <td>3</td>\n",
       "      <td>2</td>\n",
       "    </tr>\n",
       "    <tr>\n",
       "      <th>top</th>\n",
       "      <td>G</td>\n",
       "      <td>S</td>\n",
       "      <td>male</td>\n",
       "    </tr>\n",
       "    <tr>\n",
       "      <th>freq</th>\n",
       "      <td>706</td>\n",
       "      <td>916</td>\n",
       "      <td>843</td>\n",
       "    </tr>\n",
       "  </tbody>\n",
       "</table>\n",
       "</div>"
      ],
      "text/plain": [
       "       Cabin Embarked   Sex\n",
       "count   1309     1309  1309\n",
       "unique     8        3     2\n",
       "top        G        S  male\n",
       "freq     706      916   843"
      ]
     },
     "execution_count": 37,
     "metadata": {},
     "output_type": "execute_result"
    }
   ],
   "source": [
    "X.describe(include=['O'])"
   ]
  },
  {
   "cell_type": "code",
   "execution_count": 38,
   "metadata": {
    "ExecuteTime": {
     "end_time": "2019-01-21T12:44:57.901748Z",
     "start_time": "2019-01-21T12:44:57.831413Z"
    }
   },
   "outputs": [],
   "source": [
    "#丟去訓練前要做one-hot轉換非數值資料\n",
    "X['Cabin'] = X['Cabin'].astype('category').cat.codes    \n",
    "X['Embarked'] = X['Embarked'].astype('category').cat.codes\n",
    "X['Sex'] = X['Sex'].map({'male':1,'female':0})  "
   ]
  },
  {
   "cell_type": "code",
   "execution_count": 39,
   "metadata": {
    "ExecuteTime": {
     "end_time": "2019-01-21T12:45:03.064732Z",
     "start_time": "2019-01-21T12:45:02.986000Z"
    }
   },
   "outputs": [
    {
     "data": {
      "text/html": [
       "<div>\n",
       "<style scoped>\n",
       "    .dataframe tbody tr th:only-of-type {\n",
       "        vertical-align: middle;\n",
       "    }\n",
       "\n",
       "    .dataframe tbody tr th {\n",
       "        vertical-align: top;\n",
       "    }\n",
       "\n",
       "    .dataframe thead th {\n",
       "        text-align: right;\n",
       "    }\n",
       "</style>\n",
       "<table border=\"1\" class=\"dataframe\">\n",
       "  <thead>\n",
       "    <tr style=\"text-align: right;\">\n",
       "      <th></th>\n",
       "      <th>Age</th>\n",
       "      <th>Cabin</th>\n",
       "      <th>Embarked</th>\n",
       "      <th>Fare</th>\n",
       "      <th>PassengerId</th>\n",
       "      <th>Pclass</th>\n",
       "      <th>Sex</th>\n",
       "      <th>Survived</th>\n",
       "      <th>Family</th>\n",
       "    </tr>\n",
       "  </thead>\n",
       "  <tbody>\n",
       "    <tr>\n",
       "      <th>count</th>\n",
       "      <td>1309.000000</td>\n",
       "      <td>1309.000000</td>\n",
       "      <td>1309.000000</td>\n",
       "      <td>1.309000e+03</td>\n",
       "      <td>1309.000000</td>\n",
       "      <td>1309.000000</td>\n",
       "      <td>1309.000000</td>\n",
       "      <td>891.000000</td>\n",
       "      <td>1309.000000</td>\n",
       "    </tr>\n",
       "    <tr>\n",
       "      <th>mean</th>\n",
       "      <td>29.448946</td>\n",
       "      <td>4.411765</td>\n",
       "      <td>1.493506</td>\n",
       "      <td>-7.330101e-17</td>\n",
       "      <td>655.000000</td>\n",
       "      <td>2.294882</td>\n",
       "      <td>0.644003</td>\n",
       "      <td>0.383838</td>\n",
       "      <td>0.883881</td>\n",
       "    </tr>\n",
       "    <tr>\n",
       "      <th>std</th>\n",
       "      <td>13.137353</td>\n",
       "      <td>1.934923</td>\n",
       "      <td>0.814244</td>\n",
       "      <td>1.000382e+00</td>\n",
       "      <td>378.020061</td>\n",
       "      <td>0.837836</td>\n",
       "      <td>0.478997</td>\n",
       "      <td>0.486592</td>\n",
       "      <td>1.583639</td>\n",
       "    </tr>\n",
       "    <tr>\n",
       "      <th>min</th>\n",
       "      <td>0.170000</td>\n",
       "      <td>0.000000</td>\n",
       "      <td>0.000000</td>\n",
       "      <td>-6.434642e-01</td>\n",
       "      <td>1.000000</td>\n",
       "      <td>1.000000</td>\n",
       "      <td>0.000000</td>\n",
       "      <td>0.000000</td>\n",
       "      <td>0.000000</td>\n",
       "    </tr>\n",
       "    <tr>\n",
       "      <th>25%</th>\n",
       "      <td>22.000000</td>\n",
       "      <td>2.000000</td>\n",
       "      <td>1.000000</td>\n",
       "      <td>-4.908050e-01</td>\n",
       "      <td>328.000000</td>\n",
       "      <td>2.000000</td>\n",
       "      <td>0.000000</td>\n",
       "      <td>0.000000</td>\n",
       "      <td>0.000000</td>\n",
       "    </tr>\n",
       "    <tr>\n",
       "      <th>50%</th>\n",
       "      <td>30.000000</td>\n",
       "      <td>6.000000</td>\n",
       "      <td>2.000000</td>\n",
       "      <td>-3.640034e-01</td>\n",
       "      <td>655.000000</td>\n",
       "      <td>3.000000</td>\n",
       "      <td>1.000000</td>\n",
       "      <td>0.000000</td>\n",
       "      <td>0.000000</td>\n",
       "    </tr>\n",
       "    <tr>\n",
       "      <th>75%</th>\n",
       "      <td>35.000000</td>\n",
       "      <td>6.000000</td>\n",
       "      <td>2.000000</td>\n",
       "      <td>-3.878613e-02</td>\n",
       "      <td>982.000000</td>\n",
       "      <td>3.000000</td>\n",
       "      <td>1.000000</td>\n",
       "      <td>1.000000</td>\n",
       "      <td>1.000000</td>\n",
       "    </tr>\n",
       "    <tr>\n",
       "      <th>max</th>\n",
       "      <td>80.000000</td>\n",
       "      <td>7.000000</td>\n",
       "      <td>2.000000</td>\n",
       "      <td>9.262028e+00</td>\n",
       "      <td>1309.000000</td>\n",
       "      <td>3.000000</td>\n",
       "      <td>1.000000</td>\n",
       "      <td>1.000000</td>\n",
       "      <td>10.000000</td>\n",
       "    </tr>\n",
       "  </tbody>\n",
       "</table>\n",
       "</div>"
      ],
      "text/plain": [
       "               Age        Cabin     Embarked          Fare  PassengerId  \\\n",
       "count  1309.000000  1309.000000  1309.000000  1.309000e+03  1309.000000   \n",
       "mean     29.448946     4.411765     1.493506 -7.330101e-17   655.000000   \n",
       "std      13.137353     1.934923     0.814244  1.000382e+00   378.020061   \n",
       "min       0.170000     0.000000     0.000000 -6.434642e-01     1.000000   \n",
       "25%      22.000000     2.000000     1.000000 -4.908050e-01   328.000000   \n",
       "50%      30.000000     6.000000     2.000000 -3.640034e-01   655.000000   \n",
       "75%      35.000000     6.000000     2.000000 -3.878613e-02   982.000000   \n",
       "max      80.000000     7.000000     2.000000  9.262028e+00  1309.000000   \n",
       "\n",
       "            Pclass          Sex    Survived       Family  \n",
       "count  1309.000000  1309.000000  891.000000  1309.000000  \n",
       "mean      2.294882     0.644003    0.383838     0.883881  \n",
       "std       0.837836     0.478997    0.486592     1.583639  \n",
       "min       1.000000     0.000000    0.000000     0.000000  \n",
       "25%       2.000000     0.000000    0.000000     0.000000  \n",
       "50%       3.000000     1.000000    0.000000     0.000000  \n",
       "75%       3.000000     1.000000    1.000000     1.000000  \n",
       "max       3.000000     1.000000    1.000000    10.000000  "
      ]
     },
     "execution_count": 39,
     "metadata": {},
     "output_type": "execute_result"
    }
   ],
   "source": [
    "X.describe()"
   ]
  },
  {
   "cell_type": "markdown",
   "metadata": {},
   "source": [
    "## 4.建模,訓練,預測\n",
    "0.移除待預測項目，確認資料完整  \n",
    "1.模型選擇  \n",
    "2.訓練  \n",
    "3.調參  \n",
    "4.預測   "
   ]
  },
  {
   "cell_type": "code",
   "execution_count": 40,
   "metadata": {
    "ExecuteTime": {
     "end_time": "2019-01-21T12:45:30.354620Z",
     "start_time": "2019-01-21T12:45:30.350568Z"
    }
   },
   "outputs": [],
   "source": [
    "del X['Survived']"
   ]
  },
  {
   "cell_type": "code",
   "execution_count": 41,
   "metadata": {
    "ExecuteTime": {
     "end_time": "2019-01-21T12:45:31.812509Z",
     "start_time": "2019-01-21T12:45:31.802433Z"
    }
   },
   "outputs": [
    {
     "name": "stdout",
     "output_type": "stream",
     "text": [
      "<class 'pandas.core.frame.DataFrame'>\n",
      "Int64Index: 1309 entries, 0 to 417\n",
      "Data columns (total 8 columns):\n",
      "Age            1309 non-null float64\n",
      "Cabin          1309 non-null int8\n",
      "Embarked       1309 non-null int8\n",
      "Fare           1309 non-null float64\n",
      "PassengerId    1309 non-null int64\n",
      "Pclass         1309 non-null int64\n",
      "Sex            1309 non-null int64\n",
      "Family         1309 non-null int64\n",
      "dtypes: float64(2), int64(4), int8(2)\n",
      "memory usage: 74.1 KB\n"
     ]
    }
   ],
   "source": [
    "X.info()"
   ]
  },
  {
   "cell_type": "code",
   "execution_count": 43,
   "metadata": {
    "ExecuteTime": {
     "end_time": "2019-01-21T12:55:37.666538Z",
     "start_time": "2019-01-21T12:55:37.661983Z"
    }
   },
   "outputs": [],
   "source": [
    "y_test=X.PassengerId.tail(418)#測試集乘客編號  \n",
    "del X['PassengerId']"
   ]
  },
  {
   "cell_type": "code",
   "execution_count": 44,
   "metadata": {
    "ExecuteTime": {
     "end_time": "2019-01-21T12:55:43.266247Z",
     "start_time": "2019-01-21T12:55:43.260779Z"
    }
   },
   "outputs": [],
   "source": [
    "X_train=X.head(891)#要把之前合併處理的資料搬出來，訓練與測試集數目才會一樣\n",
    "y_train=X.tail(418)#取得整理好的資料  "
   ]
  },
  {
   "cell_type": "code",
   "execution_count": 45,
   "metadata": {
    "ExecuteTime": {
     "end_time": "2019-01-21T12:55:44.770370Z",
     "start_time": "2019-01-21T12:55:44.724718Z"
    }
   },
   "outputs": [
    {
     "name": "stdout",
     "output_type": "stream",
     "text": [
      "<class 'pandas.core.frame.DataFrame'>\n",
      "Int64Index: 891 entries, 0 to 890\n",
      "Data columns (total 7 columns):\n",
      "Age         891 non-null float64\n",
      "Cabin       891 non-null int8\n",
      "Embarked    891 non-null int8\n",
      "Fare        891 non-null float64\n",
      "Pclass      891 non-null int64\n",
      "Sex         891 non-null int64\n",
      "Family      891 non-null int64\n",
      "dtypes: float64(2), int64(3), int8(2)\n",
      "memory usage: 43.5 KB\n"
     ]
    },
    {
     "data": {
      "text/html": [
       "<div>\n",
       "<style scoped>\n",
       "    .dataframe tbody tr th:only-of-type {\n",
       "        vertical-align: middle;\n",
       "    }\n",
       "\n",
       "    .dataframe tbody tr th {\n",
       "        vertical-align: top;\n",
       "    }\n",
       "\n",
       "    .dataframe thead th {\n",
       "        text-align: right;\n",
       "    }\n",
       "</style>\n",
       "<table border=\"1\" class=\"dataframe\">\n",
       "  <thead>\n",
       "    <tr style=\"text-align: right;\">\n",
       "      <th></th>\n",
       "      <th>Age</th>\n",
       "      <th>Cabin</th>\n",
       "      <th>Embarked</th>\n",
       "      <th>Fare</th>\n",
       "      <th>Pclass</th>\n",
       "      <th>Sex</th>\n",
       "      <th>Family</th>\n",
       "    </tr>\n",
       "  </thead>\n",
       "  <tbody>\n",
       "    <tr>\n",
       "      <th>count</th>\n",
       "      <td>418.000000</td>\n",
       "      <td>418.000000</td>\n",
       "      <td>418.000000</td>\n",
       "      <td>418.000000</td>\n",
       "      <td>418.000000</td>\n",
       "      <td>418.000000</td>\n",
       "      <td>418.000000</td>\n",
       "    </tr>\n",
       "    <tr>\n",
       "      <th>mean</th>\n",
       "      <td>29.680622</td>\n",
       "      <td>4.753589</td>\n",
       "      <td>1.401914</td>\n",
       "      <td>0.044381</td>\n",
       "      <td>2.265550</td>\n",
       "      <td>0.636364</td>\n",
       "      <td>0.839713</td>\n",
       "    </tr>\n",
       "    <tr>\n",
       "      <th>std</th>\n",
       "      <td>12.975937</td>\n",
       "      <td>1.664713</td>\n",
       "      <td>0.854496</td>\n",
       "      <td>1.079819</td>\n",
       "      <td>0.841838</td>\n",
       "      <td>0.481622</td>\n",
       "      <td>1.519072</td>\n",
       "    </tr>\n",
       "    <tr>\n",
       "      <th>min</th>\n",
       "      <td>0.170000</td>\n",
       "      <td>2.000000</td>\n",
       "      <td>0.000000</td>\n",
       "      <td>-0.643464</td>\n",
       "      <td>1.000000</td>\n",
       "      <td>0.000000</td>\n",
       "      <td>0.000000</td>\n",
       "    </tr>\n",
       "    <tr>\n",
       "      <th>25%</th>\n",
       "      <td>22.000000</td>\n",
       "      <td>2.000000</td>\n",
       "      <td>1.000000</td>\n",
       "      <td>-0.490805</td>\n",
       "      <td>1.000000</td>\n",
       "      <td>0.000000</td>\n",
       "      <td>0.000000</td>\n",
       "    </tr>\n",
       "    <tr>\n",
       "      <th>50%</th>\n",
       "      <td>30.000000</td>\n",
       "      <td>6.000000</td>\n",
       "      <td>2.000000</td>\n",
       "      <td>-0.364003</td>\n",
       "      <td>3.000000</td>\n",
       "      <td>1.000000</td>\n",
       "      <td>0.000000</td>\n",
       "    </tr>\n",
       "    <tr>\n",
       "      <th>75%</th>\n",
       "      <td>35.750000</td>\n",
       "      <td>6.000000</td>\n",
       "      <td>2.000000</td>\n",
       "      <td>-0.034980</td>\n",
       "      <td>3.000000</td>\n",
       "      <td>1.000000</td>\n",
       "      <td>1.000000</td>\n",
       "    </tr>\n",
       "    <tr>\n",
       "      <th>max</th>\n",
       "      <td>76.000000</td>\n",
       "      <td>6.000000</td>\n",
       "      <td>2.000000</td>\n",
       "      <td>9.262028</td>\n",
       "      <td>3.000000</td>\n",
       "      <td>1.000000</td>\n",
       "      <td>10.000000</td>\n",
       "    </tr>\n",
       "  </tbody>\n",
       "</table>\n",
       "</div>"
      ],
      "text/plain": [
       "              Age       Cabin    Embarked        Fare      Pclass         Sex  \\\n",
       "count  418.000000  418.000000  418.000000  418.000000  418.000000  418.000000   \n",
       "mean    29.680622    4.753589    1.401914    0.044381    2.265550    0.636364   \n",
       "std     12.975937    1.664713    0.854496    1.079819    0.841838    0.481622   \n",
       "min      0.170000    2.000000    0.000000   -0.643464    1.000000    0.000000   \n",
       "25%     22.000000    2.000000    1.000000   -0.490805    1.000000    0.000000   \n",
       "50%     30.000000    6.000000    2.000000   -0.364003    3.000000    1.000000   \n",
       "75%     35.750000    6.000000    2.000000   -0.034980    3.000000    1.000000   \n",
       "max     76.000000    6.000000    2.000000    9.262028    3.000000    1.000000   \n",
       "\n",
       "           Family  \n",
       "count  418.000000  \n",
       "mean     0.839713  \n",
       "std      1.519072  \n",
       "min      0.000000  \n",
       "25%      0.000000  \n",
       "50%      0.000000  \n",
       "75%      1.000000  \n",
       "max     10.000000  "
      ]
     },
     "execution_count": 45,
     "metadata": {},
     "output_type": "execute_result"
    }
   ],
   "source": [
    "X_train.info()\n",
    "y_train.describe()"
   ]
  },
  {
   "cell_type": "markdown",
   "metadata": {},
   "source": [
    "### Baseline model  "
   ]
  },
  {
   "cell_type": "code",
   "execution_count": 46,
   "metadata": {
    "ExecuteTime": {
     "end_time": "2019-01-21T12:58:05.550767Z",
     "start_time": "2019-01-21T12:57:09.988396Z"
    },
    "cell_style": "center"
   },
   "outputs": [
    {
     "data": {
      "text/plain": [
       "GridSearchCV(cv=5, error_score='raise-deprecating',\n",
       "       estimator=LogisticRegression(C=1.0, class_weight=None, dual=False, fit_intercept=True,\n",
       "          intercept_scaling=1, max_iter=100, multi_class='warn',\n",
       "          n_jobs=None, penalty='l2', random_state=None, solver='warn',\n",
       "          tol=0.0001, verbose=0, warm_start=False),\n",
       "       fit_params=None, iid='warn', n_jobs=3,\n",
       "       param_grid={'penalty': ['l1', 'l2'], 'C': [0.1, 0.5, 1.0, 5.0]},\n",
       "       pre_dispatch='2*n_jobs', refit=True, return_train_score='warn',\n",
       "       scoring=None, verbose=0)"
      ]
     },
     "execution_count": 46,
     "metadata": {},
     "output_type": "execute_result"
    }
   ],
   "source": [
    "#基準模型  \n",
    "base_line_model = LogisticRegression()\n",
    "param = {'penalty':['l1','l2'], \n",
    "        'C':[0.1, 0.5, 1.0,5.0]}\n",
    "grd = GridSearchCV(estimator=base_line_model, param_grid=param, cv=5, n_jobs=3)\n",
    "grd.fit(X_train, y)"
   ]
  },
  {
   "cell_type": "code",
   "execution_count": 47,
   "metadata": {
    "ExecuteTime": {
     "end_time": "2019-01-21T12:58:14.437665Z",
     "start_time": "2019-01-21T12:58:10.682066Z"
    }
   },
   "outputs": [
    {
     "data": {
      "text/plain": [
       "(0.9137210548953659, 0.03056385516274518)"
      ]
     },
     "execution_count": 47,
     "metadata": {},
     "output_type": "execute_result"
    },
    {
     "data": {
      "image/png": "[encoded data removed]",
      "text/plain": [
       "<Figure size 432x288 with 1 Axes>"
      ]
     },
     "metadata": {
      "needs_background": "light"
     },
     "output_type": "display_data"
    }
   ],
   "source": [
    "#查看是否過擬合  \n",
    "def plot_learning_curve(clf, title, X, y, ylim=None, cv=None, n_jobs=3, train_sizes=np.linspace(.05, 1., 5)):\n",
    "    train_sizes, train_scores, test_scores = learning_curve(clf, X, y, train_sizes=train_sizes)\n",
    "    train_scores_mean = np.mean(train_scores, axis=1)\n",
    "    train_scores_std = np.std(train_scores, axis=1)\n",
    "    test_scores_mean = np.mean(test_scores, axis=1)\n",
    "    test_scores_std = np.std(test_scores, axis=1)\n",
    "    \n",
    "    ax = plt.figure().add_subplot(111)\n",
    "    ax.set_title(title)\n",
    "#ylim是y 座標軸範圍  \n",
    "#    if ylim is not None:\n",
    "#    ax.ylim(*ylim)\n",
    "    ax.set_xlabel(u\"train_num_of_samples\")\n",
    "    ax.set_ylabel(u\"score\")\n",
    "    ax.fill_between(train_sizes, train_scores_mean - train_scores_std, train_scores_mean + train_scores_std, alpha=0.1, color=\"b\")\n",
    "    ax.fill_between(train_sizes, test_scores_mean - test_scores_std, test_scores_mean + test_scores_std, alpha=0.1, color=\"r\")\n",
    "    ax.plot(train_sizes, train_scores_mean, 'o-', color=\"b\", label=u\"train score\")\n",
    "    ax.plot(train_sizes, test_scores_mean, 'o-', color=\"r\", label=u\"testCV score\")\n",
    "    ax.legend(loc=\"best\")\n",
    "\n",
    "    midpoint = ((train_scores_mean[-1] + train_scores_std[-1]) + (test_scores_mean[-1] - test_scores_std[-1])) / 2\n",
    "    diff = (train_scores_mean[-1] + train_scores_std[-1]) - (test_scores_mean[-1] - test_scores_std[-1])\n",
    "    return midpoint, diff\n",
    "\n",
    "plot_learning_curve(grd, u\"learning_rate\", X_train, y)\n"
   ]
  },
  {
   "cell_type": "code",
   "execution_count": 48,
   "metadata": {
    "ExecuteTime": {
     "end_time": "2019-01-21T13:02:54.151972Z",
     "start_time": "2019-01-21T12:58:27.201993Z"
    }
   },
   "outputs": [
    {
     "name": "stdout",
     "output_type": "stream",
     "text": [
      "Fitting 5 folds for each of 100 candidates, totalling 500 fits\n"
     ]
    },
    {
     "name": "stderr",
     "output_type": "stream",
     "text": [
      "[Parallel(n_jobs=-1)]: Using backend LokyBackend with 4 concurrent workers.\n",
      "[Parallel(n_jobs=-1)]: Done  33 tasks      | elapsed:   23.8s\n",
      "[Parallel(n_jobs=-1)]: Done 154 tasks      | elapsed:  1.7min\n",
      "[Parallel(n_jobs=-1)]: Done 357 tasks      | elapsed:  3.4min\n",
      "[Parallel(n_jobs=-1)]: Done 500 out of 500 | elapsed:  4.4min finished\n"
     ]
    },
    {
     "name": "stdout",
     "output_type": "stream",
     "text": [
      "{'n_estimators': 600, 'min_samples_split': 10, 'min_samples_leaf': 1, 'max_features': 'sqrt', 'max_depth': 40, 'bootstrap': False}\n"
     ]
    }
   ],
   "source": [
    "# Using the random grid to search for best hyperparameters\n",
    "n_estimators = [int(x) for x in np.linspace(start = 200, stop = 2000, num = 10)]\n",
    "# Number of features to consider at every split\n",
    "max_features = ['auto', 'sqrt']\n",
    "# Maximum number of levels in tree\n",
    "max_depth = [int(x) for x in np.linspace(10, 110, num = 11)]\n",
    "max_depth.append(None)\n",
    "# Minimum number of samples required to split a node\n",
    "min_samples_split = [2, 5, 10]\n",
    "# Minimum number of samples required at each leaf node\n",
    "min_samples_leaf = [1, 2, 4]\n",
    "# Method of selecting samples for training each tree\n",
    "bootstrap = [True, False]\n",
    "\n",
    "# Create the random grid\n",
    "random_grid = {'n_estimators': n_estimators,\n",
    "               'max_features': max_features,\n",
    "               'max_depth': max_depth,\n",
    "               'min_samples_split': min_samples_split,\n",
    "               'min_samples_leaf': min_samples_leaf,\n",
    "               'bootstrap': bootstrap}\n",
    "\n",
    "# Creating the base model to tune\n",
    "rf = RandomForestRegressor()\n",
    "# Random search of parameters, using 5 fold cross validation, \n",
    "rf_random = RandomizedSearchCV(estimator = rf, param_distributions = random_grid, n_iter = 100, cv = 5, verbose=2, random_state=42, n_jobs = -1)\n",
    "# Fit the random search model\n",
    "rf_random.fit(X_train, y)\n",
    "print(rf_random.best_params_)"
   ]
  },
  {
   "cell_type": "code",
   "execution_count": 58,
   "metadata": {
    "ExecuteTime": {
     "end_time": "2019-01-20T14:27:54.636561Z",
     "start_time": "2019-01-20T14:27:54.616868Z"
    }
   },
   "outputs": [
    {
     "data": {
      "text/html": [
       "<div>\n",
       "<style scoped>\n",
       "    .dataframe tbody tr th:only-of-type {\n",
       "        vertical-align: middle;\n",
       "    }\n",
       "\n",
       "    .dataframe tbody tr th {\n",
       "        vertical-align: top;\n",
       "    }\n",
       "\n",
       "    .dataframe thead th {\n",
       "        text-align: right;\n",
       "    }\n",
       "</style>\n",
       "<table border=\"1\" class=\"dataframe\">\n",
       "  <thead>\n",
       "    <tr style=\"text-align: right;\">\n",
       "      <th></th>\n",
       "      <th>Age</th>\n",
       "      <th>Cabin</th>\n",
       "      <th>Embarked</th>\n",
       "      <th>Family</th>\n",
       "      <th>Fare</th>\n",
       "      <th>Pclass</th>\n",
       "      <th>Sex</th>\n",
       "    </tr>\n",
       "  </thead>\n",
       "  <tbody>\n",
       "    <tr>\n",
       "      <th>0</th>\n",
       "      <td>22.0</td>\n",
       "      <td>6</td>\n",
       "      <td>2</td>\n",
       "      <td>1</td>\n",
       "      <td>-0.503291</td>\n",
       "      <td>3</td>\n",
       "      <td>1</td>\n",
       "    </tr>\n",
       "    <tr>\n",
       "      <th>1</th>\n",
       "      <td>38.0</td>\n",
       "      <td>2</td>\n",
       "      <td>0</td>\n",
       "      <td>1</td>\n",
       "      <td>0.734744</td>\n",
       "      <td>1</td>\n",
       "      <td>0</td>\n",
       "    </tr>\n",
       "    <tr>\n",
       "      <th>2</th>\n",
       "      <td>26.0</td>\n",
       "      <td>2</td>\n",
       "      <td>2</td>\n",
       "      <td>0</td>\n",
       "      <td>-0.490240</td>\n",
       "      <td>3</td>\n",
       "      <td>0</td>\n",
       "    </tr>\n",
       "    <tr>\n",
       "      <th>3</th>\n",
       "      <td>35.0</td>\n",
       "      <td>2</td>\n",
       "      <td>2</td>\n",
       "      <td>1</td>\n",
       "      <td>0.383183</td>\n",
       "      <td>1</td>\n",
       "      <td>0</td>\n",
       "    </tr>\n",
       "    <tr>\n",
       "      <th>4</th>\n",
       "      <td>35.0</td>\n",
       "      <td>6</td>\n",
       "      <td>2</td>\n",
       "      <td>0</td>\n",
       "      <td>-0.487824</td>\n",
       "      <td>3</td>\n",
       "      <td>1</td>\n",
       "    </tr>\n",
       "  </tbody>\n",
       "</table>\n",
       "</div>"
      ],
      "text/plain": [
       "    Age  Cabin  Embarked  Family      Fare  Pclass  Sex\n",
       "0  22.0      6         2       1 -0.503291       3    1\n",
       "1  38.0      2         0       1  0.734744       1    0\n",
       "2  26.0      2         2       0 -0.490240       3    0\n",
       "3  35.0      2         2       1  0.383183       1    0\n",
       "4  35.0      6         2       0 -0.487824       3    1"
      ]
     },
     "execution_count": 58,
     "metadata": {},
     "output_type": "execute_result"
    }
   ],
   "source": [
    "X_train.head()"
   ]
  },
  {
   "cell_type": "markdown",
   "metadata": {},
   "source": [
    "## 5.產生csv上傳"
   ]
  },
  {
   "cell_type": "code",
   "execution_count": 49,
   "metadata": {
    "ExecuteTime": {
     "end_time": "2019-01-21T13:03:52.153311Z",
     "start_time": "2019-01-21T13:03:51.374732Z"
    }
   },
   "outputs": [],
   "source": [
    "gender_submission = pd.DataFrame({'PassengerId':y_test,'Survived':grd.predict(y_train)})\n",
    "gender_submission.to_csv('submission.csv', index=None)"
   ]
  },
  {
   "cell_type": "markdown",
   "metadata": {},
   "source": [
    "＝＝＝＝＝＝＝＝＝＝＝＝＝＝＝＝＝ 回顧＝＝＝＝＝＝＝＝＝＝＝＝＝＝＝＝＝   \n",
    "[查看資料]  \n",
    "1.可以發現測試資料及少了要預測目標survival  \n",
    "[分析資料]  \n",
    "2.知道哪些欄位有多少缺失值與資料型態  \n",
    "[特徵工程]  \n",
    "3.把訓練資料集預測目標移去然後合併資料集一起  \n",
    "4.性別與生存關係  \n",
    "\n",
    "fit時訓練與測試集數目要一樣，但在那之前分析樹續量越多越好  "
   ]
  },
  {
   "cell_type": "markdown",
   "metadata": {},
   "source": [
    "## 6.參考資料  \n",
    "https://www.kaggle.com/anaskad/step-by-step-solving-titanic-problem\n",
    "https://chtseng.wordpress.com/2017/12/24/kaggle-titanic%E5%80%96%E5%AD%98%E9%A0%90%E6%B8%AC-1/\n",
    "https://www.kaggle.com/anaskad/step-by-step-solving-titanic-problem    \n",
    "https://zhuanlan.zhihu.com/p/27550334  \n",
    "\n"
   ]
  },
  {
   "cell_type": "code",
   "execution_count": null,
   "metadata": {},
   "outputs": [],
   "source": []
  }
 ],
 "metadata": {
  "kernelspec": {
   "display_name": "Python 3",
   "language": "python",
   "name": "python3"
  },
  "language_info": {
   "codemirror_mode": {
    "name": "ipython",
    "version": 3
   },
   "file_extension": ".py",
   "mimetype": "text/x-python",
   "name": "python",
   "nbconvert_exporter": "python",
   "pygments_lexer": "ipython3",
   "version": "3.6.6"
  },
  "varInspector": {
   "cols": {
    "lenName": 16,
    "lenType": 16,
    "lenVar": 40
   },
   "kernels_config": {
    "python": {
     "delete_cmd_postfix": "",
     "delete_cmd_prefix": "del ",
     "library": "var_list.py",
     "varRefreshCmd": "print(var_dic_list())"
    },
    "r": {
     "delete_cmd_postfix": ") ",
     "delete_cmd_prefix": "rm(",
     "library": "var_list.r",
     "varRefreshCmd": "cat(var_dic_list()) "
    }
   },
   "types_to_exclude": [
    "module",
    "function",
    "builtin_function_or_method",
    "instance",
    "_Feature"
   ],
   "window_display": false
  }
 },
 "nbformat": 4,
 "nbformat_minor": 2
}
