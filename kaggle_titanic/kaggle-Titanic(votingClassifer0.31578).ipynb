{
 "cells": [
  {
   "cell_type": "markdown",
   "metadata": {},
   "source": [
    "# 0.引入所需模組與必要的資料集"
   ]
  },
  {
   "cell_type": "code",
   "execution_count": 39,
   "metadata": {
    "ExecuteTime": {
     "end_time": "2019-01-25T12:05:05.626024Z",
     "start_time": "2019-01-25T12:05:05.622796Z"
    }
   },
   "outputs": [],
   "source": [
    "import numpy as np\n",
    "import pandas as pd\n",
    "import matplotlib.pyplot as plt\n",
    "import seaborn as sns\n",
    "import warnings\n",
    "import re\n",
    "\n",
    "from sklearn.ensemble import RandomForestClassifier\n",
    "from sklearn.ensemble import GradientBoostingClassifier\n",
    "from sklearn.ensemble import ExtraTreesClassifier\n",
    "from sklearn.ensemble import VotingClassifier"
   ]
  },
  {
   "cell_type": "code",
   "execution_count": 3,
   "metadata": {
    "ExecuteTime": {
     "end_time": "2019-01-25T10:42:51.381838Z",
     "start_time": "2019-01-25T10:42:50.709426Z"
    }
   },
   "outputs": [],
   "source": [
    "warnings.filterwarnings('ignore')\n",
    "%matplotlib inline\n",
    "sns.set_style('whitegrid')\n",
    "test_data = pd.read_csv('../../data/kaggle_titanic/test.csv')\n",
    "train_data = pd.read_csv('../../data/kaggle_titanic/train.csv')"
   ]
  },
  {
   "cell_type": "markdown",
   "metadata": {},
   "source": [
    "# 1.查看資料"
   ]
  },
  {
   "cell_type": "code",
   "execution_count": 4,
   "metadata": {
    "ExecuteTime": {
     "end_time": "2019-01-25T08:24:59.942837Z",
     "start_time": "2019-01-25T08:24:59.923215Z"
    }
   },
   "outputs": [
    {
     "name": "stdout",
     "output_type": "stream",
     "text": [
      "<class 'pandas.core.frame.DataFrame'>\n",
      "RangeIndex: 891 entries, 0 to 890\n",
      "Data columns (total 12 columns):\n",
      "PassengerId    891 non-null int64\n",
      "Survived       891 non-null int64\n",
      "Pclass         891 non-null int64\n",
      "Name           891 non-null object\n",
      "Sex            891 non-null object\n",
      "Age            714 non-null float64\n",
      "SibSp          891 non-null int64\n",
      "Parch          891 non-null int64\n",
      "Ticket         891 non-null object\n",
      "Fare           891 non-null float64\n",
      "Cabin          204 non-null object\n",
      "Embarked       889 non-null object\n",
      "dtypes: float64(2), int64(5), object(5)\n",
      "memory usage: 83.6+ KB\n",
      "----------------------------------------\n",
      "<class 'pandas.core.frame.DataFrame'>\n",
      "RangeIndex: 418 entries, 0 to 417\n",
      "Data columns (total 11 columns):\n",
      "PassengerId    418 non-null int64\n",
      "Pclass         418 non-null int64\n",
      "Name           418 non-null object\n",
      "Sex            418 non-null object\n",
      "Age            332 non-null float64\n",
      "SibSp          418 non-null int64\n",
      "Parch          418 non-null int64\n",
      "Ticket         418 non-null object\n",
      "Fare           417 non-null float64\n",
      "Cabin          91 non-null object\n",
      "Embarked       418 non-null object\n",
      "dtypes: float64(2), int64(4), object(5)\n",
      "memory usage: 36.0+ KB\n"
     ]
    }
   ],
   "source": [
    "def DatasetsInfo(train_data,test_data):\n",
    "    train_data.info()\n",
    "    print(\"-\" * 40)\n",
    "    test_data.info()\n",
    "DatasetsInfo(train_data,test_data)"
   ]
  },
  {
   "cell_type": "code",
   "execution_count": 9,
   "metadata": {
    "ExecuteTime": {
     "end_time": "2019-01-25T08:33:23.295313Z",
     "start_time": "2019-01-25T08:33:23.236041Z"
    }
   },
   "outputs": [
    {
     "name": "stdout",
     "output_type": "stream",
     "text": [
      "       PassengerId    Survived      Pclass         Age       SibSp  \\\n",
      "count   891.000000  891.000000  891.000000  714.000000  891.000000   \n",
      "mean    446.000000    0.383838    2.308642   29.699118    0.523008   \n",
      "std     257.353842    0.486592    0.836071   14.526497    1.102743   \n",
      "min       1.000000    0.000000    1.000000    0.420000    0.000000   \n",
      "25%     223.500000    0.000000    2.000000   20.125000    0.000000   \n",
      "50%     446.000000    0.000000    3.000000   28.000000    0.000000   \n",
      "75%     668.500000    1.000000    3.000000   38.000000    1.000000   \n",
      "max     891.000000    1.000000    3.000000   80.000000    8.000000   \n",
      "\n",
      "            Parch        Fare  \n",
      "count  891.000000  891.000000  \n",
      "mean     0.381594   32.204208  \n",
      "std      0.806057   49.693429  \n",
      "min      0.000000    0.000000  \n",
      "25%      0.000000    7.910400  \n",
      "50%      0.000000   14.454200  \n",
      "75%      0.000000   31.000000  \n",
      "max      6.000000  512.329200  \n",
      "----------------------------------------\n",
      "                                           Name   Sex  Ticket Cabin Embarked\n",
      "count                                       891   891     891   204      889\n",
      "unique                                      891     2     681   147        3\n",
      "top     Myhrman, Mr. Pehr Fabian Oliver Malkolm  male  347082    G6        S\n",
      "freq                                          1   577       7     4      644\n"
     ]
    }
   ],
   "source": [
    "print(train_data.describe())\n",
    "print(\"-\" * 40)\n",
    "print(train_data.describe(include=['O']))"
   ]
  },
  {
   "cell_type": "code",
   "execution_count": 15,
   "metadata": {
    "ExecuteTime": {
     "end_time": "2019-01-25T08:37:05.499035Z",
     "start_time": "2019-01-25T08:37:05.443715Z"
    }
   },
   "outputs": [
    {
     "name": "stdout",
     "output_type": "stream",
     "text": [
      "       PassengerId      Pclass         Age       SibSp       Parch        Fare\n",
      "count   418.000000  418.000000  332.000000  418.000000  418.000000  417.000000\n",
      "mean   1100.500000    2.265550   30.272590    0.447368    0.392344   35.627188\n",
      "std     120.810458    0.841838   14.181209    0.896760    0.981429   55.907576\n",
      "min     892.000000    1.000000    0.170000    0.000000    0.000000    0.000000\n",
      "25%     996.250000    1.000000   21.000000    0.000000    0.000000    7.895800\n",
      "50%    1100.500000    3.000000   27.000000    0.000000    0.000000   14.454200\n",
      "75%    1204.750000    3.000000   39.000000    1.000000    0.000000   31.500000\n",
      "max    1309.000000    3.000000   76.000000    8.000000    9.000000  512.329200\n",
      "----------------------------------------\n",
      "                            Name   Sex    Ticket            Cabin Embarked\n",
      "count                        418   418       418               91      418\n",
      "unique                       418     2       363               76        3\n",
      "top     Midtsjo, Mr. Karl Albert  male  PC 17608  B57 B59 B63 B66        S\n",
      "freq                           1   266         5                3      270\n"
     ]
    }
   ],
   "source": [
    "print(test_data.describe())\n",
    "print(\"-\" * 40)\n",
    "print(test_data.describe(include=['O']))"
   ]
  },
  {
   "cell_type": "code",
   "execution_count": 12,
   "metadata": {
    "ExecuteTime": {
     "end_time": "2019-01-25T08:35:31.983995Z",
     "start_time": "2019-01-25T08:35:31.969550Z"
    }
   },
   "outputs": [
    {
     "data": {
      "text/html": [
       "<div>\n",
       "<style scoped>\n",
       "    .dataframe tbody tr th:only-of-type {\n",
       "        vertical-align: middle;\n",
       "    }\n",
       "\n",
       "    .dataframe tbody tr th {\n",
       "        vertical-align: top;\n",
       "    }\n",
       "\n",
       "    .dataframe thead th {\n",
       "        text-align: right;\n",
       "    }\n",
       "</style>\n",
       "<table border=\"1\" class=\"dataframe\">\n",
       "  <thead>\n",
       "    <tr style=\"text-align: right;\">\n",
       "      <th></th>\n",
       "      <th>DataMissingPercentage</th>\n",
       "    </tr>\n",
       "  </thead>\n",
       "  <tbody>\n",
       "    <tr>\n",
       "      <th>PassengerId</th>\n",
       "      <td>0.000000</td>\n",
       "    </tr>\n",
       "    <tr>\n",
       "      <th>Survived</th>\n",
       "      <td>0.000000</td>\n",
       "    </tr>\n",
       "    <tr>\n",
       "      <th>Pclass</th>\n",
       "      <td>0.000000</td>\n",
       "    </tr>\n",
       "    <tr>\n",
       "      <th>Name</th>\n",
       "      <td>0.000000</td>\n",
       "    </tr>\n",
       "    <tr>\n",
       "      <th>Sex</th>\n",
       "      <td>0.000000</td>\n",
       "    </tr>\n",
       "    <tr>\n",
       "      <th>Age</th>\n",
       "      <td>19.865320</td>\n",
       "    </tr>\n",
       "    <tr>\n",
       "      <th>SibSp</th>\n",
       "      <td>0.000000</td>\n",
       "    </tr>\n",
       "    <tr>\n",
       "      <th>Parch</th>\n",
       "      <td>0.000000</td>\n",
       "    </tr>\n",
       "    <tr>\n",
       "      <th>Ticket</th>\n",
       "      <td>0.000000</td>\n",
       "    </tr>\n",
       "    <tr>\n",
       "      <th>Fare</th>\n",
       "      <td>0.000000</td>\n",
       "    </tr>\n",
       "    <tr>\n",
       "      <th>Cabin</th>\n",
       "      <td>77.104377</td>\n",
       "    </tr>\n",
       "    <tr>\n",
       "      <th>Embarked</th>\n",
       "      <td>0.224467</td>\n",
       "    </tr>\n",
       "  </tbody>\n",
       "</table>\n",
       "</div>"
      ],
      "text/plain": [
       "             DataMissingPercentage\n",
       "PassengerId               0.000000\n",
       "Survived                  0.000000\n",
       "Pclass                    0.000000\n",
       "Name                      0.000000\n",
       "Sex                       0.000000\n",
       "Age                      19.865320\n",
       "SibSp                     0.000000\n",
       "Parch                     0.000000\n",
       "Ticket                    0.000000\n",
       "Fare                      0.000000\n",
       "Cabin                    77.104377\n",
       "Embarked                  0.224467"
      ]
     },
     "execution_count": 12,
     "metadata": {},
     "output_type": "execute_result"
    }
   ],
   "source": [
    "def DatasetMissingPercentage(data):\n",
    "    return pd.DataFrame({'DataMissingPercentage':data.isnull().sum() * 100 / len(train_data)})\n",
    "\n",
    "DatasetMissingPercentage(train_data)"
   ]
  },
  {
   "cell_type": "code",
   "execution_count": 13,
   "metadata": {
    "ExecuteTime": {
     "end_time": "2019-01-25T08:35:59.309605Z",
     "start_time": "2019-01-25T08:35:59.297840Z"
    }
   },
   "outputs": [
    {
     "data": {
      "text/html": [
       "<div>\n",
       "<style scoped>\n",
       "    .dataframe tbody tr th:only-of-type {\n",
       "        vertical-align: middle;\n",
       "    }\n",
       "\n",
       "    .dataframe tbody tr th {\n",
       "        vertical-align: top;\n",
       "    }\n",
       "\n",
       "    .dataframe thead th {\n",
       "        text-align: right;\n",
       "    }\n",
       "</style>\n",
       "<table border=\"1\" class=\"dataframe\">\n",
       "  <thead>\n",
       "    <tr style=\"text-align: right;\">\n",
       "      <th></th>\n",
       "      <th>DataMissingPercentage</th>\n",
       "    </tr>\n",
       "  </thead>\n",
       "  <tbody>\n",
       "    <tr>\n",
       "      <th>PassengerId</th>\n",
       "      <td>0.000000</td>\n",
       "    </tr>\n",
       "    <tr>\n",
       "      <th>Pclass</th>\n",
       "      <td>0.000000</td>\n",
       "    </tr>\n",
       "    <tr>\n",
       "      <th>Name</th>\n",
       "      <td>0.000000</td>\n",
       "    </tr>\n",
       "    <tr>\n",
       "      <th>Sex</th>\n",
       "      <td>0.000000</td>\n",
       "    </tr>\n",
       "    <tr>\n",
       "      <th>Age</th>\n",
       "      <td>9.652076</td>\n",
       "    </tr>\n",
       "    <tr>\n",
       "      <th>SibSp</th>\n",
       "      <td>0.000000</td>\n",
       "    </tr>\n",
       "    <tr>\n",
       "      <th>Parch</th>\n",
       "      <td>0.000000</td>\n",
       "    </tr>\n",
       "    <tr>\n",
       "      <th>Ticket</th>\n",
       "      <td>0.000000</td>\n",
       "    </tr>\n",
       "    <tr>\n",
       "      <th>Fare</th>\n",
       "      <td>0.112233</td>\n",
       "    </tr>\n",
       "    <tr>\n",
       "      <th>Cabin</th>\n",
       "      <td>36.700337</td>\n",
       "    </tr>\n",
       "    <tr>\n",
       "      <th>Embarked</th>\n",
       "      <td>0.000000</td>\n",
       "    </tr>\n",
       "  </tbody>\n",
       "</table>\n",
       "</div>"
      ],
      "text/plain": [
       "             DataMissingPercentage\n",
       "PassengerId               0.000000\n",
       "Pclass                    0.000000\n",
       "Name                      0.000000\n",
       "Sex                       0.000000\n",
       "Age                       9.652076\n",
       "SibSp                     0.000000\n",
       "Parch                     0.000000\n",
       "Ticket                    0.000000\n",
       "Fare                      0.112233\n",
       "Cabin                    36.700337\n",
       "Embarked                  0.000000"
      ]
     },
     "execution_count": 13,
     "metadata": {},
     "output_type": "execute_result"
    }
   ],
   "source": [
    "DatasetMissingPercentage(test_data)"
   ]
  },
  {
   "cell_type": "code",
   "execution_count": 11,
   "metadata": {
    "ExecuteTime": {
     "end_time": "2019-01-25T08:35:17.451980Z",
     "start_time": "2019-01-25T08:35:17.320983Z"
    }
   },
   "outputs": [
    {
     "data": {
      "text/html": [
       "<div>\n",
       "<style scoped>\n",
       "    .dataframe tbody tr th:only-of-type {\n",
       "        vertical-align: middle;\n",
       "    }\n",
       "\n",
       "    .dataframe tbody tr th {\n",
       "        vertical-align: top;\n",
       "    }\n",
       "\n",
       "    .dataframe thead th {\n",
       "        text-align: right;\n",
       "    }\n",
       "</style>\n",
       "<table border=\"1\" class=\"dataframe\">\n",
       "  <thead>\n",
       "    <tr style=\"text-align: right;\">\n",
       "      <th></th>\n",
       "      <th>percent_unique</th>\n",
       "    </tr>\n",
       "  </thead>\n",
       "  <tbody>\n",
       "    <tr>\n",
       "      <th>PassengerId</th>\n",
       "      <td>100.000000</td>\n",
       "    </tr>\n",
       "    <tr>\n",
       "      <th>Survived</th>\n",
       "      <td>0.224467</td>\n",
       "    </tr>\n",
       "    <tr>\n",
       "      <th>Pclass</th>\n",
       "      <td>0.336700</td>\n",
       "    </tr>\n",
       "    <tr>\n",
       "      <th>Name</th>\n",
       "      <td>100.000000</td>\n",
       "    </tr>\n",
       "    <tr>\n",
       "      <th>Sex</th>\n",
       "      <td>0.224467</td>\n",
       "    </tr>\n",
       "    <tr>\n",
       "      <th>Age</th>\n",
       "      <td>9.988777</td>\n",
       "    </tr>\n",
       "    <tr>\n",
       "      <th>SibSp</th>\n",
       "      <td>0.785634</td>\n",
       "    </tr>\n",
       "    <tr>\n",
       "      <th>Parch</th>\n",
       "      <td>0.785634</td>\n",
       "    </tr>\n",
       "    <tr>\n",
       "      <th>Ticket</th>\n",
       "      <td>76.430976</td>\n",
       "    </tr>\n",
       "    <tr>\n",
       "      <th>Fare</th>\n",
       "      <td>27.833895</td>\n",
       "    </tr>\n",
       "    <tr>\n",
       "      <th>Cabin</th>\n",
       "      <td>16.610550</td>\n",
       "    </tr>\n",
       "    <tr>\n",
       "      <th>Embarked</th>\n",
       "      <td>0.448934</td>\n",
       "    </tr>\n",
       "  </tbody>\n",
       "</table>\n",
       "</div>"
      ],
      "text/plain": [
       "             percent_unique\n",
       "PassengerId      100.000000\n",
       "Survived           0.224467\n",
       "Pclass             0.336700\n",
       "Name             100.000000\n",
       "Sex                0.224467\n",
       "Age                9.988777\n",
       "SibSp              0.785634\n",
       "Parch              0.785634\n",
       "Ticket            76.430976\n",
       "Fare              27.833895\n",
       "Cabin             16.610550\n",
       "Embarked           0.448934"
      ]
     },
     "execution_count": 11,
     "metadata": {},
     "output_type": "execute_result"
    }
   ],
   "source": [
    "def DatasetUniquePercentage(data):\n",
    "    return pd.DataFrame({'percent_unique':data.apply(lambda x: x.unique().size/x.size*100)})\n",
    "\n",
    "DatasetUniquePercentage(train_data)"
   ]
  },
  {
   "cell_type": "code",
   "execution_count": 14,
   "metadata": {
    "ExecuteTime": {
     "end_time": "2019-01-25T08:36:22.809202Z",
     "start_time": "2019-01-25T08:36:22.795882Z"
    }
   },
   "outputs": [
    {
     "data": {
      "text/html": [
       "<div>\n",
       "<style scoped>\n",
       "    .dataframe tbody tr th:only-of-type {\n",
       "        vertical-align: middle;\n",
       "    }\n",
       "\n",
       "    .dataframe tbody tr th {\n",
       "        vertical-align: top;\n",
       "    }\n",
       "\n",
       "    .dataframe thead th {\n",
       "        text-align: right;\n",
       "    }\n",
       "</style>\n",
       "<table border=\"1\" class=\"dataframe\">\n",
       "  <thead>\n",
       "    <tr style=\"text-align: right;\">\n",
       "      <th></th>\n",
       "      <th>percent_unique</th>\n",
       "    </tr>\n",
       "  </thead>\n",
       "  <tbody>\n",
       "    <tr>\n",
       "      <th>PassengerId</th>\n",
       "      <td>100.000000</td>\n",
       "    </tr>\n",
       "    <tr>\n",
       "      <th>Pclass</th>\n",
       "      <td>0.717703</td>\n",
       "    </tr>\n",
       "    <tr>\n",
       "      <th>Name</th>\n",
       "      <td>100.000000</td>\n",
       "    </tr>\n",
       "    <tr>\n",
       "      <th>Sex</th>\n",
       "      <td>0.478469</td>\n",
       "    </tr>\n",
       "    <tr>\n",
       "      <th>Age</th>\n",
       "      <td>19.138756</td>\n",
       "    </tr>\n",
       "    <tr>\n",
       "      <th>SibSp</th>\n",
       "      <td>1.674641</td>\n",
       "    </tr>\n",
       "    <tr>\n",
       "      <th>Parch</th>\n",
       "      <td>1.913876</td>\n",
       "    </tr>\n",
       "    <tr>\n",
       "      <th>Ticket</th>\n",
       "      <td>86.842105</td>\n",
       "    </tr>\n",
       "    <tr>\n",
       "      <th>Fare</th>\n",
       "      <td>40.669856</td>\n",
       "    </tr>\n",
       "    <tr>\n",
       "      <th>Cabin</th>\n",
       "      <td>18.421053</td>\n",
       "    </tr>\n",
       "    <tr>\n",
       "      <th>Embarked</th>\n",
       "      <td>0.717703</td>\n",
       "    </tr>\n",
       "  </tbody>\n",
       "</table>\n",
       "</div>"
      ],
      "text/plain": [
       "             percent_unique\n",
       "PassengerId      100.000000\n",
       "Pclass             0.717703\n",
       "Name             100.000000\n",
       "Sex                0.478469\n",
       "Age               19.138756\n",
       "SibSp              1.674641\n",
       "Parch              1.913876\n",
       "Ticket            86.842105\n",
       "Fare              40.669856\n",
       "Cabin             18.421053\n",
       "Embarked           0.717703"
      ]
     },
     "execution_count": 14,
     "metadata": {},
     "output_type": "execute_result"
    }
   ],
   "source": [
    "DatasetUniquePercentage(test_data)"
   ]
  },
  {
   "cell_type": "markdown",
   "metadata": {},
   "source": [
    "# 2.分析資料"
   ]
  },
  {
   "cell_type": "markdown",
   "metadata": {},
   "source": [
    "## 基礎分析"
   ]
  },
  {
   "cell_type": "code",
   "execution_count": 16,
   "metadata": {
    "ExecuteTime": {
     "end_time": "2019-01-25T08:38:25.270991Z",
     "start_time": "2019-01-25T08:38:25.249641Z"
    }
   },
   "outputs": [
    {
     "name": "stdout",
     "output_type": "stream",
     "text": [
      "Id is unique.\n",
      "Train and test sets are distinct.\n",
      "Nan in the data sets\n",
      "          Train Dataset  Test Dataset\n",
      "Age                 177          86.0\n",
      "Cabin               687         327.0\n",
      "Embarked              2           0.0\n",
      "Fare                  0           1.0\n"
     ]
    }
   ],
   "source": [
    "print('Id is unique.') if train_data.PassengerId.nunique() == train_data.shape[0] else print('oops')\n",
    "print('Train and test sets are distinct.') if len(np.intersect1d(train_data.PassengerId.values, test_data.PassengerId.values))== 0 else print('oops')#0表示train,test dataset資料一致\n",
    "#查看資料是否有nan並設置datasetHasNan flag   \n",
    "if train_data.count().min() == train_data.shape[0] and test_dataset.count().min() == test_dataset.shape[0] :\n",
    "    print('We do not need to worry about missing values.') \n",
    "else:\n",
    "    nas = pd.concat([train_data.isnull().sum(), test_data.isnull().sum()], axis=1, keys=['Train Dataset', 'Test Dataset']) \n",
    "    print('Nan in the data sets')\n",
    "    print(nas[nas.sum(axis=1) > 0])\n"
   ]
  },
  {
   "cell_type": "code",
   "execution_count": 5,
   "metadata": {
    "ExecuteTime": {
     "end_time": "2019-01-25T08:29:24.438240Z",
     "start_time": "2019-01-25T08:29:24.262132Z"
    },
    "scrolled": true
   },
   "outputs": [
    {
     "data": {
      "text/plain": [
       "<matplotlib.axes._subplots.AxesSubplot at 0x106067898>"
      ]
     },
     "execution_count": 5,
     "metadata": {},
     "output_type": "execute_result"
    },
    {
     "data": {
      "image/png": "[encoded data removed]",
      "text/plain": [
       "<Figure size 432x288 with 1 Axes>"
      ]
     },
     "metadata": {},
     "output_type": "display_data"
    }
   ],
   "source": [
    "#存活率 \n",
    "train_data['Survived'].value_counts().plot.pie(autopct = '%1.2f%%')"
   ]
  },
  {
   "cell_type": "markdown",
   "metadata": {},
   "source": [
    "## 相關性分析"
   ]
  },
  {
   "cell_type": "code",
   "execution_count": 24,
   "metadata": {
    "ExecuteTime": {
     "end_time": "2019-01-25T08:55:20.085499Z",
     "start_time": "2019-01-25T08:55:20.020353Z"
    }
   },
   "outputs": [
    {
     "name": "stdout",
     "output_type": "stream",
     "text": [
      "      Sex  Survived\n",
      "0  female  0.742038\n",
      "1    male  0.188908\n",
      "\n",
      "   Pclass  Survived\n",
      "0       1  0.629630\n",
      "1       2  0.472826\n",
      "2       3  0.242363\n",
      "\n",
      "      Sex  Pclass  Survived\n",
      "0  female       1  0.968085\n",
      "1  female       2  0.921053\n",
      "2  female       3  0.500000\n",
      "3    male       1  0.368852\n",
      "4    male       2  0.157407\n",
      "5    male       3  0.135447\n",
      "\n",
      "   SibSp  Survived\n",
      "1      1  0.535885\n",
      "2      2  0.464286\n",
      "0      0  0.345395\n",
      "3      3  0.250000\n",
      "4      4  0.166667\n",
      "5      5  0.000000\n",
      "6      8  0.000000\n",
      "\n",
      "   Parch  Survived\n",
      "3      3  0.600000\n",
      "1      1  0.550847\n",
      "2      2  0.500000\n",
      "0      0  0.343658\n",
      "5      5  0.200000\n",
      "4      4  0.000000\n",
      "6      6  0.000000\n",
      "\n",
      "   Family  Survived\n",
      "3       3  0.724138\n",
      "2       2  0.578431\n",
      "1       1  0.552795\n",
      "6       6  0.333333\n",
      "0       0  0.303538\n",
      "4       4  0.200000\n",
      "5       5  0.136364\n",
      "7       7  0.000000\n",
      "8      10  0.000000\n",
      "\n",
      "  Embarked  Survived\n",
      "0        C  0.553571\n",
      "1        Q  0.389610\n",
      "2        S  0.336957\n",
      "\n"
     ]
    }
   ],
   "source": [
    "# Sex vs Survived\n",
    "print(train_data[[\"Sex\", \"Survived\"]].groupby(['Sex'], as_index=False).mean().sort_values(by='Survived', ascending=False))\n",
    "print()\n",
    "# Class vs Survived，存活率高到低，P1,P2,P3  \n",
    "print(train_data[['Pclass', 'Survived']].groupby(['Pclass'], as_index=False).mean().sort_values(by='Survived', ascending=False))\n",
    "print()\n",
    "# Sex and Class vs Survived\n",
    "print(train_data[['Sex', 'Pclass', 'Survived']].groupby(['Sex', 'Pclass'], as_index=False).mean().sort_values(by='Survived', ascending=False))\n",
    "print()\n",
    "# SibSp vs Survived\n",
    "print(train_data[[\"SibSp\", \"Survived\"]].groupby(['SibSp'], as_index=False).mean().sort_values(by='Survived', ascending=False))\n",
    "print()\n",
    "# Parch vs Survived\n",
    "print(train_data[[\"Parch\", \"Survived\"]].groupby(['Parch'], as_index=False).mean().sort_values(by='Survived', ascending=False))\n",
    "print()\n",
    "# Family vs Survived\n",
    "train_data['Family'] = train_data['SibSp'] + train_data['Parch']\n",
    "print(train_data[['Family', 'Survived']].groupby(['Family'], as_index=False).mean().sort_values(by='Survived', ascending=False))\n",
    "print()\n",
    "# Embark vs Survived\n",
    "print(train_data[['Embarked', 'Survived']].groupby(['Embarked'], as_index=False).mean().sort_values(by='Survived', ascending=False))\n",
    "print()"
   ]
  },
  {
   "cell_type": "code",
   "execution_count": 22,
   "metadata": {
    "ExecuteTime": {
     "end_time": "2019-01-25T08:50:28.158928Z",
     "start_time": "2019-01-25T08:50:26.581477Z"
    }
   },
   "outputs": [
    {
     "data": {
      "text/plain": [
       "<matplotlib.legend.Legend at 0x1a15eca128>"
      ]
     },
     "execution_count": 22,
     "metadata": {},
     "output_type": "execute_result"
    },
    {
     "data": {
      "image/png": "[encoded data removed]",
      "text/plain": [
       "<Figure size 720x288 with 1 Axes>"
      ]
     },
     "metadata": {},
     "output_type": "display_data"
    }
   ],
   "source": [
    "#年齡跟生存率關係  \n",
    "ax = plt.figure(figsize=(10,4)).add_subplot(111)\n",
    "sns.violinplot(x='Sex', y='Age', hue='Survived', data=train_data.dropna(), split=True)\n",
    "ax.set_xlabel('Sex',size=20)\n",
    "ax.set_xticklabels(['Female','male'], size=18)\n",
    "ax.set_ylabel('Age',size=20)\n",
    "ax.legend(fontsize=25,loc='best')"
   ]
  },
  {
   "cell_type": "code",
   "execution_count": 23,
   "metadata": {
    "ExecuteTime": {
     "end_time": "2019-01-25T08:51:26.867206Z",
     "start_time": "2019-01-25T08:51:26.332052Z"
    }
   },
   "outputs": [
    {
     "data": {
      "image/png": "[encoded data removed]",
      "text/plain": [
       "<Figure size 1296x576 with 2 Axes>"
      ]
     },
     "metadata": {},
     "output_type": "display_data"
    }
   ],
   "source": [
    "#階級跟年齡對生存率，性別跟年齡對生存率\n",
    "f,ax=plt.subplots(1,2,figsize=(18,8))\n",
    "sns.violinplot(\"Pclass\",\"Age\", hue=\"Survived\", data=train_data,split=True,ax=ax[0])\n",
    "ax[0].set_title('Pclass and Age vs Survived')\n",
    "ax[0].set_yticks(range(0,110,10))\n",
    "sns.violinplot(\"Sex\",\"Age\", hue=\"Survived\", data=train_data,split=True,ax=ax[1])\n",
    "ax[1].set_title('Sex and Age vs Survived')\n",
    "ax[1].set_yticks(range(0,110,10))\n",
    "plt.show()"
   ]
  },
  {
   "cell_type": "code",
   "execution_count": 17,
   "metadata": {
    "ExecuteTime": {
     "end_time": "2019-01-25T08:43:10.202105Z",
     "start_time": "2019-01-25T08:43:09.896104Z"
    }
   },
   "outputs": [
    {
     "name": "stdout",
     "output_type": "stream",
     "text": [
      "Train Features\n"
     ]
    },
    {
     "data": {
      "image/png": "[encoded data removed]",
      "text/plain": [
       "<Figure size 720x432 with 2 Axes>"
      ]
     },
     "metadata": {},
     "output_type": "display_data"
    }
   ],
   "source": [
    "def FeatureCorreate(datasets,dropData):\n",
    "    sns.set(context=\"paper\", font=\"monospace\")\n",
    "    sns.set(style=\"white\")\n",
    "    f, ax = plt.subplots(figsize=(10,6))\n",
    "    train_corr = datasets.drop(dropData,axis=1).corr()\n",
    "    sns.heatmap(train_corr, ax=ax, vmax=.9, square=True)\n",
    "    ax.set_xticklabels(train_corr.index, size=15)\n",
    "    ax.set_yticklabels(train_corr.columns[::-1], size=15)\n",
    "    ax.set_title('Feature Corr', fontsize=20)\n",
    "print(\"Train Features\")\n",
    "FeatureCorreate(train_data,'PassengerId')"
   ]
  },
  {
   "cell_type": "markdown",
   "metadata": {},
   "source": [
    "# 3.特徵工程"
   ]
  },
  {
   "cell_type": "markdown",
   "metadata": {},
   "source": [
    "## 合併測試與訓練集一起處理 "
   ]
  },
  {
   "cell_type": "code",
   "execution_count": 4,
   "metadata": {
    "ExecuteTime": {
     "end_time": "2019-01-25T10:43:39.704914Z",
     "start_time": "2019-01-25T10:43:39.694647Z"
    }
   },
   "outputs": [],
   "source": [
    "test_data['Survived']=0#test set沒有Survived\n",
    "combined_train_test = train_data.append(test_data)"
   ]
  },
  {
   "cell_type": "code",
   "execution_count": 5,
   "metadata": {
    "ExecuteTime": {
     "end_time": "2019-01-25T10:43:42.152468Z",
     "start_time": "2019-01-25T10:43:42.141790Z"
    }
   },
   "outputs": [
    {
     "name": "stdout",
     "output_type": "stream",
     "text": [
      "<class 'pandas.core.frame.DataFrame'>\n",
      "Int64Index: 1309 entries, 0 to 417\n",
      "Data columns (total 12 columns):\n",
      "Age            1046 non-null float64\n",
      "Cabin          295 non-null object\n",
      "Embarked       1307 non-null object\n",
      "Fare           1308 non-null float64\n",
      "Name           1309 non-null object\n",
      "Parch          1309 non-null int64\n",
      "PassengerId    1309 non-null int64\n",
      "Pclass         1309 non-null int64\n",
      "Sex            1309 non-null object\n",
      "SibSp          1309 non-null int64\n",
      "Survived       1309 non-null int64\n",
      "Ticket         1309 non-null object\n",
      "dtypes: float64(2), int64(5), object(5)\n",
      "memory usage: 132.9+ KB\n"
     ]
    }
   ],
   "source": [
    "combined_train_test.info()"
   ]
  },
  {
   "cell_type": "markdown",
   "metadata": {},
   "source": [
    "## 先處理缺失值少的 embarked,fare"
   ]
  },
  {
   "cell_type": "code",
   "execution_count": 6,
   "metadata": {
    "ExecuteTime": {
     "end_time": "2019-01-25T10:44:03.092170Z",
     "start_time": "2019-01-25T10:44:03.079162Z"
    }
   },
   "outputs": [],
   "source": [
    "#缺失值少的Embarked用眾數mode填充 \n",
    "if combined_train_test['Embarked'].isnull().sum() != 0:\n",
    "    combined_train_test['Embarked'].fillna(combined_train_test['Embarked'].mode().iloc[0], inplace=True)\n",
    "#dummy values:將各類別轉成01數值    \n",
    "emb_dummies_df = pd.get_dummies(combined_train_test['Embarked'],prefix=combined_train_test[['Embarked']].columns[0])\n",
    "combined_train_test = pd.concat([combined_train_test, emb_dummies_df], axis=1)"
   ]
  },
  {
   "cell_type": "code",
   "execution_count": 7,
   "metadata": {
    "ExecuteTime": {
     "end_time": "2019-01-25T10:44:05.580771Z",
     "start_time": "2019-01-25T10:44:05.567119Z"
    }
   },
   "outputs": [
    {
     "name": "stdout",
     "output_type": "stream",
     "text": [
      "<class 'pandas.core.frame.DataFrame'>\n",
      "Int64Index: 1309 entries, 0 to 417\n",
      "Data columns (total 15 columns):\n",
      "Age            1046 non-null float64\n",
      "Cabin          295 non-null object\n",
      "Embarked       1309 non-null object\n",
      "Fare           1308 non-null float64\n",
      "Name           1309 non-null object\n",
      "Parch          1309 non-null int64\n",
      "PassengerId    1309 non-null int64\n",
      "Pclass         1309 non-null int64\n",
      "Sex            1309 non-null object\n",
      "SibSp          1309 non-null int64\n",
      "Survived       1309 non-null int64\n",
      "Ticket         1309 non-null object\n",
      "Embarked_C     1309 non-null uint8\n",
      "Embarked_Q     1309 non-null uint8\n",
      "Embarked_S     1309 non-null uint8\n",
      "dtypes: float64(2), int64(5), object(5), uint8(3)\n",
      "memory usage: 136.8+ KB\n"
     ]
    }
   ],
   "source": [
    "combined_train_test.info()"
   ]
  },
  {
   "cell_type": "code",
   "execution_count": 8,
   "metadata": {
    "ExecuteTime": {
     "end_time": "2019-01-25T10:44:14.804440Z",
     "start_time": "2019-01-25T10:44:14.796510Z"
    }
   },
   "outputs": [
    {
     "data": {
      "text/plain": [
       "0    0\n",
       "1    1\n",
       "2    0\n",
       "3    0\n",
       "4    0\n",
       "Name: Embarked_C, dtype: uint8"
      ]
     },
     "execution_count": 8,
     "metadata": {},
     "output_type": "execute_result"
    }
   ],
   "source": [
    "combined_train_test['Embarked_C'].head()"
   ]
  },
  {
   "cell_type": "code",
   "execution_count": 9,
   "metadata": {
    "ExecuteTime": {
     "end_time": "2019-01-25T10:44:21.145802Z",
     "start_time": "2019-01-25T10:44:18.713616Z"
    }
   },
   "outputs": [],
   "source": [
    "if combined_train_test['Fare'].isnull().sum() != 0:\n",
    "    combined_train_test['Fare'] = combined_train_test[['Fare']].fillna(combined_train_test.groupby('Pclass').transform('mean'))"
   ]
  },
  {
   "cell_type": "code",
   "execution_count": 10,
   "metadata": {
    "ExecuteTime": {
     "end_time": "2019-01-25T10:44:21.265022Z",
     "start_time": "2019-01-25T10:44:21.248936Z"
    }
   },
   "outputs": [],
   "source": [
    "#團體票\n",
    "combined_train_test['Group_Ticket'] = combined_train_test['Fare'].groupby(by=combined_train_test['Ticket']).transform('count')\n",
    "combined_train_test['Fare'] = combined_train_test['Fare'] / combined_train_test['Group_Ticket']\n",
    "combined_train_test.drop(['Group_Ticket'], axis=1, inplace=True)"
   ]
  },
  {
   "cell_type": "code",
   "execution_count": 11,
   "metadata": {
    "ExecuteTime": {
     "end_time": "2019-01-25T10:44:22.463868Z",
     "start_time": "2019-01-25T10:44:22.453828Z"
    }
   },
   "outputs": [],
   "source": [
    "#票價分級\n",
    "def fare_category(fare):\n",
    "        if fare <= 4:\n",
    "            return 0\n",
    "        elif fare <= 10:\n",
    "            return 1\n",
    "        elif fare <= 30:\n",
    "            return 2\n",
    "        elif fare <= 45:\n",
    "            return 3\n",
    "        else:\n",
    "            return 4\n",
    "combined_train_test['Fare_Category'] = combined_train_test['Fare'].map(fare_category)"
   ]
  },
  {
   "cell_type": "code",
   "execution_count": 12,
   "metadata": {
    "ExecuteTime": {
     "end_time": "2019-01-25T10:44:24.159735Z",
     "start_time": "2019-01-25T10:44:24.149465Z"
    }
   },
   "outputs": [],
   "source": [
    "fare_cat_dummies_df = pd.get_dummies(combined_train_test['Fare_Category'],prefix=combined_train_test[['Fare_Category']].columns[0])\n",
    "combined_train_test = pd.concat([combined_train_test, fare_cat_dummies_df], axis=1)"
   ]
  },
  {
   "cell_type": "code",
   "execution_count": 13,
   "metadata": {
    "ExecuteTime": {
     "end_time": "2019-01-25T10:44:26.657482Z",
     "start_time": "2019-01-25T10:44:26.645342Z"
    }
   },
   "outputs": [
    {
     "name": "stdout",
     "output_type": "stream",
     "text": [
      "<class 'pandas.core.frame.DataFrame'>\n",
      "Int64Index: 1309 entries, 0 to 417\n",
      "Data columns (total 21 columns):\n",
      "Age                1046 non-null float64\n",
      "Cabin              295 non-null object\n",
      "Embarked           1309 non-null object\n",
      "Fare               1309 non-null float64\n",
      "Name               1309 non-null object\n",
      "Parch              1309 non-null int64\n",
      "PassengerId        1309 non-null int64\n",
      "Pclass             1309 non-null int64\n",
      "Sex                1309 non-null object\n",
      "SibSp              1309 non-null int64\n",
      "Survived           1309 non-null int64\n",
      "Ticket             1309 non-null object\n",
      "Embarked_C         1309 non-null uint8\n",
      "Embarked_Q         1309 non-null uint8\n",
      "Embarked_S         1309 non-null uint8\n",
      "Fare_Category      1309 non-null int64\n",
      "Fare_Category_0    1309 non-null uint8\n",
      "Fare_Category_1    1309 non-null uint8\n",
      "Fare_Category_2    1309 non-null uint8\n",
      "Fare_Category_3    1309 non-null uint8\n",
      "Fare_Category_4    1309 non-null uint8\n",
      "dtypes: float64(2), int64(6), object(5), uint8(8)\n",
      "memory usage: 193.4+ KB\n"
     ]
    }
   ],
   "source": [
    "combined_train_test.info()"
   ]
  },
  {
   "cell_type": "markdown",
   "metadata": {},
   "source": [
    "## 處理無缺失值的 sex,title,pclass   "
   ]
  },
  {
   "cell_type": "code",
   "execution_count": 14,
   "metadata": {
    "ExecuteTime": {
     "end_time": "2019-01-25T10:45:14.728026Z",
     "start_time": "2019-01-25T10:45:14.718062Z"
    }
   },
   "outputs": [],
   "source": [
    "sex_dummies_df = pd.get_dummies(combined_train_test['Sex'], prefix=combined_train_test[['Sex']].columns[0])\n",
    "combined_train_test = pd.concat([combined_train_test, sex_dummies_df], axis=1)"
   ]
  },
  {
   "cell_type": "code",
   "execution_count": 15,
   "metadata": {
    "ExecuteTime": {
     "end_time": "2019-01-25T10:45:28.177571Z",
     "start_time": "2019-01-25T10:45:28.164483Z"
    }
   },
   "outputs": [
    {
     "name": "stdout",
     "output_type": "stream",
     "text": [
      "<class 'pandas.core.frame.DataFrame'>\n",
      "Int64Index: 1309 entries, 0 to 417\n",
      "Data columns (total 23 columns):\n",
      "Age                1046 non-null float64\n",
      "Cabin              295 non-null object\n",
      "Embarked           1309 non-null object\n",
      "Fare               1309 non-null float64\n",
      "Name               1309 non-null object\n",
      "Parch              1309 non-null int64\n",
      "PassengerId        1309 non-null int64\n",
      "Pclass             1309 non-null int64\n",
      "Sex                1309 non-null object\n",
      "SibSp              1309 non-null int64\n",
      "Survived           1309 non-null int64\n",
      "Ticket             1309 non-null object\n",
      "Embarked_C         1309 non-null uint8\n",
      "Embarked_Q         1309 non-null uint8\n",
      "Embarked_S         1309 non-null uint8\n",
      "Fare_Category      1309 non-null int64\n",
      "Fare_Category_0    1309 non-null uint8\n",
      "Fare_Category_1    1309 non-null uint8\n",
      "Fare_Category_2    1309 non-null uint8\n",
      "Fare_Category_3    1309 non-null uint8\n",
      "Fare_Category_4    1309 non-null uint8\n",
      "Sex_female         1309 non-null uint8\n",
      "Sex_male           1309 non-null uint8\n",
      "dtypes: float64(2), int64(6), object(5), uint8(10)\n",
      "memory usage: 196.0+ KB\n"
     ]
    }
   ],
   "source": [
    "combined_train_test.info()"
   ]
  },
  {
   "cell_type": "code",
   "execution_count": 16,
   "metadata": {
    "ExecuteTime": {
     "end_time": "2019-01-25T10:45:44.963085Z",
     "start_time": "2019-01-25T10:45:44.940360Z"
    }
   },
   "outputs": [],
   "source": [
    "#從名稱獨立出title  \n",
    "combined_train_test['Title'] = combined_train_test['Name'].map(lambda x: re.compile(\", (.*?)\\.\").findall(x)[0])\n",
    "title_Dict = {}\n",
    "title_Dict.update(dict.fromkeys(['Capt', 'Col', 'Major', 'Dr', 'Rev'], 'Officer'))\n",
    "title_Dict.update(dict.fromkeys(['Don', 'Sir', 'the Countess', 'Dona', 'Lady'], 'Royalty'))\n",
    "title_Dict.update(dict.fromkeys(['Mme', 'Ms', 'Mrs'], 'Mrs'))\n",
    "title_Dict.update(dict.fromkeys(['Mlle', 'Miss'], 'Miss'))\n",
    "title_Dict.update(dict.fromkeys(['Mr'], 'Mr'))\n",
    "title_Dict.update(dict.fromkeys(['Master','Jonkheer'], 'Master'))\n",
    "combined_train_test['Title'] = combined_train_test['Title'].map(title_Dict)\n",
    "#title也one-hot\n",
    "combined_train_test['Title'] = pd.factorize(combined_train_test['Title'])[0]\n",
    "title_dummies_df = pd.get_dummies(combined_train_test['Title'], prefix=combined_train_test[['Title']].columns[0])\n",
    "combined_train_test = pd.concat([combined_train_test, title_dummies_df], axis=1)"
   ]
  },
  {
   "cell_type": "code",
   "execution_count": 17,
   "metadata": {
    "ExecuteTime": {
     "end_time": "2019-01-25T10:45:46.298630Z",
     "start_time": "2019-01-25T10:45:46.285122Z"
    }
   },
   "outputs": [
    {
     "name": "stdout",
     "output_type": "stream",
     "text": [
      "<class 'pandas.core.frame.DataFrame'>\n",
      "Int64Index: 1309 entries, 0 to 417\n",
      "Data columns (total 30 columns):\n",
      "Age                1046 non-null float64\n",
      "Cabin              295 non-null object\n",
      "Embarked           1309 non-null object\n",
      "Fare               1309 non-null float64\n",
      "Name               1309 non-null object\n",
      "Parch              1309 non-null int64\n",
      "PassengerId        1309 non-null int64\n",
      "Pclass             1309 non-null int64\n",
      "Sex                1309 non-null object\n",
      "SibSp              1309 non-null int64\n",
      "Survived           1309 non-null int64\n",
      "Ticket             1309 non-null object\n",
      "Embarked_C         1309 non-null uint8\n",
      "Embarked_Q         1309 non-null uint8\n",
      "Embarked_S         1309 non-null uint8\n",
      "Fare_Category      1309 non-null int64\n",
      "Fare_Category_0    1309 non-null uint8\n",
      "Fare_Category_1    1309 non-null uint8\n",
      "Fare_Category_2    1309 non-null uint8\n",
      "Fare_Category_3    1309 non-null uint8\n",
      "Fare_Category_4    1309 non-null uint8\n",
      "Sex_female         1309 non-null uint8\n",
      "Sex_male           1309 non-null uint8\n",
      "Title              1309 non-null int64\n",
      "Title_0            1309 non-null uint8\n",
      "Title_1            1309 non-null uint8\n",
      "Title_2            1309 non-null uint8\n",
      "Title_3            1309 non-null uint8\n",
      "Title_4            1309 non-null uint8\n",
      "Title_5            1309 non-null uint8\n",
      "dtypes: float64(2), int64(7), object(5), uint8(16)\n",
      "memory usage: 213.9+ KB\n"
     ]
    }
   ],
   "source": [
    "combined_train_test.info()"
   ]
  },
  {
   "cell_type": "code",
   "execution_count": 18,
   "metadata": {
    "ExecuteTime": {
     "end_time": "2019-01-25T10:46:36.387028Z",
     "start_time": "2019-01-25T10:46:03.418544Z"
    }
   },
   "outputs": [],
   "source": [
    "#Pclass\n",
    "from sklearn.preprocessing import LabelEncoder\n",
    "\n",
    "# 建立PClass Fare Category\n",
    "def pclass_fare_category(df, pclass1_mean_fare, pclass2_mean_fare, pclass3_mean_fare):\n",
    "    if df['Pclass'] == 1:\n",
    "        if df['Fare'] <= pclass1_mean_fare:\n",
    "            return 'Pclass1_Low'\n",
    "        else:\n",
    "            return 'Pclass1_High'\n",
    "    elif df['Pclass'] == 2:\n",
    "        if df['Fare'] <= pclass2_mean_fare:\n",
    "            return 'Pclass2_Low'\n",
    "        else:\n",
    "            return 'Pclass2_High'\n",
    "    elif df['Pclass'] == 3:\n",
    "        if df['Fare'] <= pclass3_mean_fare:\n",
    "            return 'Pclass3_Low'\n",
    "        else:\n",
    "            return 'Pclass3_High'\n",
    "\n",
    "Pclass1_mean_fare = combined_train_test['Fare'].groupby(by=combined_train_test['Pclass']).mean().get([1]).values[0]\n",
    "Pclass2_mean_fare = combined_train_test['Fare'].groupby(by=combined_train_test['Pclass']).mean().get([2]).values[0]\n",
    "Pclass3_mean_fare = combined_train_test['Fare'].groupby(by=combined_train_test['Pclass']).mean().get([3]).values[0]\n",
    "\n",
    "# 建立Pclass_Fare Category\n",
    "combined_train_test['Pclass_Fare_Category'] = combined_train_test.apply(pclass_fare_category, args=(\n",
    " Pclass1_mean_fare, Pclass2_mean_fare, Pclass3_mean_fare), axis=1)\n",
    "pclass_level = LabelEncoder()\n",
    "\n",
    "# 给每一项添加标签\n",
    "pclass_level.fit(np.array(\n",
    " ['Pclass1_Low', 'Pclass1_High', 'Pclass2_Low', 'Pclass2_High', 'Pclass3_Low', 'Pclass3_High']))\n",
    "\n",
    "# 转换成数值\n",
    "combined_train_test['Pclass_Fare_Category'] = pclass_level.transform(combined_train_test['Pclass_Fare_Category'])\n",
    "\n",
    "# dummy 转换\n",
    "pclass_dummies_df = pd.get_dummies(combined_train_test['Pclass_Fare_Category']).rename(columns=lambda x: 'Pclass_' + str(x))\n",
    "combined_train_test = pd.concat([combined_train_test, pclass_dummies_df], axis=1)\n",
    "\n",
    "combined_train_test['Pclass'] = pd.factorize(combined_train_test['Pclass'])[0]\n"
   ]
  },
  {
   "cell_type": "code",
   "execution_count": 19,
   "metadata": {
    "ExecuteTime": {
     "end_time": "2019-01-25T10:46:36.541852Z",
     "start_time": "2019-01-25T10:46:36.526741Z"
    }
   },
   "outputs": [
    {
     "name": "stdout",
     "output_type": "stream",
     "text": [
      "<class 'pandas.core.frame.DataFrame'>\n",
      "Int64Index: 1309 entries, 0 to 417\n",
      "Data columns (total 37 columns):\n",
      "Age                     1046 non-null float64\n",
      "Cabin                   295 non-null object\n",
      "Embarked                1309 non-null object\n",
      "Fare                    1309 non-null float64\n",
      "Name                    1309 non-null object\n",
      "Parch                   1309 non-null int64\n",
      "PassengerId             1309 non-null int64\n",
      "Pclass                  1309 non-null int64\n",
      "Sex                     1309 non-null object\n",
      "SibSp                   1309 non-null int64\n",
      "Survived                1309 non-null int64\n",
      "Ticket                  1309 non-null object\n",
      "Embarked_C              1309 non-null uint8\n",
      "Embarked_Q              1309 non-null uint8\n",
      "Embarked_S              1309 non-null uint8\n",
      "Fare_Category           1309 non-null int64\n",
      "Fare_Category_0         1309 non-null uint8\n",
      "Fare_Category_1         1309 non-null uint8\n",
      "Fare_Category_2         1309 non-null uint8\n",
      "Fare_Category_3         1309 non-null uint8\n",
      "Fare_Category_4         1309 non-null uint8\n",
      "Sex_female              1309 non-null uint8\n",
      "Sex_male                1309 non-null uint8\n",
      "Title                   1309 non-null int64\n",
      "Title_0                 1309 non-null uint8\n",
      "Title_1                 1309 non-null uint8\n",
      "Title_2                 1309 non-null uint8\n",
      "Title_3                 1309 non-null uint8\n",
      "Title_4                 1309 non-null uint8\n",
      "Title_5                 1309 non-null uint8\n",
      "Pclass_Fare_Category    1309 non-null int64\n",
      "Pclass_0                1309 non-null uint8\n",
      "Pclass_1                1309 non-null uint8\n",
      "Pclass_2                1309 non-null uint8\n",
      "Pclass_3                1309 non-null uint8\n",
      "Pclass_4                1309 non-null uint8\n",
      "Pclass_5                1309 non-null uint8\n",
      "dtypes: float64(2), int64(8), object(5), uint8(22)\n",
      "memory usage: 231.7+ KB\n"
     ]
    }
   ],
   "source": [
    "combined_train_test.info()"
   ]
  },
  {
   "cell_type": "markdown",
   "metadata": {},
   "source": [
    "## Parch跟SibSp合併Family_Size"
   ]
  },
  {
   "cell_type": "code",
   "execution_count": 20,
   "metadata": {
    "ExecuteTime": {
     "end_time": "2019-01-25T10:46:54.697877Z",
     "start_time": "2019-01-25T10:46:54.680565Z"
    }
   },
   "outputs": [],
   "source": [
    "#合併處理Parch and SibSp\n",
    "def family_size_category(family_size):\n",
    "    if family_size <= 1:\n",
    "        return 'Single'\n",
    "    elif family_size <= 4:\n",
    "        return 'Small_Family'\n",
    "    else:\n",
    "        return 'Large_Family'\n",
    "\n",
    "combined_train_test['Family_Size'] = combined_train_test['Parch'] + combined_train_test['SibSp'] + 1\n",
    "combined_train_test['Family_Size_Category'] = combined_train_test['Family_Size'].map(family_size_category)\n",
    "\n",
    "le_family = LabelEncoder()\n",
    "le_family.fit(np.array(['Single', 'Small_Family', 'Large_Family']))\n",
    "combined_train_test['Family_Size_Category'] = le_family.transform(combined_train_test['Family_Size_Category'])\n",
    "\n",
    "family_size_dummies_df = pd.get_dummies(combined_train_test['Family_Size_Category'],prefix=combined_train_test[['Family_Size_Category']].columns[0])\n",
    "combined_train_test = pd.concat([combined_train_test, family_size_dummies_df], axis=1)"
   ]
  },
  {
   "cell_type": "code",
   "execution_count": 22,
   "metadata": {
    "ExecuteTime": {
     "end_time": "2019-01-25T11:05:30.291496Z",
     "start_time": "2019-01-25T11:05:30.278875Z"
    }
   },
   "outputs": [],
   "source": [
    "#sex因為不是數值，丟進模型前要one-hot(dummy)\n",
    "combined_train_test['Sex'] = pd.factorize(combined_train_test['Sex'])[0]\n",
    "\n",
    "sex_dummies_df = pd.get_dummies(combined_train_test['Sex'], prefix=combined_train_test[['Sex']].columns[0])\n",
    "combined_train_test = pd.concat([combined_train_test, sex_dummies_df], axis=1)"
   ]
  },
  {
   "cell_type": "code",
   "execution_count": 23,
   "metadata": {
    "ExecuteTime": {
     "end_time": "2019-01-25T11:05:37.791189Z",
     "start_time": "2019-01-25T11:05:37.774610Z"
    }
   },
   "outputs": [
    {
     "name": "stdout",
     "output_type": "stream",
     "text": [
      "<class 'pandas.core.frame.DataFrame'>\n",
      "Int64Index: 1309 entries, 0 to 417\n",
      "Data columns (total 44 columns):\n",
      "Age                       1046 non-null float64\n",
      "Cabin                     295 non-null object\n",
      "Embarked                  1309 non-null object\n",
      "Fare                      1309 non-null float64\n",
      "Name                      1309 non-null object\n",
      "Parch                     1309 non-null int64\n",
      "PassengerId               1309 non-null int64\n",
      "Pclass                    1309 non-null int64\n",
      "Sex                       1309 non-null int64\n",
      "SibSp                     1309 non-null int64\n",
      "Survived                  1309 non-null int64\n",
      "Ticket                    1309 non-null object\n",
      "Embarked_C                1309 non-null uint8\n",
      "Embarked_Q                1309 non-null uint8\n",
      "Embarked_S                1309 non-null uint8\n",
      "Fare_Category             1309 non-null int64\n",
      "Fare_Category_0           1309 non-null uint8\n",
      "Fare_Category_1           1309 non-null uint8\n",
      "Fare_Category_2           1309 non-null uint8\n",
      "Fare_Category_3           1309 non-null uint8\n",
      "Fare_Category_4           1309 non-null uint8\n",
      "Sex_female                1309 non-null uint8\n",
      "Sex_male                  1309 non-null uint8\n",
      "Title                     1309 non-null int64\n",
      "Title_0                   1309 non-null uint8\n",
      "Title_1                   1309 non-null uint8\n",
      "Title_2                   1309 non-null uint8\n",
      "Title_3                   1309 non-null uint8\n",
      "Title_4                   1309 non-null uint8\n",
      "Title_5                   1309 non-null uint8\n",
      "Pclass_Fare_Category      1309 non-null int64\n",
      "Pclass_0                  1309 non-null uint8\n",
      "Pclass_1                  1309 non-null uint8\n",
      "Pclass_2                  1309 non-null uint8\n",
      "Pclass_3                  1309 non-null uint8\n",
      "Pclass_4                  1309 non-null uint8\n",
      "Pclass_5                  1309 non-null uint8\n",
      "Family_Size               1309 non-null int64\n",
      "Family_Size_Category      1309 non-null int64\n",
      "Family_Size_Category_0    1309 non-null uint8\n",
      "Family_Size_Category_1    1309 non-null uint8\n",
      "Family_Size_Category_2    1309 non-null uint8\n",
      "Sex_0                     1309 non-null uint8\n",
      "Sex_1                     1309 non-null uint8\n",
      "dtypes: float64(2), int64(11), object(4), uint8(27)\n",
      "memory usage: 258.6+ KB\n"
     ]
    }
   ],
   "source": [
    "combined_train_test.info()"
   ]
  },
  {
   "cell_type": "markdown",
   "metadata": {},
   "source": [
    "## 缺失值多的不能直接眾數或平均數，有兩種填充法 age  \n",
    "1.依title平均年齡填充  \n",
    "2.利用機器學習算法對其他特徵預測，多模型融合預測 age(採用） "
   ]
  },
  {
   "cell_type": "code",
   "execution_count": 24,
   "metadata": {
    "ExecuteTime": {
     "end_time": "2019-01-25T11:16:27.006900Z",
     "start_time": "2019-01-25T11:16:26.997341Z"
    }
   },
   "outputs": [],
   "source": [
    "#欄位都要是數值\n",
    "missing_age_df = pd.DataFrame(combined_train_test[['Age','Embarked_C','Embarked_Q','Embarked_S', 'Sex', 'Title', 'Family_Size', 'Family_Size_Category','Pclass_Fare_Category']])\n",
    "#依照age有無區分為訓練與測試集\n",
    "missing_age_train = missing_age_df[missing_age_df['Age'].notnull()]\n",
    "missing_age_test = missing_age_df[missing_age_df['Age'].isnull()]"
   ]
  },
  {
   "cell_type": "code",
   "execution_count": 27,
   "metadata": {
    "ExecuteTime": {
     "end_time": "2019-01-25T11:19:46.598056Z",
     "start_time": "2019-01-25T11:19:46.583122Z"
    }
   },
   "outputs": [],
   "source": [
    "from sklearn import ensemble\n",
    "from sklearn import model_selection\n",
    "from sklearn.ensemble import GradientBoostingRegressor\n",
    "from sklearn.ensemble import RandomForestRegressor\n",
    "\n",
    "def fill_missing_age(missing_age_train, missing_age_test):\n",
    "    missing_age_X_train = missing_age_train.drop(['Age'], axis=1)\n",
    "    missing_age_Y_train = missing_age_train['Age']\n",
    "    missing_age_X_test = missing_age_test.drop(['Age'], axis=1)\n",
    "\n",
    "    # model 1  gbm\n",
    "    gbm_reg = GradientBoostingRegressor(random_state=42)\n",
    "    gbm_reg_param_grid = {'n_estimators': [2000], 'max_depth': [4], 'learning_rate': [0.01], 'max_features': [3]}\n",
    "    gbm_reg_grid = model_selection.GridSearchCV(gbm_reg, gbm_reg_param_grid, cv=10, n_jobs=25, verbose=1, scoring='neg_mean_squared_error')\n",
    "    gbm_reg_grid.fit(missing_age_X_train, missing_age_Y_train)\n",
    "    print('Age feature Best GB Params:' + str(gbm_reg_grid.best_params_))\n",
    "    print('Age feature Best GB Score:' + str(gbm_reg_grid.best_score_))\n",
    "    print('GB Train Error for \"Age\" Feature Regressor:' + str(gbm_reg_grid.score(missing_age_X_train, missing_age_Y_train)))\n",
    "    missing_age_test.loc[:, 'Age_GB'] = gbm_reg_grid.predict(missing_age_X_test)\n",
    "    print(missing_age_test['Age_GB'][:4])\n",
    "    \n",
    "    # model 2 rf\n",
    "    rf_reg = RandomForestRegressor()\n",
    "    rf_reg_param_grid = {'n_estimators': [200], 'max_depth': [5], 'random_state': [0]}\n",
    "    rf_reg_grid = model_selection.GridSearchCV(rf_reg, rf_reg_param_grid, cv=10, n_jobs=25, verbose=1, scoring='neg_mean_squared_error')\n",
    "    rf_reg_grid.fit(missing_age_X_train, missing_age_Y_train)\n",
    "    print('Age feature Best RF Params:' + str(rf_reg_grid.best_params_))\n",
    "    print('Age feature Best RF Score:' + str(rf_reg_grid.best_score_))\n",
    "    print('RF Train Error for \"Age\" Feature Regressor' + str(rf_reg_grid.score(missing_age_X_train, missing_age_Y_train)))\n",
    "    missing_age_test.loc[:, 'Age_RF'] = rf_reg_grid.predict(missing_age_X_test)\n",
    "    print(missing_age_test['Age_RF'][:4])\n",
    "\n",
    "    # two models merge\n",
    "    print('shape1', missing_age_test['Age'].shape, missing_age_test[['Age_GB', 'Age_RF']].mode(axis=1).shape)\n",
    "    # missing_age_test['Age'] = missing_age_test[['Age_GB', 'Age_LR']].mode(axis=1)\n",
    "\n",
    "    missing_age_test.loc[:, 'Age'] = np.mean([missing_age_test['Age_GB'], missing_age_test['Age_RF']])\n",
    "    print(missing_age_test['Age'][:4])\n",
    "\n",
    "    missing_age_test.drop(['Age_GB', 'Age_RF'], axis=1, inplace=True)\n",
    "\n",
    "    return missing_age_test"
   ]
  },
  {
   "cell_type": "code",
   "execution_count": 28,
   "metadata": {
    "ExecuteTime": {
     "end_time": "2019-01-25T11:20:51.325669Z",
     "start_time": "2019-01-25T11:19:52.537249Z"
    }
   },
   "outputs": [
    {
     "name": "stdout",
     "output_type": "stream",
     "text": [
      "Fitting 10 folds for each of 1 candidates, totalling 10 fits\n"
     ]
    },
    {
     "name": "stderr",
     "output_type": "stream",
     "text": [
      "[Parallel(n_jobs=25)]: Using backend LokyBackend with 25 concurrent workers.\n",
      "[Parallel(n_jobs=25)]: Done   5 out of  10 | elapsed:    2.0s remaining:    2.0s\n",
      "[Parallel(n_jobs=25)]: Done  10 out of  10 | elapsed:   43.7s finished\n",
      "/Users/yumei/anaconda3/envs/py36/lib/python3.6/site-packages/sklearn/model_selection/_search.py:841: DeprecationWarning: The default of the `iid` parameter will change from True to False in version 0.22 and will be removed in 0.24. This will change numeric results when test-set sizes are unequal.\n",
      "  DeprecationWarning)\n"
     ]
    },
    {
     "name": "stdout",
     "output_type": "stream",
     "text": [
      "Age feature Best GB Params:{'learning_rate': 0.01, 'max_depth': 4, 'max_features': 3, 'n_estimators': 2000}\n",
      "Age feature Best GB Score:-122.59484813209025\n",
      "GB Train Error for \"Age\" Feature Regressor:-96.64999132127174\n",
      "5     34.268116\n",
      "17    32.491692\n",
      "19    32.441639\n",
      "26    26.354323\n",
      "Name: Age_GB, dtype: float64\n",
      "Fitting 10 folds for each of 1 candidates, totalling 10 fits\n"
     ]
    },
    {
     "name": "stderr",
     "output_type": "stream",
     "text": [
      "[Parallel(n_jobs=25)]: Using backend LokyBackend with 25 concurrent workers.\n",
      "[Parallel(n_jobs=25)]: Done   5 out of  10 | elapsed:    0.7s remaining:    0.7s\n",
      "[Parallel(n_jobs=25)]: Done  10 out of  10 | elapsed:   13.4s finished\n",
      "/Users/yumei/anaconda3/envs/py36/lib/python3.6/site-packages/sklearn/model_selection/_search.py:841: DeprecationWarning: The default of the `iid` parameter will change from True to False in version 0.22 and will be removed in 0.24. This will change numeric results when test-set sizes are unequal.\n",
      "  DeprecationWarning)\n"
     ]
    },
    {
     "name": "stdout",
     "output_type": "stream",
     "text": [
      "Age feature Best RF Params:{'max_depth': 5, 'n_estimators': 200, 'random_state': 0}\n",
      "Age feature Best RF Score:-116.16544314788861\n",
      "RF Train Error for \"Age\" Feature Regressor-102.20236641505362\n",
      "5     32.815656\n",
      "17    33.130105\n",
      "19    32.576342\n",
      "26    27.479237\n",
      "Name: Age_RF, dtype: float64\n",
      "shape1 (263,) (263, 2)\n",
      "5     29.208651\n",
      "17    29.208651\n",
      "19    29.208651\n",
      "26    29.208651\n",
      "Name: Age, dtype: float64\n"
     ]
    }
   ],
   "source": [
    "combined_train_test.loc[(combined_train_test.Age.isnull()), 'Age'] = fill_missing_age(missing_age_train, missing_age_test)"
   ]
  },
  {
   "cell_type": "code",
   "execution_count": 29,
   "metadata": {
    "ExecuteTime": {
     "end_time": "2019-01-25T11:20:58.674618Z",
     "start_time": "2019-01-25T11:20:58.661982Z"
    }
   },
   "outputs": [
    {
     "name": "stdout",
     "output_type": "stream",
     "text": [
      "<class 'pandas.core.frame.DataFrame'>\n",
      "Int64Index: 1309 entries, 0 to 417\n",
      "Data columns (total 44 columns):\n",
      "Age                       1309 non-null float64\n",
      "Cabin                     295 non-null object\n",
      "Embarked                  1309 non-null object\n",
      "Fare                      1309 non-null float64\n",
      "Name                      1309 non-null object\n",
      "Parch                     1309 non-null int64\n",
      "PassengerId               1309 non-null int64\n",
      "Pclass                    1309 non-null int64\n",
      "Sex                       1309 non-null int64\n",
      "SibSp                     1309 non-null int64\n",
      "Survived                  1309 non-null int64\n",
      "Ticket                    1309 non-null object\n",
      "Embarked_C                1309 non-null uint8\n",
      "Embarked_Q                1309 non-null uint8\n",
      "Embarked_S                1309 non-null uint8\n",
      "Fare_Category             1309 non-null int64\n",
      "Fare_Category_0           1309 non-null uint8\n",
      "Fare_Category_1           1309 non-null uint8\n",
      "Fare_Category_2           1309 non-null uint8\n",
      "Fare_Category_3           1309 non-null uint8\n",
      "Fare_Category_4           1309 non-null uint8\n",
      "Sex_female                1309 non-null uint8\n",
      "Sex_male                  1309 non-null uint8\n",
      "Title                     1309 non-null int64\n",
      "Title_0                   1309 non-null uint8\n",
      "Title_1                   1309 non-null uint8\n",
      "Title_2                   1309 non-null uint8\n",
      "Title_3                   1309 non-null uint8\n",
      "Title_4                   1309 non-null uint8\n",
      "Title_5                   1309 non-null uint8\n",
      "Pclass_Fare_Category      1309 non-null int64\n",
      "Pclass_0                  1309 non-null uint8\n",
      "Pclass_1                  1309 non-null uint8\n",
      "Pclass_2                  1309 non-null uint8\n",
      "Pclass_3                  1309 non-null uint8\n",
      "Pclass_4                  1309 non-null uint8\n",
      "Pclass_5                  1309 non-null uint8\n",
      "Family_Size               1309 non-null int64\n",
      "Family_Size_Category      1309 non-null int64\n",
      "Family_Size_Category_0    1309 non-null uint8\n",
      "Family_Size_Category_1    1309 non-null uint8\n",
      "Family_Size_Category_2    1309 non-null uint8\n",
      "Sex_0                     1309 non-null uint8\n",
      "Sex_1                     1309 non-null uint8\n",
      "dtypes: float64(2), int64(11), object(4), uint8(27)\n",
      "memory usage: 258.6+ KB\n"
     ]
    }
   ],
   "source": [
    "combined_train_test.info()"
   ]
  },
  {
   "cell_type": "markdown",
   "metadata": {},
   "source": [
    "## 如果缺失值太多，將有沒有值當特徵 cabin  "
   ]
  },
  {
   "cell_type": "code",
   "execution_count": 33,
   "metadata": {
    "ExecuteTime": {
     "end_time": "2019-01-25T11:49:49.463823Z",
     "start_time": "2019-01-25T11:49:49.297241Z"
    },
    "scrolled": true
   },
   "outputs": [
    {
     "data": {
      "text/plain": [
       "<matplotlib.axes._subplots.AxesSubplot at 0x1a1c5a7550>"
      ]
     },
     "execution_count": 33,
     "metadata": {},
     "output_type": "execute_result"
    },
    {
     "data": {
      "image/png": "[encoded data removed]",
      "text/plain": [
       "<Figure size 432x288 with 1 Axes>"
      ]
     },
     "metadata": {},
     "output_type": "display_data"
    }
   ],
   "source": [
    "combined_train_test.loc[combined_train_test.Cabin.isnull(), 'Cabin'] = 'X'\n",
    "combined_train_test['Has_Cabin'] = combined_train_test['Cabin'].apply(lambda x: 0 if x == 'X' else 1)\n",
    "combined_train_test[['Has_Cabin','Survived']].groupby(['Has_Cabin']).mean().plot.bar()"
   ]
  },
  {
   "cell_type": "code",
   "execution_count": 34,
   "metadata": {
    "ExecuteTime": {
     "end_time": "2019-01-25T11:49:54.479280Z",
     "start_time": "2019-01-25T11:49:54.474643Z"
    }
   },
   "outputs": [],
   "source": [
    "combined_train_test['Cabin'] = combined_train_test.Cabin.fillna('X')"
   ]
  },
  {
   "cell_type": "code",
   "execution_count": 41,
   "metadata": {
    "ExecuteTime": {
     "end_time": "2019-01-25T12:21:11.181716Z",
     "start_time": "2019-01-25T12:21:11.175038Z"
    }
   },
   "outputs": [],
   "source": [
    "#刪除不必要特徵cabin,embarked->c,q,s,name,ticket->\n",
    "del combined_train_test['Cabin']\n",
    "del combined_train_test['Embarked']\n",
    "del combined_train_test['Name']\n",
    "del combined_train_test['Ticket']"
   ]
  },
  {
   "cell_type": "code",
   "execution_count": 42,
   "metadata": {
    "ExecuteTime": {
     "end_time": "2019-01-25T12:21:15.111343Z",
     "start_time": "2019-01-25T12:21:15.099596Z"
    }
   },
   "outputs": [
    {
     "name": "stdout",
     "output_type": "stream",
     "text": [
      "<class 'pandas.core.frame.DataFrame'>\n",
      "Int64Index: 1309 entries, 0 to 417\n",
      "Data columns (total 41 columns):\n",
      "Age                       1309 non-null float64\n",
      "Fare                      1309 non-null float64\n",
      "Parch                     1309 non-null int64\n",
      "PassengerId               1309 non-null int64\n",
      "Pclass                    1309 non-null int64\n",
      "Sex                       1309 non-null int64\n",
      "SibSp                     1309 non-null int64\n",
      "Survived                  1309 non-null int64\n",
      "Embarked_C                1309 non-null uint8\n",
      "Embarked_Q                1309 non-null uint8\n",
      "Embarked_S                1309 non-null uint8\n",
      "Fare_Category             1309 non-null int64\n",
      "Fare_Category_0           1309 non-null uint8\n",
      "Fare_Category_1           1309 non-null uint8\n",
      "Fare_Category_2           1309 non-null uint8\n",
      "Fare_Category_3           1309 non-null uint8\n",
      "Fare_Category_4           1309 non-null uint8\n",
      "Sex_female                1309 non-null uint8\n",
      "Sex_male                  1309 non-null uint8\n",
      "Title                     1309 non-null int64\n",
      "Title_0                   1309 non-null uint8\n",
      "Title_1                   1309 non-null uint8\n",
      "Title_2                   1309 non-null uint8\n",
      "Title_3                   1309 non-null uint8\n",
      "Title_4                   1309 non-null uint8\n",
      "Title_5                   1309 non-null uint8\n",
      "Pclass_Fare_Category      1309 non-null int64\n",
      "Pclass_0                  1309 non-null uint8\n",
      "Pclass_1                  1309 non-null uint8\n",
      "Pclass_2                  1309 non-null uint8\n",
      "Pclass_3                  1309 non-null uint8\n",
      "Pclass_4                  1309 non-null uint8\n",
      "Pclass_5                  1309 non-null uint8\n",
      "Family_Size               1309 non-null int64\n",
      "Family_Size_Category      1309 non-null int64\n",
      "Family_Size_Category_0    1309 non-null uint8\n",
      "Family_Size_Category_1    1309 non-null uint8\n",
      "Family_Size_Category_2    1309 non-null uint8\n",
      "Sex_0                     1309 non-null uint8\n",
      "Sex_1                     1309 non-null uint8\n",
      "Has_Cabin                 1309 non-null int64\n",
      "dtypes: float64(2), int64(12), uint8(27)\n",
      "memory usage: 227.9 KB\n"
     ]
    }
   ],
   "source": [
    "combined_train_test.info()"
   ]
  },
  {
   "cell_type": "markdown",
   "metadata": {},
   "source": [
    "# 4.建模,訓練,預測"
   ]
  },
  {
   "cell_type": "code",
   "execution_count": 43,
   "metadata": {
    "ExecuteTime": {
     "end_time": "2019-01-25T12:21:42.270406Z",
     "start_time": "2019-01-25T12:21:42.262765Z"
    }
   },
   "outputs": [],
   "source": [
    "#切測試訓練集\n",
    "train_data = combined_train_test[:891]\n",
    "test_data = combined_train_test[891:]\n",
    "#準備預測Survived\n",
    "titanic_train_data_X = train_data.drop(['Survived'],axis=1)\n",
    "titanic_train_data_Y = train_data['Survived']\n",
    "titanic_test_data_X = test_data.drop(['Survived'],axis=1)"
   ]
  },
  {
   "cell_type": "code",
   "execution_count": 37,
   "metadata": {
    "ExecuteTime": {
     "end_time": "2019-01-25T11:58:28.096769Z",
     "start_time": "2019-01-25T11:58:28.081865Z"
    }
   },
   "outputs": [],
   "source": [
    "#找重要特徵\n",
    "def get_top_n_features(titanic_train_data_X, titanic_train_data_Y, top_n_features):\n",
    "    # 随机森林\n",
    "    rf_est = RandomForestClassifier(random_state=42)\n",
    "    rf_param_grid = {'n_estimators': [500], 'min_samples_split': [2, 3], 'max_depth': [20]}\n",
    "    rf_grid = model_selection.GridSearchCV(rf_est, rf_param_grid, n_jobs=25, cv=10, verbose=1)\n",
    "    rf_grid.fit(titanic_train_data_X,titanic_train_data_Y)\n",
    "    #将feature按Importance排序\n",
    "    feature_imp_sorted_rf = pd.DataFrame({'feature': list(titanic_train_data_X), 'importance': rf_grid.best_estimator_.feature_importances_}).sort_values('importance', ascending=False)\n",
    "    features_top_n_rf = feature_imp_sorted_rf.head(top_n_features)['feature']\n",
    "    print('Sample 25 Features from RF Classifier')\n",
    "    print(str(features_top_n_rf[:25]))\n",
    "    \n",
    "    # AdaBoost\n",
    "    ada_est = ensemble.AdaBoostClassifier(random_state=42)\n",
    "    ada_param_grid = {'n_estimators': [500], 'learning_rate': [0.5, 0.6]}\n",
    "    ada_grid = model_selection.GridSearchCV(ada_est, ada_param_grid, n_jobs=25, cv=10, verbose=1)\n",
    "    ada_grid.fit(titanic_train_data_X, titanic_train_data_Y)\n",
    "    #排序\n",
    "    feature_imp_sorted_ada = pd.DataFrame({'feature': list(titanic_train_data_X),'importance': ada_grid.best_estimator_.feature_importances_}).sort_values( 'importance', ascending=False)\n",
    "    features_top_n_ada = feature_imp_sorted_ada.head(top_n_features)['feature']\n",
    "    \n",
    "    # ExtraTree\n",
    "    et_est = ensemble.ExtraTreesClassifier(random_state=42)\n",
    "    et_param_grid = {'n_estimators': [500], 'min_samples_split': [3, 4], 'max_depth': [15]}\n",
    "    et_grid = model_selection.GridSearchCV(et_est, et_param_grid, n_jobs=25, cv=10, verbose=1)\n",
    "    et_grid.fit(titanic_train_data_X, titanic_train_data_Y)\n",
    "    #排序\n",
    "    feature_imp_sorted_et = pd.DataFrame({'feature': list(titanic_train_data_X), 'importance': et_grid.best_estimator_.feature_importances_}).sort_values('importance', ascending=False)\n",
    "    features_top_n_et = feature_imp_sorted_et.head(top_n_features)['feature']\n",
    "    print('Sample 25 Features from ET Classifier:')\n",
    "    print(str(features_top_n_et[:25]))\n",
    "    \n",
    "    # 将三个模型挑选出来的前features_top_n_et合并\n",
    "    features_top_n = pd.concat([features_top_n_rf, features_top_n_ada, features_top_n_et], ignore_index=True).drop_duplicates()\n",
    "    \n",
    "    return features_top_n"
   ]
  },
  {
   "cell_type": "code",
   "execution_count": 55,
   "metadata": {
    "ExecuteTime": {
     "end_time": "2019-01-25T13:35:43.315915Z",
     "start_time": "2019-01-25T13:34:20.232268Z"
    }
   },
   "outputs": [
    {
     "name": "stdout",
     "output_type": "stream",
     "text": [
      "Fitting 10 folds for each of 2 candidates, totalling 20 fits\n"
     ]
    },
    {
     "name": "stderr",
     "output_type": "stream",
     "text": [
      "[Parallel(n_jobs=25)]: Using backend LokyBackend with 25 concurrent workers.\n",
      "[Parallel(n_jobs=25)]: Done  13 out of  20 | elapsed:  1.0min remaining:   32.8s\n",
      "[Parallel(n_jobs=25)]: Done  20 out of  20 | elapsed:  1.0min finished\n"
     ]
    },
    {
     "name": "stdout",
     "output_type": "stream",
     "text": [
      "Sample 25 Features from RF Classifier\n",
      "0                PassengerId\n",
      "1                        Age\n",
      "2                       Fare\n",
      "3                      Title\n",
      "4                    Title_0\n",
      "6                   Sex_male\n",
      "9                        Sex\n",
      "7                 Sex_female\n",
      "5                      Sex_0\n",
      "10      Pclass_Fare_Category\n",
      "8                      Sex_1\n",
      "11               Family_Size\n",
      "13                 Has_Cabin\n",
      "12                    Pclass\n",
      "14      Family_Size_Category\n",
      "15                     SibSp\n",
      "17             Fare_Category\n",
      "16                Embarked_S\n",
      "18                     Parch\n",
      "23    Family_Size_Category_2\n",
      "21           Fare_Category_1\n",
      "22                   Title_2\n",
      "25                Embarked_C\n",
      "24                  Pclass_5\n",
      "20    Family_Size_Category_0\n",
      "Name: feature, dtype: object\n",
      "Fitting 10 folds for each of 2 candidates, totalling 20 fits\n"
     ]
    },
    {
     "name": "stderr",
     "output_type": "stream",
     "text": [
      "[Parallel(n_jobs=25)]: Using backend LokyBackend with 25 concurrent workers.\n",
      "[Parallel(n_jobs=25)]: Done  13 out of  20 | elapsed:    7.9s remaining:    4.3s\n",
      "[Parallel(n_jobs=25)]: Done  20 out of  20 | elapsed:   11.8s finished\n",
      "/Users/yumei/anaconda3/envs/py36/lib/python3.6/site-packages/sklearn/model_selection/_search.py:841: DeprecationWarning: The default of the `iid` parameter will change from True to False in version 0.22 and will be removed in 0.24. This will change numeric results when test-set sizes are unequal.\n",
      "  DeprecationWarning)\n"
     ]
    },
    {
     "name": "stdout",
     "output_type": "stream",
     "text": [
      "Fitting 10 folds for each of 2 candidates, totalling 20 fits\n"
     ]
    },
    {
     "name": "stderr",
     "output_type": "stream",
     "text": [
      "[Parallel(n_jobs=25)]: Using backend LokyBackend with 25 concurrent workers.\n",
      "[Parallel(n_jobs=25)]: Done  13 out of  20 | elapsed:    7.5s remaining:    4.0s\n",
      "[Parallel(n_jobs=25)]: Done  20 out of  20 | elapsed:    7.5s finished\n"
     ]
    },
    {
     "name": "stdout",
     "output_type": "stream",
     "text": [
      "Sample 25 Features from ET Classifier:\n",
      "4                    Title_0\n",
      "5                      Sex_0\n",
      "1                        Age\n",
      "0                PassengerId\n",
      "6                   Sex_male\n",
      "2                       Fare\n",
      "8                      Sex_1\n",
      "9                        Sex\n",
      "7                 Sex_female\n",
      "3                      Title\n",
      "13                 Has_Cabin\n",
      "10      Pclass_Fare_Category\n",
      "20    Family_Size_Category_0\n",
      "12                    Pclass\n",
      "21           Fare_Category_1\n",
      "14      Family_Size_Category\n",
      "11               Family_Size\n",
      "23    Family_Size_Category_2\n",
      "26                   Title_3\n",
      "24                  Pclass_5\n",
      "16                Embarked_S\n",
      "15                     SibSp\n",
      "18                     Parch\n",
      "19                   Title_1\n",
      "27                  Pclass_4\n",
      "Name: feature, dtype: object\n"
     ]
    }
   ],
   "source": [
    "feature_to_pick = 40\n",
    "feature_top_n = get_top_n_features(titanic_train_data_X,titanic_train_data_Y,feature_to_pick)\n",
    "titanic_train_data_X = titanic_train_data_X[feature_top_n]"
   ]
  },
  {
   "cell_type": "code",
   "execution_count": 56,
   "metadata": {
    "ExecuteTime": {
     "end_time": "2019-01-25T13:40:45.033025Z",
     "start_time": "2019-01-25T13:40:39.479791Z"
    }
   },
   "outputs": [
    {
     "data": {
      "text/plain": [
       "VotingClassifier(estimators=[('rf', RandomForestClassifier(bootstrap=True, class_weight=None, criterion='gini',\n",
       "            max_depth=3, max_features='sqrt', max_leaf_nodes=None,\n",
       "            min_impurity_decrease=0.0, min_impurity_split=None,\n",
       "            min_samples_leaf=2, min_samples_split=4,\n",
       "            min_weigh...timators=750, n_jobs=50,\n",
       "           oob_score=False, random_state=42, verbose=1, warm_start=False))],\n",
       "         flatten_transform=None, n_jobs=50, voting='soft',\n",
       "         weights=[3, 5, 2])"
      ]
     },
     "execution_count": 56,
     "metadata": {},
     "output_type": "execute_result"
    }
   ],
   "source": [
    "rf_est = ensemble.RandomForestClassifier(n_estimators = 750, criterion = 'gini', max_features = 'sqrt',max_depth = 3, min_samples_split = 4, min_samples_leaf = 2,n_jobs = 50, random_state = 42, verbose = 1)\n",
    "gbm_est = ensemble.GradientBoostingClassifier(n_estimators=900, learning_rate=0.0008, loss='exponential',min_samples_split=3, min_samples_leaf=2, max_features='sqrt',max_depth=3, random_state=42, verbose=1)\n",
    "et_est = ensemble.ExtraTreesClassifier(n_estimators=750, max_features='sqrt', max_depth=35, n_jobs=50,criterion='entropy', random_state=42, verbose=1)\n",
    "voting_est = ensemble.VotingClassifier(estimators = [('rf', rf_est),('gbm', gbm_est),('et', et_est)],voting = 'soft', weights = [3,5,2],n_jobs = 50)\n",
    "voting_est.fit(titanic_train_data_X,titanic_train_data_Y)"
   ]
  },
  {
   "cell_type": "code",
   "execution_count": 59,
   "metadata": {
    "ExecuteTime": {
     "end_time": "2019-01-25T13:44:25.138709Z",
     "start_time": "2019-01-25T13:44:25.134722Z"
    }
   },
   "outputs": [],
   "source": [
    "del titanic_test_data_X['Survived']"
   ]
  },
  {
   "cell_type": "markdown",
   "metadata": {},
   "source": [
    "# 5.產生csv上傳"
   ]
  },
  {
   "cell_type": "code",
   "execution_count": 60,
   "metadata": {
    "ExecuteTime": {
     "end_time": "2019-01-25T13:44:34.541470Z",
     "start_time": "2019-01-25T13:44:33.863891Z"
    }
   },
   "outputs": [
    {
     "name": "stderr",
     "output_type": "stream",
     "text": [
      "[Parallel(n_jobs=50)]: Using backend ThreadingBackend with 50 concurrent workers.\n",
      "[Parallel(n_jobs=50)]: Done 100 tasks      | elapsed:    0.1s\n",
      "[Parallel(n_jobs=50)]: Done 350 tasks      | elapsed:    0.1s\n",
      "[Parallel(n_jobs=50)]: Done 750 out of 750 | elapsed:    0.2s finished\n",
      "[Parallel(n_jobs=50)]: Using backend ThreadingBackend with 50 concurrent workers.\n",
      "[Parallel(n_jobs=50)]: Done 100 tasks      | elapsed:    0.0s\n",
      "[Parallel(n_jobs=50)]: Done 350 tasks      | elapsed:    0.1s\n",
      "[Parallel(n_jobs=50)]: Done 750 out of 750 | elapsed:    0.2s finished\n"
     ]
    }
   ],
   "source": [
    "titanic_test_data_X['Survived'] = voting_est.predict(titanic_test_data_X)\n",
    "submission = pd.DataFrame({'PassengerId':test_data.loc[:,'PassengerId'],'Survived':titanic_test_data_X.loc[:,'Survived']})\n",
    "submission.to_csv('Submission.csv',index=False,sep=',')\n"
   ]
  },
  {
   "cell_type": "code",
   "execution_count": null,
   "metadata": {},
   "outputs": [],
   "source": []
  },
  {
   "cell_type": "markdown",
   "metadata": {},
   "source": [
    "# 6.參考資料"
   ]
  },
  {
   "cell_type": "markdown",
   "metadata": {},
   "source": [
    "dummy values: https://blog.csdn.net/weiwei9363/article/details/78255210"
   ]
  },
  {
   "cell_type": "markdown",
   "metadata": {},
   "source": [
    "https://zhuanlan.zhihu.com/p/30538352"
   ]
  }
 ],
 "metadata": {
  "kernelspec": {
   "display_name": "Python 3",
   "language": "python",
   "name": "python3"
  },
  "language_info": {
   "codemirror_mode": {
    "name": "ipython",
    "version": 3
   },
   "file_extension": ".py",
   "mimetype": "text/x-python",
   "name": "python",
   "nbconvert_exporter": "python",
   "pygments_lexer": "ipython3",
   "version": "3.6.6"
  },
  "varInspector": {
   "cols": {
    "lenName": 16,
    "lenType": 16,
    "lenVar": 40
   },
   "kernels_config": {
    "python": {
     "delete_cmd_postfix": "",
     "delete_cmd_prefix": "del ",
     "library": "var_list.py",
     "varRefreshCmd": "print(var_dic_list())"
    },
    "r": {
     "delete_cmd_postfix": ") ",
     "delete_cmd_prefix": "rm(",
     "library": "var_list.r",
     "varRefreshCmd": "cat(var_dic_list()) "
    }
   },
   "types_to_exclude": [
    "module",
    "function",
    "builtin_function_or_method",
    "instance",
    "_Feature"
   ],
   "window_display": false
  }
 },
 "nbformat": 4,
 "nbformat_minor": 2
}
